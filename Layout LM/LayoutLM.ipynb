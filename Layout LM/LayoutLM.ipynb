{
  "nbformat": 4,
  "nbformat_minor": 0,
  "metadata": {
    "colab": {
      "name": "Fine-tuning LayoutLMForTokenClassification on FUNSD.ipynb",
      "provenance": [],
      "collapsed_sections": [],
      "toc_visible": true
    },
    "kernelspec": {
      "name": "python3",
      "display_name": "Python 3"
    },
    "accelerator": "GPU"
  },
  "cells": [
    {
      "cell_type": "code",
      "metadata": {
        "colab": {
          "base_uri": "https://localhost:8080/",
          "height": 1000
        },
        "id": "5cngOTr6SqEf",
        "outputId": "018746d4-17e0-446a-8fc3-c9b860f6e0d7"
      },
      "source": [
        "! rm -r unilm\n",
        "! git clone -b remove_torch_save https://github.com/NielsRogge/unilm.git\n",
        "! cd unilm/layoutlm\n",
        "! pip install unilm/layoutlm"
      ],
      "execution_count": 41,
      "outputs": [
        {
          "output_type": "stream",
          "text": [
            "Cloning into 'unilm'...\n",
            "remote: Enumerating objects: 797, done.\u001b[K\n",
            "remote: Total 797 (delta 0), reused 0 (delta 0), pack-reused 797\u001b[K\n",
            "Receiving objects: 100% (797/797), 439.18 KiB | 11.56 MiB/s, done.\n",
            "Resolving deltas: 100% (441/441), done.\n",
            "Processing ./unilm/layoutlm\n",
            "\u001b[33m  DEPRECATION: A future pip version will change local packages to be built in-place without first copying to a temporary directory. We recommend you use --use-feature=in-tree-build to test your packages with this new behavior before it becomes the default.\n",
            "   pip 21.3 will remove support for this functionality. You can find discussion regarding this at https://github.com/pypa/pip/issues/7555.\u001b[0m\n",
            "Collecting transformers==2.9.0\n",
            "  Using cached transformers-2.9.0-py3-none-any.whl (635 kB)\n",
            "Requirement already satisfied: tensorboardX==2.0 in /usr/local/lib/python3.7/dist-packages (from layoutlm==0.0) (2.0)\n",
            "Requirement already satisfied: lxml==4.5.1 in /usr/local/lib/python3.7/dist-packages (from layoutlm==0.0) (4.5.1)\n",
            "Requirement already satisfied: seqeval==0.0.12 in /usr/local/lib/python3.7/dist-packages (from layoutlm==0.0) (0.0.12)\n",
            "Requirement already satisfied: Pillow==7.1.2 in /usr/local/lib/python3.7/dist-packages (from layoutlm==0.0) (7.1.2)\n",
            "Requirement already satisfied: Keras>=2.2.4 in /usr/local/lib/python3.7/dist-packages (from seqeval==0.0.12->layoutlm==0.0) (2.4.3)\n",
            "Requirement already satisfied: numpy>=1.14.0 in /usr/local/lib/python3.7/dist-packages (from seqeval==0.0.12->layoutlm==0.0) (1.19.5)\n",
            "Requirement already satisfied: protobuf>=3.8.0 in /usr/local/lib/python3.7/dist-packages (from tensorboardX==2.0->layoutlm==0.0) (3.17.3)\n",
            "Requirement already satisfied: six in /usr/local/lib/python3.7/dist-packages (from tensorboardX==2.0->layoutlm==0.0) (1.15.0)\n",
            "Collecting tokenizers==0.7.0\n",
            "  Using cached tokenizers-0.7.0-cp37-cp37m-manylinux1_x86_64.whl (5.6 MB)\n",
            "Requirement already satisfied: regex!=2019.12.17 in /usr/local/lib/python3.7/dist-packages (from transformers==2.9.0->layoutlm==0.0) (2019.12.20)\n",
            "Requirement already satisfied: sacremoses in /usr/local/lib/python3.7/dist-packages (from transformers==2.9.0->layoutlm==0.0) (0.0.45)\n",
            "Requirement already satisfied: tqdm>=4.27 in /usr/local/lib/python3.7/dist-packages (from transformers==2.9.0->layoutlm==0.0) (4.41.1)\n",
            "Requirement already satisfied: sentencepiece in /usr/local/lib/python3.7/dist-packages (from transformers==2.9.0->layoutlm==0.0) (0.1.96)\n",
            "Requirement already satisfied: filelock in /usr/local/lib/python3.7/dist-packages (from transformers==2.9.0->layoutlm==0.0) (3.0.12)\n",
            "Requirement already satisfied: requests in /usr/local/lib/python3.7/dist-packages (from transformers==2.9.0->layoutlm==0.0) (2.23.0)\n",
            "Requirement already satisfied: scipy>=0.14 in /usr/local/lib/python3.7/dist-packages (from Keras>=2.2.4->seqeval==0.0.12->layoutlm==0.0) (1.4.1)\n",
            "Requirement already satisfied: h5py in /usr/local/lib/python3.7/dist-packages (from Keras>=2.2.4->seqeval==0.0.12->layoutlm==0.0) (3.1.0)\n",
            "Requirement already satisfied: pyyaml in /usr/local/lib/python3.7/dist-packages (from Keras>=2.2.4->seqeval==0.0.12->layoutlm==0.0) (5.4.1)\n",
            "Requirement already satisfied: cached-property in /usr/local/lib/python3.7/dist-packages (from h5py->Keras>=2.2.4->seqeval==0.0.12->layoutlm==0.0) (1.5.2)\n",
            "Requirement already satisfied: urllib3!=1.25.0,!=1.25.1,<1.26,>=1.21.1 in /usr/local/lib/python3.7/dist-packages (from requests->transformers==2.9.0->layoutlm==0.0) (1.24.3)\n",
            "Requirement already satisfied: certifi>=2017.4.17 in /usr/local/lib/python3.7/dist-packages (from requests->transformers==2.9.0->layoutlm==0.0) (2021.5.30)\n",
            "Requirement already satisfied: idna<3,>=2.5 in /usr/local/lib/python3.7/dist-packages (from requests->transformers==2.9.0->layoutlm==0.0) (2.10)\n",
            "Requirement already satisfied: chardet<4,>=3.0.2 in /usr/local/lib/python3.7/dist-packages (from requests->transformers==2.9.0->layoutlm==0.0) (3.0.4)\n",
            "Requirement already satisfied: click in /usr/local/lib/python3.7/dist-packages (from sacremoses->transformers==2.9.0->layoutlm==0.0) (7.1.2)\n",
            "Requirement already satisfied: joblib in /usr/local/lib/python3.7/dist-packages (from sacremoses->transformers==2.9.0->layoutlm==0.0) (1.0.1)\n",
            "Building wheels for collected packages: layoutlm\n",
            "  Building wheel for layoutlm (setup.py) ... \u001b[?25l\u001b[?25hdone\n",
            "  Created wheel for layoutlm: filename=layoutlm-0.0-py3-none-any.whl size=11485 sha256=e123e5a2917e2754ad1f52cbbffa2156697c5dbe639933c956af56aa30d153c4\n",
            "  Stored in directory: /tmp/pip-ephem-wheel-cache-ou6yq78o/wheels/ce/83/11/541e5dad69eb41732abc7eaa2efde047a655aaae9c6df0fe15\n",
            "Successfully built layoutlm\n",
            "Installing collected packages: tokenizers, transformers, layoutlm\n",
            "  Attempting uninstall: tokenizers\n",
            "    Found existing installation: tokenizers 0.10.3\n",
            "    Uninstalling tokenizers-0.10.3:\n",
            "      Successfully uninstalled tokenizers-0.10.3\n",
            "  Attempting uninstall: transformers\n",
            "    Found existing installation: transformers 4.10.0.dev0\n",
            "    Uninstalling transformers-4.10.0.dev0:\n",
            "      Successfully uninstalled transformers-4.10.0.dev0\n",
            "  Attempting uninstall: layoutlm\n",
            "    Found existing installation: layoutlm 0.0\n",
            "    Uninstalling layoutlm-0.0:\n",
            "      Successfully uninstalled layoutlm-0.0\n",
            "Successfully installed layoutlm-0.0 tokenizers-0.7.0 transformers-2.9.0\n"
          ],
          "name": "stdout"
        },
        {
          "output_type": "display_data",
          "data": {
            "application/vnd.colab-display-data+json": {
              "pip_warning": {
                "packages": [
                  "layoutlm",
                  "tokenizers",
                  "transformers"
                ]
              }
            }
          },
          "metadata": {
            "tags": []
          }
        }
      ]
    },
    {
      "cell_type": "code",
      "metadata": {
        "colab": {
          "base_uri": "https://localhost:8080/",
          "height": 1000
        },
        "id": "Sszed__jQgqW",
        "outputId": "cf8466de-0cae-4b61-bda2-b850ae384537"
      },
      "source": [
        "! rm -r transformers\n",
        "! git clone https://github.com/huggingface/transformers.git\n",
        "! cd transformers\n",
        "! pip install ./transformers"
      ],
      "execution_count": 42,
      "outputs": [
        {
          "output_type": "stream",
          "text": [
            "Cloning into 'transformers'...\n",
            "remote: Enumerating objects: 79058, done.\u001b[K\n",
            "remote: Counting objects: 100% (757/757), done.\u001b[K\n",
            "remote: Compressing objects: 100% (443/443), done.\u001b[K\n",
            "remote: Total 79058 (delta 408), reused 547 (delta 269), pack-reused 78301\u001b[K\n",
            "Receiving objects: 100% (79058/79058), 62.79 MiB | 28.51 MiB/s, done.\n",
            "Resolving deltas: 100% (56360/56360), done.\n",
            "Processing ./transformers\n",
            "\u001b[33m  DEPRECATION: A future pip version will change local packages to be built in-place without first copying to a temporary directory. We recommend you use --use-feature=in-tree-build to test your packages with this new behavior before it becomes the default.\n",
            "   pip 21.3 will remove support for this functionality. You can find discussion regarding this at https://github.com/pypa/pip/issues/7555.\u001b[0m\n",
            "  Installing build dependencies ... \u001b[?25l\u001b[?25hdone\n",
            "  Getting requirements to build wheel ... \u001b[?25l\u001b[?25hdone\n",
            "    Preparing wheel metadata ... \u001b[?25l\u001b[?25hdone\n",
            "Requirement already satisfied: pyyaml>=5.1 in /usr/local/lib/python3.7/dist-packages (from transformers==4.10.0.dev0) (5.4.1)\n",
            "Requirement already satisfied: tqdm>=4.27 in /usr/local/lib/python3.7/dist-packages (from transformers==4.10.0.dev0) (4.41.1)\n",
            "Requirement already satisfied: numpy>=1.17 in /usr/local/lib/python3.7/dist-packages (from transformers==4.10.0.dev0) (1.19.5)\n",
            "Requirement already satisfied: huggingface-hub==0.0.12 in /usr/local/lib/python3.7/dist-packages (from transformers==4.10.0.dev0) (0.0.12)\n",
            "Requirement already satisfied: regex!=2019.12.17 in /usr/local/lib/python3.7/dist-packages (from transformers==4.10.0.dev0) (2019.12.20)\n",
            "Collecting tokenizers<0.11,>=0.10.1\n",
            "  Using cached tokenizers-0.10.3-cp37-cp37m-manylinux_2_5_x86_64.manylinux1_x86_64.manylinux_2_12_x86_64.manylinux2010_x86_64.whl (3.3 MB)\n",
            "Requirement already satisfied: importlib-metadata in /usr/local/lib/python3.7/dist-packages (from transformers==4.10.0.dev0) (4.6.1)\n",
            "Requirement already satisfied: requests in /usr/local/lib/python3.7/dist-packages (from transformers==4.10.0.dev0) (2.23.0)\n",
            "Requirement already satisfied: filelock in /usr/local/lib/python3.7/dist-packages (from transformers==4.10.0.dev0) (3.0.12)\n",
            "Requirement already satisfied: packaging in /usr/local/lib/python3.7/dist-packages (from transformers==4.10.0.dev0) (21.0)\n",
            "Requirement already satisfied: sacremoses in /usr/local/lib/python3.7/dist-packages (from transformers==4.10.0.dev0) (0.0.45)\n",
            "Requirement already satisfied: typing-extensions in /usr/local/lib/python3.7/dist-packages (from huggingface-hub==0.0.12->transformers==4.10.0.dev0) (3.7.4.3)\n",
            "Requirement already satisfied: pyparsing>=2.0.2 in /usr/local/lib/python3.7/dist-packages (from packaging->transformers==4.10.0.dev0) (2.4.7)\n",
            "Requirement already satisfied: zipp>=0.5 in /usr/local/lib/python3.7/dist-packages (from importlib-metadata->transformers==4.10.0.dev0) (3.5.0)\n",
            "Requirement already satisfied: chardet<4,>=3.0.2 in /usr/local/lib/python3.7/dist-packages (from requests->transformers==4.10.0.dev0) (3.0.4)\n",
            "Requirement already satisfied: idna<3,>=2.5 in /usr/local/lib/python3.7/dist-packages (from requests->transformers==4.10.0.dev0) (2.10)\n",
            "Requirement already satisfied: certifi>=2017.4.17 in /usr/local/lib/python3.7/dist-packages (from requests->transformers==4.10.0.dev0) (2021.5.30)\n",
            "Requirement already satisfied: urllib3!=1.25.0,!=1.25.1,<1.26,>=1.21.1 in /usr/local/lib/python3.7/dist-packages (from requests->transformers==4.10.0.dev0) (1.24.3)\n",
            "Requirement already satisfied: six in /usr/local/lib/python3.7/dist-packages (from sacremoses->transformers==4.10.0.dev0) (1.15.0)\n",
            "Requirement already satisfied: joblib in /usr/local/lib/python3.7/dist-packages (from sacremoses->transformers==4.10.0.dev0) (1.0.1)\n",
            "Requirement already satisfied: click in /usr/local/lib/python3.7/dist-packages (from sacremoses->transformers==4.10.0.dev0) (7.1.2)\n",
            "Building wheels for collected packages: transformers\n",
            "  Building wheel for transformers (PEP 517) ... \u001b[?25l\u001b[?25hdone\n",
            "  Created wheel for transformers: filename=transformers-4.10.0.dev0-py3-none-any.whl size=2623885 sha256=78c62acc181207d9e7ea6f118dc364daba0f0a1191a2d688c6bbf231cd3e3632\n",
            "  Stored in directory: /tmp/pip-ephem-wheel-cache-6r5qjjy5/wheels/49/62/f4/6730819eed4e6468662b1519bf3bf46419b2335990c77f8767\n",
            "Successfully built transformers\n",
            "Installing collected packages: tokenizers, transformers\n",
            "  Attempting uninstall: tokenizers\n",
            "    Found existing installation: tokenizers 0.7.0\n",
            "    Uninstalling tokenizers-0.7.0:\n",
            "      Successfully uninstalled tokenizers-0.7.0\n",
            "  Attempting uninstall: transformers\n",
            "    Found existing installation: transformers 2.9.0\n",
            "    Uninstalling transformers-2.9.0:\n",
            "      Successfully uninstalled transformers-2.9.0\n",
            "\u001b[31mERROR: pip's dependency resolver does not currently take into account all the packages that are installed. This behaviour is the source of the following dependency conflicts.\n",
            "layoutlm 0.0 requires transformers==2.9.0, but you have transformers 4.10.0.dev0 which is incompatible.\u001b[0m\n",
            "Successfully installed tokenizers-0.10.3 transformers-4.10.0.dev0\n"
          ],
          "name": "stdout"
        },
        {
          "output_type": "display_data",
          "data": {
            "application/vnd.colab-display-data+json": {
              "pip_warning": {
                "packages": [
                  "tokenizers",
                  "transformers"
                ]
              }
            }
          },
          "metadata": {
            "tags": []
          }
        }
      ]
    },
    {
      "cell_type": "code",
      "metadata": {
        "colab": {
          "base_uri": "https://localhost:8080/"
        },
        "id": "DTFnEZagQm4v",
        "outputId": "dda9978d-2c04-48db-b4eb-0a607258b2c9"
      },
      "source": [
        "! wget https://guillaumejaume.github.io/FUNSD/dataset.zip\n",
        "! unzip dataset.zip && mv dataset data && rm -rf dataset.zip __MACOSX"
      ],
      "execution_count": 43,
      "outputs": [
        {
          "output_type": "stream",
          "text": [
            "--2021-07-27 18:50:34--  https://guillaumejaume.github.io/FUNSD/dataset.zip\n",
            "Resolving guillaumejaume.github.io (guillaumejaume.github.io)... 185.199.109.153, 185.199.110.153, 185.199.111.153, ...\n",
            "Connecting to guillaumejaume.github.io (guillaumejaume.github.io)|185.199.109.153|:443... connected.\n",
            "HTTP request sent, awaiting response... 200 OK\n",
            "Length: 16838830 (16M) [application/zip]\n",
            "Saving to: ‘dataset.zip’\n",
            "\n",
            "dataset.zip         100%[===================>]  16.06M  --.-KB/s    in 0.1s    \n",
            "\n",
            "2021-07-27 18:50:37 (164 MB/s) - ‘dataset.zip’ saved [16838830/16838830]\n",
            "\n",
            "Archive:  dataset.zip\n",
            "   creating: dataset/\n",
            "   creating: dataset/training_data/\n",
            "  inflating: dataset/training_data/.DS_Store  \n",
            "   creating: __MACOSX/\n",
            "   creating: __MACOSX/dataset/\n",
            "   creating: __MACOSX/dataset/training_data/\n",
            "  inflating: __MACOSX/dataset/training_data/._.DS_Store  \n",
            "   creating: dataset/training_data/images/\n",
            "  inflating: dataset/training_data/images/92091873.png  \n",
            "   creating: __MACOSX/dataset/training_data/images/\n",
            "  inflating: __MACOSX/dataset/training_data/images/._92091873.png  \n",
            "  inflating: dataset/training_data/images/91939637.png  \n",
            "  inflating: __MACOSX/dataset/training_data/images/._91939637.png  \n",
            "  inflating: dataset/training_data/images/87533049.png  \n",
            "  inflating: __MACOSX/dataset/training_data/images/._87533049.png  \n",
            "  inflating: dataset/training_data/images/01073843.png  \n",
            "  inflating: __MACOSX/dataset/training_data/images/._01073843.png  \n",
            "  inflating: dataset/training_data/images/92586242.png  \n",
            "  inflating: __MACOSX/dataset/training_data/images/._92586242.png  \n",
            "  inflating: dataset/training_data/images/0012529284.png  \n",
            "  inflating: __MACOSX/dataset/training_data/images/._0012529284.png  \n",
            "  inflating: dataset/training_data/images/71341634.png  \n",
            "  inflating: __MACOSX/dataset/training_data/images/._71341634.png  \n",
            "  inflating: dataset/training_data/images/0001477983.png  \n",
            "  inflating: __MACOSX/dataset/training_data/images/._0001477983.png  \n",
            "  inflating: dataset/training_data/images/91315069_91315070.png  \n",
            "  inflating: __MACOSX/dataset/training_data/images/._91315069_91315070.png  \n",
            "  inflating: dataset/training_data/images/0060207528.png  \n",
            "  inflating: __MACOSX/dataset/training_data/images/._0060207528.png  \n",
            "  inflating: dataset/training_data/images/91161344_91161347.png  \n",
            "  inflating: __MACOSX/dataset/training_data/images/._91161344_91161347.png  \n",
            "  inflating: dataset/training_data/images/71366499.png  \n",
            "  inflating: __MACOSX/dataset/training_data/images/._71366499.png  \n",
            "  inflating: dataset/training_data/images/00922237.png  \n",
            "  inflating: __MACOSX/dataset/training_data/images/._00922237.png  \n",
            "  inflating: dataset/training_data/images/91355841.png  \n",
            "  inflating: __MACOSX/dataset/training_data/images/._91355841.png  \n",
            "  inflating: dataset/training_data/images/93380187.png  \n",
            "  inflating: __MACOSX/dataset/training_data/images/._93380187.png  \n",
            "  inflating: dataset/training_data/images/01150773_01150774.png  \n",
            "  inflating: __MACOSX/dataset/training_data/images/._01150773_01150774.png  \n",
            "  inflating: dataset/training_data/images/0060165115.png  \n",
            "  inflating: __MACOSX/dataset/training_data/images/._0060165115.png  \n",
            "  inflating: dataset/training_data/images/91914407.png  \n",
            "  inflating: __MACOSX/dataset/training_data/images/._91914407.png  \n",
            "  inflating: dataset/training_data/images/92081358_1359.png  \n",
            "  inflating: __MACOSX/dataset/training_data/images/._92081358_1359.png  \n",
            "  inflating: dataset/training_data/images/660978.png  \n",
            "  inflating: __MACOSX/dataset/training_data/images/._660978.png  \n",
            "  inflating: dataset/training_data/images/0011974919.png  \n",
            "  inflating: __MACOSX/dataset/training_data/images/._0011974919.png  \n",
            "  inflating: dataset/training_data/images/81749056_9057.png  \n",
            "  inflating: __MACOSX/dataset/training_data/images/._81749056_9057.png  \n",
            "  inflating: dataset/training_data/images/00093726.png  \n",
            "  inflating: __MACOSX/dataset/training_data/images/._00093726.png  \n",
            "  inflating: dataset/training_data/images/0000999294.png  \n",
            "  inflating: __MACOSX/dataset/training_data/images/._0000999294.png  \n",
            "  inflating: dataset/training_data/images/81186212.png  \n",
            "  inflating: __MACOSX/dataset/training_data/images/._81186212.png  \n",
            "  inflating: dataset/training_data/images/0060077689.png  \n",
            "  inflating: __MACOSX/dataset/training_data/images/._0060077689.png  \n",
            "  inflating: dataset/training_data/images/87672097.png  \n",
            "  inflating: __MACOSX/dataset/training_data/images/._87672097.png  \n",
            "  inflating: dataset/training_data/images/11875011.png  \n",
            "  inflating: __MACOSX/dataset/training_data/images/._11875011.png  \n",
            "  inflating: dataset/training_data/images/00851772_1780.png  \n",
            "  inflating: __MACOSX/dataset/training_data/images/._00851772_1780.png  \n",
            "  inflating: dataset/training_data/images/0011859695.png  \n",
            "  inflating: __MACOSX/dataset/training_data/images/._0011859695.png  \n",
            "  inflating: dataset/training_data/images/81619511_9513.png  \n",
            "  inflating: __MACOSX/dataset/training_data/images/._81619511_9513.png  \n",
            "  inflating: dataset/training_data/images/0001456787.png  \n",
            "  inflating: __MACOSX/dataset/training_data/images/._0001456787.png  \n",
            "  inflating: dataset/training_data/images/81310636.png  \n",
            "  inflating: __MACOSX/dataset/training_data/images/._81310636.png  \n",
            "  inflating: dataset/training_data/images/0060080406.png  \n",
            "  inflating: __MACOSX/dataset/training_data/images/._0060080406.png  \n",
            "  inflating: dataset/training_data/images/0011973451.png  \n",
            "  inflating: __MACOSX/dataset/training_data/images/._0011973451.png  \n",
            "  inflating: dataset/training_data/images/91104867.png  \n",
            "  inflating: __MACOSX/dataset/training_data/images/._91104867.png  \n",
            "  inflating: dataset/training_data/images/00836244.png  \n",
            "  inflating: __MACOSX/dataset/training_data/images/._00836244.png  \n",
            "  inflating: dataset/training_data/images/0001476912.png  \n",
            "  inflating: __MACOSX/dataset/training_data/images/._0001476912.png  \n",
            "  inflating: dataset/training_data/images/12052385.png  \n",
            "  inflating: __MACOSX/dataset/training_data/images/._12052385.png  \n",
            "  inflating: dataset/training_data/images/0060255888.png  \n",
            "  inflating: __MACOSX/dataset/training_data/images/._0060255888.png  \n",
            "  inflating: dataset/training_data/images/71206427.png  \n",
            "  inflating: __MACOSX/dataset/training_data/images/._71206427.png  \n",
            "  inflating: dataset/training_data/images/0012199830.png  \n",
            "  inflating: __MACOSX/dataset/training_data/images/._0012199830.png  \n",
            "  inflating: dataset/training_data/images/0001463448.png  \n",
            "  inflating: __MACOSX/dataset/training_data/images/._0001463448.png  \n",
            "  inflating: dataset/training_data/images/0000990274.png  \n",
            "  inflating: __MACOSX/dataset/training_data/images/._0000990274.png  \n",
            "  inflating: dataset/training_data/images/716552.png  \n",
            "  inflating: __MACOSX/dataset/training_data/images/._716552.png  \n",
            "  inflating: dataset/training_data/images/00920222.png  \n",
            "  inflating: __MACOSX/dataset/training_data/images/._00920222.png  \n",
            "  inflating: dataset/training_data/images/0012529295.png  \n",
            "  inflating: __MACOSX/dataset/training_data/images/._0012529295.png  \n",
            "  inflating: dataset/training_data/images/80728670.png  \n",
            "  inflating: __MACOSX/dataset/training_data/images/._80728670.png  \n",
            "  inflating: dataset/training_data/images/93213298.png  \n",
            "  inflating: __MACOSX/dataset/training_data/images/._93213298.png  \n",
            "  inflating: dataset/training_data/images/71108371.png  \n",
            "  inflating: __MACOSX/dataset/training_data/images/._71108371.png  \n",
            "  inflating: dataset/training_data/images/0001209043.png  \n",
            "  inflating: __MACOSX/dataset/training_data/images/._0001209043.png  \n",
            "  inflating: dataset/training_data/images/88057519.png  \n",
            "  inflating: __MACOSX/dataset/training_data/images/._88057519.png  \n",
            "  inflating: dataset/training_data/images/01191071_1072.png  \n",
            "  inflating: __MACOSX/dataset/training_data/images/._01191071_1072.png  \n",
            "  inflating: dataset/training_data/images/00836816.png  \n",
            "  inflating: __MACOSX/dataset/training_data/images/._00836816.png  \n",
            "  inflating: dataset/training_data/images/91361993.png  \n",
            "  inflating: __MACOSX/dataset/training_data/images/._91361993.png  \n",
            "  inflating: dataset/training_data/images/92298125.png  \n",
            "  inflating: __MACOSX/dataset/training_data/images/._92298125.png  \n",
            "  inflating: dataset/training_data/images/00040534.png  \n",
            "  inflating: __MACOSX/dataset/training_data/images/._00040534.png  \n",
            "  inflating: dataset/training_data/images/0011838621.png  \n",
            "  inflating: __MACOSX/dataset/training_data/images/._0011838621.png  \n",
            "  inflating: dataset/training_data/images/0060029036.png  \n",
            "  inflating: __MACOSX/dataset/training_data/images/._0060029036.png  \n",
            "  inflating: dataset/training_data/images/0000989556.png  \n",
            "  inflating: __MACOSX/dataset/training_data/images/._0000989556.png  \n",
            "  inflating: dataset/training_data/images/0060024314.png  \n",
            "  inflating: __MACOSX/dataset/training_data/images/._0060024314.png  \n",
            "  inflating: dataset/training_data/images/0001129658.png  \n",
            "  inflating: __MACOSX/dataset/training_data/images/._0001129658.png  \n",
            "  inflating: dataset/training_data/images/0071032790.png  \n",
            "  inflating: __MACOSX/dataset/training_data/images/._0071032790.png  \n",
            "  inflating: dataset/training_data/images/00838511_00838525.png  \n",
            "  inflating: __MACOSX/dataset/training_data/images/._00838511_00838525.png  \n",
            "  inflating: dataset/training_data/images/87682908.png  \n",
            "  inflating: __MACOSX/dataset/training_data/images/._87682908.png  \n",
            "  inflating: dataset/training_data/images/0060214859.png  \n",
            "  inflating: __MACOSX/dataset/training_data/images/._0060214859.png  \n",
            "  inflating: dataset/training_data/images/00070353.png  \n",
            "  inflating: __MACOSX/dataset/training_data/images/._00070353.png  \n",
            "  inflating: dataset/training_data/images/93351929_93351931.png  \n",
            "  inflating: __MACOSX/dataset/training_data/images/._93351929_93351931.png  \n",
            "  inflating: dataset/training_data/images/0001438955.png  \n",
            "  inflating: __MACOSX/dataset/training_data/images/._0001438955.png  \n",
            "  inflating: dataset/training_data/images/81619486_9488.png  \n",
            "  inflating: __MACOSX/dataset/training_data/images/._81619486_9488.png  \n",
            "  inflating: dataset/training_data/images/00920294.png  \n",
            "  inflating: __MACOSX/dataset/training_data/images/._00920294.png  \n",
            "  inflating: dataset/training_data/images/0000971160.png  \n",
            "  inflating: __MACOSX/dataset/training_data/images/._0000971160.png  \n",
            "  inflating: dataset/training_data/images/0012947358.png  \n",
            "  inflating: __MACOSX/dataset/training_data/images/._0012947358.png  \n",
            "  inflating: dataset/training_data/images/00865872.png  \n",
            "  inflating: __MACOSX/dataset/training_data/images/._00865872.png  \n",
            "  inflating: dataset/training_data/images/91391286.png  \n",
            "  inflating: __MACOSX/dataset/training_data/images/._91391286.png  \n",
            "  inflating: dataset/training_data/images/01122115.png  \n",
            "  inflating: __MACOSX/dataset/training_data/images/._01122115.png  \n",
            "  inflating: dataset/training_data/images/01408099_01408101.png  \n",
            "  inflating: __MACOSX/dataset/training_data/images/._01408099_01408101.png  \n",
            "  inflating: dataset/training_data/images/80310840a.png  \n",
            "  inflating: __MACOSX/dataset/training_data/images/._80310840a.png  \n",
            "  inflating: dataset/training_data/images/0012602424.png  \n",
            "  inflating: __MACOSX/dataset/training_data/images/._0012602424.png  \n",
            "  inflating: dataset/training_data/images/0071032807.png  \n",
            "  inflating: __MACOSX/dataset/training_data/images/._0071032807.png  \n",
            "  inflating: dataset/training_data/images/0060308251.png  \n",
            "  inflating: __MACOSX/dataset/training_data/images/._0060308251.png  \n",
            "  inflating: dataset/training_data/images/92094746.png  \n",
            "  inflating: __MACOSX/dataset/training_data/images/._92094746.png  \n",
            "  inflating: dataset/training_data/images/0060302201.png  \n",
            "  inflating: __MACOSX/dataset/training_data/images/._0060302201.png  \n",
            "  inflating: dataset/training_data/images/0060094595.png  \n",
            "  inflating: __MACOSX/dataset/training_data/images/._0060094595.png  \n",
            "  inflating: dataset/training_data/images/71190280.png  \n",
            "  inflating: __MACOSX/dataset/training_data/images/._71190280.png  \n",
            "  inflating: dataset/training_data/images/92433599_92433601.png  \n",
            "  inflating: __MACOSX/dataset/training_data/images/._92433599_92433601.png  \n",
            "  inflating: dataset/training_data/images/0060091229.png  \n",
            "  inflating: __MACOSX/dataset/training_data/images/._0060091229.png  \n",
            "  inflating: dataset/training_data/images/89386032.png  \n",
            "  inflating: __MACOSX/dataset/training_data/images/._89386032.png  \n",
            "  inflating: dataset/training_data/images/91974562.png  \n",
            "  inflating: __MACOSX/dataset/training_data/images/._91974562.png  \n",
            "  inflating: dataset/training_data/images/92094751.png  \n",
            "  inflating: __MACOSX/dataset/training_data/images/._92094751.png  \n",
            "  inflating: dataset/training_data/images/89817999_8002.png  \n",
            "  inflating: __MACOSX/dataset/training_data/images/._89817999_8002.png  \n",
            "  inflating: dataset/training_data/images/71601299.png  \n",
            "  inflating: __MACOSX/dataset/training_data/images/._71601299.png  \n",
            "  inflating: dataset/training_data/images/00851879.png  \n",
            "  inflating: __MACOSX/dataset/training_data/images/._00851879.png  \n",
            "  inflating: dataset/training_data/images/92039708_9710.png  \n",
            "  inflating: __MACOSX/dataset/training_data/images/._92039708_9710.png  \n",
            "  inflating: dataset/training_data/images/92657391.png  \n",
            "  inflating: __MACOSX/dataset/training_data/images/._92657391.png  \n",
            "  inflating: dataset/training_data/images/80718412_8413.png  \n",
            "  inflating: __MACOSX/dataset/training_data/images/._80718412_8413.png  \n",
            "  inflating: dataset/training_data/images/00860012_00860014.png  \n",
            "  inflating: __MACOSX/dataset/training_data/images/._00860012_00860014.png  \n",
            "  inflating: dataset/training_data/images/93329540.png  \n",
            "  inflating: __MACOSX/dataset/training_data/images/._93329540.png  \n",
            "  inflating: dataset/training_data/images/0060068489.png  \n",
            "  inflating: __MACOSX/dataset/training_data/images/._0060068489.png  \n",
            "  inflating: dataset/training_data/images/12603270.png  \n",
            "  inflating: __MACOSX/dataset/training_data/images/._12603270.png  \n",
            "  inflating: dataset/training_data/images/0060308461.png  \n",
            "  inflating: __MACOSX/dataset/training_data/images/._0060308461.png  \n",
            "  inflating: dataset/training_data/images/0060270727.png  \n",
            "  inflating: __MACOSX/dataset/training_data/images/._0060270727.png  \n",
            "  inflating: dataset/training_data/images/00837285.png  \n",
            "  inflating: __MACOSX/dataset/training_data/images/._00837285.png  \n",
            "  inflating: dataset/training_data/images/91356315.png  \n",
            "  inflating: __MACOSX/dataset/training_data/images/._91356315.png  \n",
            "  inflating: dataset/training_data/images/0011899960.png  \n",
            "  inflating: __MACOSX/dataset/training_data/images/._0011899960.png  \n",
            "  inflating: dataset/training_data/images/82254638.png  \n",
            "  inflating: __MACOSX/dataset/training_data/images/._82254638.png  \n",
            "  inflating: dataset/training_data/images/0001118259.png  \n",
            "  inflating: __MACOSX/dataset/training_data/images/._0001118259.png  \n",
            "  inflating: dataset/training_data/images/0011906503.png  \n",
            "  inflating: __MACOSX/dataset/training_data/images/._0011906503.png  \n",
            "  inflating: dataset/training_data/images/91391310.png  \n",
            "  inflating: __MACOSX/dataset/training_data/images/._91391310.png  \n",
            "  inflating: dataset/training_data/images/01197604.png  \n",
            "  inflating: __MACOSX/dataset/training_data/images/._01197604.png  \n",
            "  inflating: dataset/training_data/images/80707440_7443.png  \n",
            "  inflating: __MACOSX/dataset/training_data/images/._80707440_7443.png  \n",
            "  inflating: dataset/training_data/images/11508234.png  \n",
            "  inflating: __MACOSX/dataset/training_data/images/._11508234.png  \n",
            "  inflating: dataset/training_data/images/0011845203.png  \n",
            "  inflating: __MACOSX/dataset/training_data/images/._0011845203.png  \n",
            "  inflating: dataset/training_data/images/0060262650.png  \n",
            "  inflating: __MACOSX/dataset/training_data/images/._0060262650.png  \n",
            "  inflating: dataset/training_data/images/0060173256.png  \n",
            "  inflating: __MACOSX/dataset/training_data/images/._0060173256.png  \n",
            "  inflating: dataset/training_data/images/88547278_88547279.png  \n",
            "  inflating: __MACOSX/dataset/training_data/images/._88547278_88547279.png  \n",
            "  inflating: dataset/training_data/images/0001123541.png  \n",
            "  inflating: __MACOSX/dataset/training_data/images/._0001123541.png  \n",
            "  inflating: dataset/training_data/images/81574683.png  \n",
            "  inflating: __MACOSX/dataset/training_data/images/._81574683.png  \n",
            "  inflating: dataset/training_data/images/0001239897.png  \n",
            "  inflating: __MACOSX/dataset/training_data/images/._0001239897.png  \n",
            "  inflating: dataset/training_data/images/0011856542.png  \n",
            "  inflating: __MACOSX/dataset/training_data/images/._0011856542.png  \n",
            "  inflating: dataset/training_data/images/0060025670.png  \n",
            "  inflating: __MACOSX/dataset/training_data/images/._0060025670.png  \n",
            "  inflating: dataset/training_data/images/89867723.png  \n",
            "  inflating: __MACOSX/dataset/training_data/images/._89867723.png  \n",
            "  inflating: dataset/training_data/images/0012178355.png  \n",
            "  inflating: __MACOSX/dataset/training_data/images/._0012178355.png  \n",
            "  inflating: dataset/training_data/images/91856041_6049.png  \n",
            "  inflating: __MACOSX/dataset/training_data/images/._91856041_6049.png  \n",
            "  inflating: dataset/training_data/images/93455715.png  \n",
            "  inflating: __MACOSX/dataset/training_data/images/._93455715.png  \n",
            "  inflating: dataset/training_data/images/0011976929.png  \n",
            "  inflating: __MACOSX/dataset/training_data/images/._0011976929.png  \n",
            "  inflating: dataset/training_data/images/0060007216.png  \n",
            "  inflating: __MACOSX/dataset/training_data/images/._0060007216.png  \n",
            "  inflating: dataset/training_data/images/0001485288.png  \n",
            "  inflating: __MACOSX/dataset/training_data/images/._0001485288.png  \n",
            "  inflating: dataset/training_data/images/0001463282.png  \n",
            "  inflating: __MACOSX/dataset/training_data/images/._0001463282.png  \n",
            "  inflating: dataset/training_data/images/0030041455.png  \n",
            "  inflating: __MACOSX/dataset/training_data/images/._0030041455.png  \n",
            "  inflating: dataset/training_data/images/71202511.png  \n",
            "  inflating: __MACOSX/dataset/training_data/images/._71202511.png  \n",
            "  inflating: dataset/training_data/images/92327794.png  \n",
            "  inflating: __MACOSX/dataset/training_data/images/._92327794.png  \n",
            "  inflating: dataset/training_data/images/0060136394.png  \n",
            "  inflating: __MACOSX/dataset/training_data/images/._0060136394.png  \n",
            "  inflating: dataset/training_data/images/89368010.png  \n",
            "  inflating: __MACOSX/dataset/training_data/images/._89368010.png  \n",
            "  inflating: dataset/training_data/images/92314414.png  \n",
            "  inflating: __MACOSX/dataset/training_data/images/._92314414.png  \n",
            "  inflating: dataset/training_data/images/92657311_7313.png  \n",
            "  inflating: __MACOSX/dataset/training_data/images/._92657311_7313.png  \n",
            "  inflating: dataset/training_data/images/13149651.png  \n",
            "  inflating: __MACOSX/dataset/training_data/images/._13149651.png  \n",
            "  inflating: dataset/training_data/images/91903177.png  \n",
            "  inflating: __MACOSX/dataset/training_data/images/._91903177.png  \n",
            "  inflating: dataset/training_data/images/71563825.png  \n",
            "  inflating: __MACOSX/dataset/training_data/images/._71563825.png  \n",
            "  inflating: dataset/training_data/images/00283813.png  \n",
            "  inflating: __MACOSX/dataset/training_data/images/._00283813.png  \n",
            "  inflating: dataset/training_data/images/00866042.png  \n",
            "  inflating: __MACOSX/dataset/training_data/images/._00866042.png  \n",
            "  inflating: dataset/training_data/images/0060036622.png  \n",
            "  inflating: __MACOSX/dataset/training_data/images/._0060036622.png  \n",
            "  inflating: dataset/training_data/images/0011505151.png  \n",
            "  inflating: __MACOSX/dataset/training_data/images/._0011505151.png  \n",
            "  inflating: dataset/training_data/images/0013255595.png  \n",
            "  inflating: __MACOSX/dataset/training_data/images/._0013255595.png  \n",
            "  inflating: dataset/training_data/images/0030031163.png  \n",
            "  inflating: __MACOSX/dataset/training_data/images/._0030031163.png  \n",
            "  inflating: dataset/training_data/images/91581919.png  \n",
            "  inflating: __MACOSX/dataset/training_data/images/._91581919.png  \n",
            "  inflating: dataset/training_data/images/91372360.png  \n",
            "  inflating: __MACOSX/dataset/training_data/images/._91372360.png  \n",
            "  inflating: dataset/training_data/images/12825369.png  \n",
            "  inflating: __MACOSX/dataset/training_data/images/._12825369.png  \n",
            "  inflating: dataset/training_data/images/0060000813.png  \n",
            "  inflating: __MACOSX/dataset/training_data/images/._0060000813.png  \n",
            "  inflating: __MACOSX/dataset/training_data/._images  \n",
            "   creating: dataset/training_data/annotations/\n",
            "  inflating: dataset/training_data/annotations/71206427.json  \n",
            "   creating: __MACOSX/dataset/training_data/annotations/\n",
            "  inflating: __MACOSX/dataset/training_data/annotations/._71206427.json  \n",
            "  inflating: dataset/training_data/annotations/0001123541.json  \n",
            "  inflating: __MACOSX/dataset/training_data/annotations/._0001123541.json  \n",
            "  inflating: dataset/training_data/annotations/92039708_9710.json  \n",
            "  inflating: __MACOSX/dataset/training_data/annotations/._92039708_9710.json  \n",
            "  inflating: dataset/training_data/annotations/0060029036.json  \n",
            "  inflating: __MACOSX/dataset/training_data/annotations/._0060029036.json  \n",
            "  inflating: dataset/training_data/annotations/81619511_9513.json  \n",
            "  inflating: __MACOSX/dataset/training_data/annotations/._81619511_9513.json  \n",
            "  inflating: dataset/training_data/annotations/89386032.json  \n",
            "  inflating: __MACOSX/dataset/training_data/annotations/._89386032.json  \n",
            "  inflating: dataset/training_data/annotations/0001209043.json  \n",
            "  inflating: __MACOSX/dataset/training_data/annotations/._0001209043.json  \n",
            "  inflating: dataset/training_data/annotations/0060262650.json  \n",
            "  inflating: __MACOSX/dataset/training_data/annotations/._0060262650.json  \n",
            "  inflating: dataset/training_data/annotations/0001129658.json  \n",
            "  inflating: __MACOSX/dataset/training_data/annotations/._0001129658.json  \n",
            "  inflating: dataset/training_data/annotations/0060165115.json  \n",
            "  inflating: __MACOSX/dataset/training_data/annotations/._0060165115.json  \n",
            "  inflating: dataset/training_data/annotations/0060007216.json  \n",
            "  inflating: __MACOSX/dataset/training_data/annotations/._0060007216.json  \n",
            "  inflating: dataset/training_data/annotations/00093726.json  \n",
            "  inflating: __MACOSX/dataset/training_data/annotations/._00093726.json  \n",
            "  inflating: dataset/training_data/annotations/00836244.json  \n",
            "  inflating: __MACOSX/dataset/training_data/annotations/._00836244.json  \n",
            "  inflating: dataset/training_data/annotations/0060094595.json  \n",
            "  inflating: __MACOSX/dataset/training_data/annotations/._0060094595.json  \n",
            "  inflating: dataset/training_data/annotations/80728670.json  \n",
            "  inflating: __MACOSX/dataset/training_data/annotations/._80728670.json  \n",
            "  inflating: dataset/training_data/annotations/92327794.json  \n",
            "  inflating: __MACOSX/dataset/training_data/annotations/._92327794.json  \n",
            "  inflating: dataset/training_data/annotations/00922237.json  \n",
            "  inflating: __MACOSX/dataset/training_data/annotations/._00922237.json  \n",
            "  inflating: dataset/training_data/annotations/92298125.json  \n",
            "  inflating: __MACOSX/dataset/training_data/annotations/._92298125.json  \n",
            "  inflating: dataset/training_data/annotations/12825369.json  \n",
            "  inflating: __MACOSX/dataset/training_data/annotations/._12825369.json  \n",
            "  inflating: dataset/training_data/annotations/92586242.json  \n",
            "  inflating: __MACOSX/dataset/training_data/annotations/._92586242.json  \n",
            "  inflating: dataset/training_data/annotations/0001463448.json  \n",
            "  inflating: __MACOSX/dataset/training_data/annotations/._0001463448.json  \n",
            "  inflating: dataset/training_data/annotations/0060302201.json  \n",
            "  inflating: __MACOSX/dataset/training_data/annotations/._0060302201.json  \n",
            "  inflating: dataset/training_data/annotations/91391286.json  \n",
            "  inflating: __MACOSX/dataset/training_data/annotations/._91391286.json  \n",
            "  inflating: dataset/training_data/annotations/0060308461.json  \n",
            "  inflating: __MACOSX/dataset/training_data/annotations/._0060308461.json  \n",
            "  inflating: dataset/training_data/annotations/81619486_9488.json  \n",
            "  inflating: __MACOSX/dataset/training_data/annotations/._81619486_9488.json  \n",
            "  inflating: dataset/training_data/annotations/0071032790.json  \n",
            "  inflating: __MACOSX/dataset/training_data/annotations/._0071032790.json  \n",
            "  inflating: dataset/training_data/annotations/0060080406.json  \n",
            "  inflating: __MACOSX/dataset/training_data/annotations/._0060080406.json  \n",
            "  inflating: dataset/training_data/annotations/0012529284.json  \n",
            "  inflating: __MACOSX/dataset/training_data/annotations/._0012529284.json  \n",
            "  inflating: dataset/training_data/annotations/0060036622.json  \n",
            "  inflating: __MACOSX/dataset/training_data/annotations/._0060036622.json  \n",
            "  inflating: dataset/training_data/annotations/71190280.json  \n",
            "  inflating: __MACOSX/dataset/training_data/annotations/._71190280.json  \n",
            "  inflating: dataset/training_data/annotations/93455715.json  \n",
            "  inflating: __MACOSX/dataset/training_data/annotations/._93455715.json  \n",
            "  inflating: dataset/training_data/annotations/87682908.json  \n",
            "  inflating: __MACOSX/dataset/training_data/annotations/._87682908.json  \n",
            "  inflating: dataset/training_data/annotations/91356315.json  \n",
            "  inflating: __MACOSX/dataset/training_data/annotations/._91356315.json  \n",
            "  inflating: dataset/training_data/annotations/87533049.json  \n",
            "  inflating: __MACOSX/dataset/training_data/annotations/._87533049.json  \n",
            "  inflating: dataset/training_data/annotations/0060308251.json  \n",
            "  inflating: __MACOSX/dataset/training_data/annotations/._0060308251.json  \n",
            "  inflating: dataset/training_data/annotations/01122115.json  \n",
            "  inflating: __MACOSX/dataset/training_data/annotations/._01122115.json  \n",
            "  inflating: dataset/training_data/annotations/71601299.json  \n",
            "  inflating: __MACOSX/dataset/training_data/annotations/._71601299.json  \n",
            "  inflating: dataset/training_data/annotations/93329540.json  \n",
            "  inflating: __MACOSX/dataset/training_data/annotations/._93329540.json  \n",
            "  inflating: dataset/training_data/annotations/0000990274.json  \n",
            "  inflating: __MACOSX/dataset/training_data/annotations/._0000990274.json  \n",
            "  inflating: dataset/training_data/annotations/71563825.json  \n",
            "  inflating: __MACOSX/dataset/training_data/annotations/._71563825.json  \n",
            "  inflating: dataset/training_data/annotations/0060255888.json  \n",
            "  inflating: __MACOSX/dataset/training_data/annotations/._0060255888.json  \n",
            "  inflating: dataset/training_data/annotations/0000989556.json  \n",
            "  inflating: __MACOSX/dataset/training_data/annotations/._0000989556.json  \n",
            "  inflating: dataset/training_data/annotations/0011505151.json  \n",
            "  inflating: __MACOSX/dataset/training_data/annotations/._0011505151.json  \n",
            "  inflating: dataset/training_data/annotations/00070353.json  \n",
            "  inflating: __MACOSX/dataset/training_data/annotations/._00070353.json  \n",
            "  inflating: dataset/training_data/annotations/0012529295.json  \n",
            "  inflating: __MACOSX/dataset/training_data/annotations/._0012529295.json  \n",
            "  inflating: dataset/training_data/annotations/81574683.json  \n",
            "  inflating: __MACOSX/dataset/training_data/annotations/._81574683.json  \n",
            "  inflating: dataset/training_data/annotations/0060136394.json  \n",
            "  inflating: __MACOSX/dataset/training_data/annotations/._0060136394.json  \n",
            "  inflating: dataset/training_data/annotations/0030031163.json  \n",
            "  inflating: __MACOSX/dataset/training_data/annotations/._0030031163.json  \n",
            "  inflating: dataset/training_data/annotations/81749056_9057.json  \n",
            "  inflating: __MACOSX/dataset/training_data/annotations/._81749056_9057.json  \n",
            "  inflating: dataset/training_data/annotations/660978.json  \n",
            "  inflating: __MACOSX/dataset/training_data/annotations/._660978.json  \n",
            "  inflating: dataset/training_data/annotations/0060214859.json  \n",
            "  inflating: __MACOSX/dataset/training_data/annotations/._0060214859.json  \n",
            "  inflating: dataset/training_data/annotations/92091873.json  \n",
            "  inflating: __MACOSX/dataset/training_data/annotations/._92091873.json  \n",
            "  inflating: dataset/training_data/annotations/71202511.json  \n",
            "  inflating: __MACOSX/dataset/training_data/annotations/._71202511.json  \n",
            "  inflating: dataset/training_data/annotations/92657391.json  \n",
            "  inflating: __MACOSX/dataset/training_data/annotations/._92657391.json  \n",
            "  inflating: dataset/training_data/annotations/11508234.json  \n",
            "  inflating: __MACOSX/dataset/training_data/annotations/._11508234.json  \n",
            "  inflating: dataset/training_data/annotations/0011973451.json  \n",
            "  inflating: __MACOSX/dataset/training_data/annotations/._0011973451.json  \n",
            "  inflating: dataset/training_data/annotations/91355841.json  \n",
            "  inflating: __MACOSX/dataset/training_data/annotations/._91355841.json  \n",
            "  inflating: dataset/training_data/annotations/0001476912.json  \n",
            "  inflating: __MACOSX/dataset/training_data/annotations/._0001476912.json  \n",
            "  inflating: dataset/training_data/annotations/00920294.json  \n",
            "  inflating: __MACOSX/dataset/training_data/annotations/._00920294.json  \n",
            "  inflating: dataset/training_data/annotations/0001438955.json  \n",
            "  inflating: __MACOSX/dataset/training_data/annotations/._0001438955.json  \n",
            "  inflating: dataset/training_data/annotations/01073843.json  \n",
            "  inflating: __MACOSX/dataset/training_data/annotations/._01073843.json  \n",
            "  inflating: dataset/training_data/annotations/0011856542.json  \n",
            "  inflating: __MACOSX/dataset/training_data/annotations/._0011856542.json  \n",
            "  inflating: dataset/training_data/annotations/93213298.json  \n",
            "  inflating: __MACOSX/dataset/training_data/annotations/._93213298.json  \n",
            "  inflating: dataset/training_data/annotations/0012178355.json  \n",
            "  inflating: __MACOSX/dataset/training_data/annotations/._0012178355.json  \n",
            "  inflating: dataset/training_data/annotations/89867723.json  \n",
            "  inflating: __MACOSX/dataset/training_data/annotations/._89867723.json  \n",
            "  inflating: dataset/training_data/annotations/92433599_92433601.json  \n",
            "  inflating: __MACOSX/dataset/training_data/annotations/._92433599_92433601.json  \n",
            "  inflating: dataset/training_data/annotations/87672097.json  \n",
            "  inflating: __MACOSX/dataset/training_data/annotations/._87672097.json  \n",
            "  inflating: dataset/training_data/annotations/91315069_91315070.json  \n",
            "  inflating: __MACOSX/dataset/training_data/annotations/._91315069_91315070.json  \n",
            "  inflating: dataset/training_data/annotations/0060077689.json  \n",
            "  inflating: __MACOSX/dataset/training_data/annotations/._0060077689.json  \n",
            "  inflating: dataset/training_data/annotations/0060000813.json  \n",
            "  inflating: __MACOSX/dataset/training_data/annotations/._0060000813.json  \n",
            "  inflating: dataset/training_data/annotations/92081358_1359.json  \n",
            "  inflating: __MACOSX/dataset/training_data/annotations/._92081358_1359.json  \n",
            "  inflating: dataset/training_data/annotations/0071032807.json  \n",
            "  inflating: __MACOSX/dataset/training_data/annotations/._0071032807.json  \n",
            "  inflating: dataset/training_data/annotations/01197604.json  \n",
            "  inflating: __MACOSX/dataset/training_data/annotations/._01197604.json  \n",
            "  inflating: dataset/training_data/annotations/71366499.json  \n",
            "  inflating: __MACOSX/dataset/training_data/annotations/._71366499.json  \n",
            "  inflating: dataset/training_data/annotations/11875011.json  \n",
            "  inflating: __MACOSX/dataset/training_data/annotations/._11875011.json  \n",
            "  inflating: dataset/training_data/annotations/91104867.json  \n",
            "  inflating: __MACOSX/dataset/training_data/annotations/._91104867.json  \n",
            "  inflating: dataset/training_data/annotations/91391310.json  \n",
            "  inflating: __MACOSX/dataset/training_data/annotations/._91391310.json  \n",
            "  inflating: dataset/training_data/annotations/0011899960.json  \n",
            "  inflating: __MACOSX/dataset/training_data/annotations/._0011899960.json  \n",
            "  inflating: dataset/training_data/annotations/81186212.json  \n",
            "  inflating: __MACOSX/dataset/training_data/annotations/._81186212.json  \n",
            "  inflating: dataset/training_data/annotations/82254638.json  \n",
            "  inflating: __MACOSX/dataset/training_data/annotations/._82254638.json  \n",
            "  inflating: dataset/training_data/annotations/01150773_01150774.json  \n",
            "  inflating: __MACOSX/dataset/training_data/annotations/._01150773_01150774.json  \n",
            "  inflating: dataset/training_data/annotations/00920222.json  \n",
            "  inflating: __MACOSX/dataset/training_data/annotations/._00920222.json  \n",
            "  inflating: dataset/training_data/annotations/92314414.json  \n",
            "  inflating: __MACOSX/dataset/training_data/annotations/._92314414.json  \n",
            "  inflating: dataset/training_data/annotations/00838511_00838525.json  \n",
            "  inflating: __MACOSX/dataset/training_data/annotations/._00838511_00838525.json  \n",
            "  inflating: dataset/training_data/annotations/716552.json  \n",
            "  inflating: __MACOSX/dataset/training_data/annotations/._716552.json  \n",
            "  inflating: dataset/training_data/annotations/91372360.json  \n",
            "  inflating: __MACOSX/dataset/training_data/annotations/._91372360.json  \n",
            "  inflating: dataset/training_data/annotations/71341634.json  \n",
            "  inflating: __MACOSX/dataset/training_data/annotations/._71341634.json  \n",
            "  inflating: dataset/training_data/annotations/91856041_6049.json  \n",
            "  inflating: __MACOSX/dataset/training_data/annotations/._91856041_6049.json  \n",
            "  inflating: dataset/training_data/annotations/00040534.json  \n",
            "  inflating: __MACOSX/dataset/training_data/annotations/._00040534.json  \n",
            "  inflating: dataset/training_data/annotations/89368010.json  \n",
            "  inflating: __MACOSX/dataset/training_data/annotations/._89368010.json  \n",
            "  inflating: dataset/training_data/annotations/91914407.json  \n",
            "  inflating: __MACOSX/dataset/training_data/annotations/._91914407.json  \n",
            "  inflating: dataset/training_data/annotations/0060024314.json  \n",
            "  inflating: __MACOSX/dataset/training_data/annotations/._0060024314.json  \n",
            "  inflating: dataset/training_data/annotations/00866042.json  \n",
            "  inflating: __MACOSX/dataset/training_data/annotations/._00866042.json  \n",
            "  inflating: dataset/training_data/annotations/12603270.json  \n",
            "  inflating: __MACOSX/dataset/training_data/annotations/._12603270.json  \n",
            "  inflating: dataset/training_data/annotations/0012602424.json  \n",
            "  inflating: __MACOSX/dataset/training_data/annotations/._0012602424.json  \n",
            "  inflating: dataset/training_data/annotations/80718412_8413.json  \n",
            "  inflating: __MACOSX/dataset/training_data/annotations/._80718412_8413.json  \n",
            "  inflating: dataset/training_data/annotations/88547278_88547279.json  \n",
            "  inflating: __MACOSX/dataset/training_data/annotations/._88547278_88547279.json  \n",
            "  inflating: dataset/training_data/annotations/0000971160.json  \n",
            "  inflating: __MACOSX/dataset/training_data/annotations/._0000971160.json  \n",
            "  inflating: dataset/training_data/annotations/13149651.json  \n",
            "  inflating: __MACOSX/dataset/training_data/annotations/._13149651.json  \n",
            "  inflating: dataset/training_data/annotations/0060091229.json  \n",
            "  inflating: __MACOSX/dataset/training_data/annotations/._0060091229.json  \n",
            "  inflating: dataset/training_data/annotations/91939637.json  \n",
            "  inflating: __MACOSX/dataset/training_data/annotations/._91939637.json  \n",
            "  inflating: dataset/training_data/annotations/0011859695.json  \n",
            "  inflating: __MACOSX/dataset/training_data/annotations/._0011859695.json  \n",
            "  inflating: dataset/training_data/annotations/00851772_1780.json  \n",
            "  inflating: __MACOSX/dataset/training_data/annotations/._00851772_1780.json  \n",
            "  inflating: dataset/training_data/annotations/80707440_7443.json  \n",
            "  inflating: __MACOSX/dataset/training_data/annotations/._80707440_7443.json  \n",
            "  inflating: dataset/training_data/annotations/0012947358.json  \n",
            "  inflating: __MACOSX/dataset/training_data/annotations/._0012947358.json  \n",
            "  inflating: dataset/training_data/annotations/88057519.json  \n",
            "  inflating: __MACOSX/dataset/training_data/annotations/._88057519.json  \n",
            "  inflating: dataset/training_data/annotations/71108371.json  \n",
            "  inflating: __MACOSX/dataset/training_data/annotations/._71108371.json  \n",
            "  inflating: dataset/training_data/annotations/91903177.json  \n",
            "  inflating: __MACOSX/dataset/training_data/annotations/._91903177.json  \n",
            "  inflating: dataset/training_data/annotations/91581919.json  \n",
            "  inflating: __MACOSX/dataset/training_data/annotations/._91581919.json  \n",
            "  inflating: dataset/training_data/annotations/0013255595.json  \n",
            "  inflating: __MACOSX/dataset/training_data/annotations/._0013255595.json  \n",
            "  inflating: dataset/training_data/annotations/92657311_7313.json  \n",
            "  inflating: __MACOSX/dataset/training_data/annotations/._92657311_7313.json  \n",
            "  inflating: dataset/training_data/annotations/0060173256.json  \n",
            "  inflating: __MACOSX/dataset/training_data/annotations/._0060173256.json  \n",
            "  inflating: dataset/training_data/annotations/0001477983.json  \n",
            "  inflating: __MACOSX/dataset/training_data/annotations/._0001477983.json  \n",
            "  inflating: dataset/training_data/annotations/92094751.json  \n",
            "  inflating: __MACOSX/dataset/training_data/annotations/._92094751.json  \n",
            "  inflating: dataset/training_data/annotations/0030041455.json  \n",
            "  inflating: __MACOSX/dataset/training_data/annotations/._0030041455.json  \n",
            "  inflating: dataset/training_data/annotations/93380187.json  \n",
            "  inflating: __MACOSX/dataset/training_data/annotations/._93380187.json  \n",
            "  inflating: dataset/training_data/annotations/93351929_93351931.json  \n",
            "  inflating: __MACOSX/dataset/training_data/annotations/._93351929_93351931.json  \n",
            "  inflating: dataset/training_data/annotations/01191071_1072.json  \n",
            "  inflating: __MACOSX/dataset/training_data/annotations/._01191071_1072.json  \n",
            "  inflating: dataset/training_data/annotations/0011976929.json  \n",
            "  inflating: __MACOSX/dataset/training_data/annotations/._0011976929.json  \n",
            "  inflating: dataset/training_data/annotations/0060207528.json  \n",
            "  inflating: __MACOSX/dataset/training_data/annotations/._0060207528.json  \n",
            "  inflating: dataset/training_data/annotations/0000999294.json  \n",
            "  inflating: __MACOSX/dataset/training_data/annotations/._0000999294.json  \n",
            "  inflating: dataset/training_data/annotations/00851879.json  \n",
            "  inflating: __MACOSX/dataset/training_data/annotations/._00851879.json  \n",
            "  inflating: dataset/training_data/annotations/0001485288.json  \n",
            "  inflating: __MACOSX/dataset/training_data/annotations/._0001485288.json  \n",
            "  inflating: dataset/training_data/annotations/0012199830.json  \n",
            "  inflating: __MACOSX/dataset/training_data/annotations/._0012199830.json  \n",
            "  inflating: dataset/training_data/annotations/00865872.json  \n",
            "  inflating: __MACOSX/dataset/training_data/annotations/._00865872.json  \n",
            "  inflating: dataset/training_data/annotations/91361993.json  \n",
            "  inflating: __MACOSX/dataset/training_data/annotations/._91361993.json  \n",
            "  inflating: dataset/training_data/annotations/00283813.json  \n",
            "  inflating: __MACOSX/dataset/training_data/annotations/._00283813.json  \n",
            "  inflating: dataset/training_data/annotations/0001118259.json  \n",
            "  inflating: __MACOSX/dataset/training_data/annotations/._0001118259.json  \n",
            "  inflating: dataset/training_data/annotations/91974562.json  \n",
            "  inflating: __MACOSX/dataset/training_data/annotations/._91974562.json  \n",
            "  inflating: dataset/training_data/annotations/0060025670.json  \n",
            "  inflating: __MACOSX/dataset/training_data/annotations/._0060025670.json  \n",
            "  inflating: dataset/training_data/annotations/12052385.json  \n",
            "  inflating: __MACOSX/dataset/training_data/annotations/._12052385.json  \n",
            "  inflating: dataset/training_data/annotations/0060068489.json  \n",
            "  inflating: __MACOSX/dataset/training_data/annotations/._0060068489.json  \n",
            "  inflating: dataset/training_data/annotations/0001456787.json  \n",
            "  inflating: __MACOSX/dataset/training_data/annotations/._0001456787.json  \n",
            "  inflating: dataset/training_data/annotations/91161344_91161347.json  \n",
            "  inflating: __MACOSX/dataset/training_data/annotations/._91161344_91161347.json  \n",
            "  inflating: dataset/training_data/annotations/0060270727.json  \n",
            "  inflating: __MACOSX/dataset/training_data/annotations/._0060270727.json  \n",
            "  inflating: dataset/training_data/annotations/01408099_01408101.json  \n",
            "  inflating: __MACOSX/dataset/training_data/annotations/._01408099_01408101.json  \n",
            "  inflating: dataset/training_data/annotations/0011974919.json  \n",
            "  inflating: __MACOSX/dataset/training_data/annotations/._0011974919.json  \n",
            "  inflating: dataset/training_data/annotations/00837285.json  \n",
            "  inflating: __MACOSX/dataset/training_data/annotations/._00837285.json  \n",
            "  inflating: dataset/training_data/annotations/89817999_8002.json  \n",
            "  inflating: __MACOSX/dataset/training_data/annotations/._89817999_8002.json  \n",
            "  inflating: dataset/training_data/annotations/00836816.json  \n",
            "  inflating: __MACOSX/dataset/training_data/annotations/._00836816.json  \n",
            "  inflating: dataset/training_data/annotations/0001239897.json  \n",
            "  inflating: __MACOSX/dataset/training_data/annotations/._0001239897.json  \n",
            "  inflating: dataset/training_data/annotations/81310636.json  \n",
            "  inflating: __MACOSX/dataset/training_data/annotations/._81310636.json  \n",
            "  inflating: dataset/training_data/annotations/92094746.json  \n",
            "  inflating: __MACOSX/dataset/training_data/annotations/._92094746.json  \n",
            "  inflating: dataset/training_data/annotations/0011838621.json  \n",
            "  inflating: __MACOSX/dataset/training_data/annotations/._0011838621.json  \n",
            "  inflating: dataset/training_data/annotations/00860012_00860014.json  \n",
            "  inflating: __MACOSX/dataset/training_data/annotations/._00860012_00860014.json  \n",
            "  inflating: dataset/training_data/annotations/0011845203.json  \n",
            "  inflating: __MACOSX/dataset/training_data/annotations/._0011845203.json  \n",
            "  inflating: dataset/training_data/annotations/0011906503.json  \n",
            "  inflating: __MACOSX/dataset/training_data/annotations/._0011906503.json  \n",
            "  inflating: dataset/training_data/annotations/0001463282.json  \n",
            "  inflating: __MACOSX/dataset/training_data/annotations/._0001463282.json  \n",
            "  inflating: dataset/training_data/annotations/80310840a.json  \n",
            "  inflating: __MACOSX/dataset/training_data/annotations/._80310840a.json  \n",
            "  inflating: __MACOSX/dataset/training_data/._annotations  \n",
            "  inflating: __MACOSX/dataset/._training_data  \n",
            "   creating: dataset/testing_data/\n",
            "  inflating: dataset/testing_data/.DS_Store  \n",
            "   creating: __MACOSX/dataset/testing_data/\n",
            "  inflating: __MACOSX/dataset/testing_data/._.DS_Store  \n",
            "   creating: dataset/testing_data/images/\n",
            "  inflating: dataset/testing_data/images/82837252.png  \n",
            "   creating: __MACOSX/dataset/testing_data/images/\n",
            "  inflating: __MACOSX/dataset/testing_data/images/._82837252.png  \n",
            "  inflating: dataset/testing_data/images/85201976.png  \n",
            "  inflating: __MACOSX/dataset/testing_data/images/._85201976.png  \n",
            "  inflating: dataset/testing_data/images/86263525.png  \n",
            "  inflating: __MACOSX/dataset/testing_data/images/._86263525.png  \n",
            "  inflating: dataset/testing_data/images/82251504.png  \n",
            "  inflating: __MACOSX/dataset/testing_data/images/._82251504.png  \n",
            "  inflating: dataset/testing_data/images/93106788.png  \n",
            "  inflating: __MACOSX/dataset/testing_data/images/._93106788.png  \n",
            "  inflating: dataset/testing_data/images/82573104.png  \n",
            "  inflating: __MACOSX/dataset/testing_data/images/._82573104.png  \n",
            "  inflating: dataset/testing_data/images/87528321.png  \n",
            "  inflating: __MACOSX/dataset/testing_data/images/._87528321.png  \n",
            "  inflating: dataset/testing_data/images/85240939.png  \n",
            "  inflating: __MACOSX/dataset/testing_data/images/._85240939.png  \n",
            "  inflating: dataset/testing_data/images/82562350.png  \n",
            "  inflating: __MACOSX/dataset/testing_data/images/._82562350.png  \n",
            "  inflating: dataset/testing_data/images/82253245_3247.png  \n",
            "  inflating: __MACOSX/dataset/testing_data/images/._82253245_3247.png  \n",
            "  inflating: dataset/testing_data/images/87093315_87093318.png  \n",
            "  inflating: __MACOSX/dataset/testing_data/images/._87093315_87093318.png  \n",
            "  inflating: dataset/testing_data/images/83443897.png  \n",
            "  inflating: __MACOSX/dataset/testing_data/images/._83443897.png  \n",
            "  inflating: dataset/testing_data/images/87332450.png  \n",
            "  inflating: __MACOSX/dataset/testing_data/images/._87332450.png  \n",
            "  inflating: dataset/testing_data/images/89856243.png  \n",
            "  inflating: __MACOSX/dataset/testing_data/images/._89856243.png  \n",
            "  inflating: dataset/testing_data/images/83635935.png  \n",
            "  inflating: __MACOSX/dataset/testing_data/images/._83635935.png  \n",
            "  inflating: dataset/testing_data/images/82250337_0338.png  \n",
            "  inflating: __MACOSX/dataset/testing_data/images/._82250337_0338.png  \n",
            "  inflating: dataset/testing_data/images/82200067_0069.png  \n",
            "  inflating: __MACOSX/dataset/testing_data/images/._82200067_0069.png  \n",
            "  inflating: dataset/testing_data/images/92380595.png  \n",
            "  inflating: __MACOSX/dataset/testing_data/images/._92380595.png  \n",
            "  inflating: dataset/testing_data/images/86236474_6476.png  \n",
            "  inflating: __MACOSX/dataset/testing_data/images/._86236474_6476.png  \n",
            "  inflating: dataset/testing_data/images/82491256.png  \n",
            "  inflating: __MACOSX/dataset/testing_data/images/._82491256.png  \n",
            "  inflating: dataset/testing_data/images/85540866.png  \n",
            "  inflating: __MACOSX/dataset/testing_data/images/._85540866.png  \n",
            "  inflating: dataset/testing_data/images/86244113.png  \n",
            "  inflating: __MACOSX/dataset/testing_data/images/._86244113.png  \n",
            "  inflating: dataset/testing_data/images/83823750.png  \n",
            "  inflating: __MACOSX/dataset/testing_data/images/._83823750.png  \n",
            "  inflating: dataset/testing_data/images/83594639.png  \n",
            "  inflating: __MACOSX/dataset/testing_data/images/._83594639.png  \n",
            "  inflating: dataset/testing_data/images/87528380.png  \n",
            "  inflating: __MACOSX/dataset/testing_data/images/._87528380.png  \n",
            "  inflating: dataset/testing_data/images/86220490.png  \n",
            "  inflating: __MACOSX/dataset/testing_data/images/._86220490.png  \n",
            "  inflating: dataset/testing_data/images/87086073.png  \n",
            "  inflating: __MACOSX/dataset/testing_data/images/._87086073.png  \n",
            "  inflating: dataset/testing_data/images/87147607.png  \n",
            "  inflating: __MACOSX/dataset/testing_data/images/._87147607.png  \n",
            "  inflating: dataset/testing_data/images/82252956_2958.png  \n",
            "  inflating: __MACOSX/dataset/testing_data/images/._82252956_2958.png  \n",
            "  inflating: dataset/testing_data/images/83641919_1921.png  \n",
            "  inflating: __MACOSX/dataset/testing_data/images/._83641919_1921.png  \n",
            "  inflating: dataset/testing_data/images/82253058_3059.png  \n",
            "  inflating: __MACOSX/dataset/testing_data/images/._82253058_3059.png  \n",
            "  inflating: dataset/testing_data/images/87125460.png  \n",
            "  inflating: __MACOSX/dataset/testing_data/images/._87125460.png  \n",
            "  inflating: dataset/testing_data/images/83624198.png  \n",
            "  inflating: __MACOSX/dataset/testing_data/images/._83624198.png  \n",
            "  inflating: dataset/testing_data/images/82504862.png  \n",
            "  inflating: __MACOSX/dataset/testing_data/images/._82504862.png  \n",
            "  inflating: dataset/testing_data/images/86328049_8050.png  \n",
            "  inflating: __MACOSX/dataset/testing_data/images/._86328049_8050.png  \n",
            "  inflating: dataset/testing_data/images/82254765.png  \n",
            "  inflating: __MACOSX/dataset/testing_data/images/._82254765.png  \n",
            "  inflating: dataset/testing_data/images/86079776_9777.png  \n",
            "  inflating: __MACOSX/dataset/testing_data/images/._86079776_9777.png  \n",
            "  inflating: dataset/testing_data/images/83553333_3334.png  \n",
            "  inflating: __MACOSX/dataset/testing_data/images/._83553333_3334.png  \n",
            "  inflating: dataset/testing_data/images/83573282.png  \n",
            "  inflating: __MACOSX/dataset/testing_data/images/._83573282.png  \n",
            "  inflating: dataset/testing_data/images/87137840.png  \n",
            "  inflating: __MACOSX/dataset/testing_data/images/._87137840.png  \n",
            "  inflating: dataset/testing_data/images/87428306.png  \n",
            "  inflating: __MACOSX/dataset/testing_data/images/._87428306.png  \n",
            "  inflating: dataset/testing_data/images/86230203_0206.png  \n",
            "  inflating: __MACOSX/dataset/testing_data/images/._86230203_0206.png  \n",
            "  inflating: dataset/testing_data/images/87594142_87594144.png  \n",
            "  inflating: __MACOSX/dataset/testing_data/images/._87594142_87594144.png  \n",
            "  inflating: dataset/testing_data/images/91814768_91814769.png  \n",
            "  inflating: __MACOSX/dataset/testing_data/images/._91814768_91814769.png  \n",
            "  inflating: dataset/testing_data/images/86075409_5410.png  \n",
            "  inflating: __MACOSX/dataset/testing_data/images/._86075409_5410.png  \n",
            "  inflating: dataset/testing_data/images/83772145.png  \n",
            "  inflating: __MACOSX/dataset/testing_data/images/._83772145.png  \n",
            "  inflating: dataset/testing_data/images/82253362_3364.png  \n",
            "  inflating: __MACOSX/dataset/testing_data/images/._82253362_3364.png  \n",
            "  inflating: dataset/testing_data/images/85629964.png  \n",
            "  inflating: __MACOSX/dataset/testing_data/images/._85629964.png  \n",
            "  inflating: dataset/testing_data/images/82092117.png  \n",
            "  inflating: __MACOSX/dataset/testing_data/images/._82092117.png  \n",
            "  inflating: dataset/testing_data/images/83996357.png  \n",
            "  inflating: __MACOSX/dataset/testing_data/images/._83996357.png  \n",
            "  inflating: __MACOSX/dataset/testing_data/._images  \n",
            "   creating: dataset/testing_data/annotations/\n",
            "  inflating: dataset/testing_data/annotations/83594639.json  \n",
            "   creating: __MACOSX/dataset/testing_data/annotations/\n",
            "  inflating: __MACOSX/dataset/testing_data/annotations/._83594639.json  \n",
            "  inflating: dataset/testing_data/annotations/86236474_6476.json  \n",
            "  inflating: __MACOSX/dataset/testing_data/annotations/._86236474_6476.json  \n",
            "  inflating: dataset/testing_data/annotations/83553333_3334.json  \n",
            "  inflating: __MACOSX/dataset/testing_data/annotations/._83553333_3334.json  \n",
            "  inflating: dataset/testing_data/annotations/82200067_0069.json  \n",
            "  inflating: __MACOSX/dataset/testing_data/annotations/._82200067_0069.json  \n",
            "  inflating: dataset/testing_data/annotations/82504862.json  \n",
            "  inflating: __MACOSX/dataset/testing_data/annotations/._82504862.json  \n",
            "  inflating: dataset/testing_data/annotations/87086073.json  \n",
            "  inflating: __MACOSX/dataset/testing_data/annotations/._87086073.json  \n",
            "  inflating: dataset/testing_data/annotations/89856243.json  \n",
            "  inflating: __MACOSX/dataset/testing_data/annotations/._89856243.json  \n",
            "  inflating: dataset/testing_data/annotations/85629964.json  \n",
            "  inflating: __MACOSX/dataset/testing_data/annotations/._85629964.json  \n",
            "  inflating: dataset/testing_data/annotations/83996357.json  \n",
            "  inflating: __MACOSX/dataset/testing_data/annotations/._83996357.json  \n",
            "  inflating: dataset/testing_data/annotations/86079776_9777.json  \n",
            "  inflating: __MACOSX/dataset/testing_data/annotations/._86079776_9777.json  \n",
            "  inflating: dataset/testing_data/annotations/83772145.json  \n",
            "  inflating: __MACOSX/dataset/testing_data/annotations/._83772145.json  \n",
            "  inflating: dataset/testing_data/annotations/82252956_2958.json  \n",
            "  inflating: __MACOSX/dataset/testing_data/annotations/._82252956_2958.json  \n",
            "  inflating: dataset/testing_data/annotations/87528321.json  \n",
            "  inflating: __MACOSX/dataset/testing_data/annotations/._87528321.json  \n",
            "  inflating: dataset/testing_data/annotations/82250337_0338.json  \n",
            "  inflating: __MACOSX/dataset/testing_data/annotations/._82250337_0338.json  \n",
            "  inflating: dataset/testing_data/annotations/83635935.json  \n",
            "  inflating: __MACOSX/dataset/testing_data/annotations/._83635935.json  \n",
            "  inflating: dataset/testing_data/annotations/82254765.json  \n",
            "  inflating: __MACOSX/dataset/testing_data/annotations/._82254765.json  \n",
            "  inflating: dataset/testing_data/annotations/82573104.json  \n",
            "  inflating: __MACOSX/dataset/testing_data/annotations/._82573104.json  \n",
            "  inflating: dataset/testing_data/annotations/82253058_3059.json  \n",
            "  inflating: __MACOSX/dataset/testing_data/annotations/._82253058_3059.json  \n",
            "  inflating: dataset/testing_data/annotations/87428306.json  \n",
            "  inflating: __MACOSX/dataset/testing_data/annotations/._87428306.json  \n",
            "  inflating: dataset/testing_data/annotations/82253362_3364.json  \n",
            "  inflating: __MACOSX/dataset/testing_data/annotations/._82253362_3364.json  \n",
            "  inflating: dataset/testing_data/annotations/87137840.json  \n",
            "  inflating: __MACOSX/dataset/testing_data/annotations/._87137840.json  \n",
            "  inflating: dataset/testing_data/annotations/87147607.json  \n",
            "  inflating: __MACOSX/dataset/testing_data/annotations/._87147607.json  \n",
            "  inflating: dataset/testing_data/annotations/82251504.json  \n",
            "  inflating: __MACOSX/dataset/testing_data/annotations/._82251504.json  \n",
            "  inflating: dataset/testing_data/annotations/83823750.json  \n",
            "  inflating: __MACOSX/dataset/testing_data/annotations/._83823750.json  \n",
            "  inflating: dataset/testing_data/annotations/82253245_3247.json  \n",
            "  inflating: __MACOSX/dataset/testing_data/annotations/._82253245_3247.json  \n",
            "  inflating: dataset/testing_data/annotations/92380595.json  \n",
            "  inflating: __MACOSX/dataset/testing_data/annotations/._92380595.json  \n",
            "  inflating: dataset/testing_data/annotations/85201976.json  \n",
            "  inflating: __MACOSX/dataset/testing_data/annotations/._85201976.json  \n",
            "  inflating: dataset/testing_data/annotations/83443897.json  \n",
            "  inflating: __MACOSX/dataset/testing_data/annotations/._83443897.json  \n",
            "  inflating: dataset/testing_data/annotations/85240939.json  \n",
            "  inflating: __MACOSX/dataset/testing_data/annotations/._85240939.json  \n",
            "  inflating: dataset/testing_data/annotations/87332450.json  \n",
            "  inflating: __MACOSX/dataset/testing_data/annotations/._87332450.json  \n",
            "  inflating: dataset/testing_data/annotations/87528380.json  \n",
            "  inflating: __MACOSX/dataset/testing_data/annotations/._87528380.json  \n",
            "  inflating: dataset/testing_data/annotations/91814768_91814769.json  \n",
            "  inflating: __MACOSX/dataset/testing_data/annotations/._91814768_91814769.json  \n",
            "  inflating: dataset/testing_data/annotations/82562350.json  \n",
            "  inflating: __MACOSX/dataset/testing_data/annotations/._82562350.json  \n",
            "  inflating: dataset/testing_data/annotations/86244113.json  \n",
            "  inflating: __MACOSX/dataset/testing_data/annotations/._86244113.json  \n",
            "  inflating: dataset/testing_data/annotations/82491256.json  \n",
            "  inflating: __MACOSX/dataset/testing_data/annotations/._82491256.json  \n",
            "  inflating: dataset/testing_data/annotations/86328049_8050.json  \n",
            "  inflating: __MACOSX/dataset/testing_data/annotations/._86328049_8050.json  \n",
            "  inflating: dataset/testing_data/annotations/82837252.json  \n",
            "  inflating: __MACOSX/dataset/testing_data/annotations/._82837252.json  \n",
            "  inflating: dataset/testing_data/annotations/83641919_1921.json  \n",
            "  inflating: __MACOSX/dataset/testing_data/annotations/._83641919_1921.json  \n",
            "  inflating: dataset/testing_data/annotations/83573282.json  \n",
            "  inflating: __MACOSX/dataset/testing_data/annotations/._83573282.json  \n",
            "  inflating: dataset/testing_data/annotations/86220490.json  \n",
            "  inflating: __MACOSX/dataset/testing_data/annotations/._86220490.json  \n",
            "  inflating: dataset/testing_data/annotations/85540866.json  \n",
            "  inflating: __MACOSX/dataset/testing_data/annotations/._85540866.json  \n",
            "  inflating: dataset/testing_data/annotations/86263525.json  \n",
            "  inflating: __MACOSX/dataset/testing_data/annotations/._86263525.json  \n",
            "  inflating: dataset/testing_data/annotations/82092117.json  \n",
            "  inflating: __MACOSX/dataset/testing_data/annotations/._82092117.json  \n",
            "  inflating: dataset/testing_data/annotations/93106788.json  \n",
            "  inflating: __MACOSX/dataset/testing_data/annotations/._93106788.json  \n",
            "  inflating: dataset/testing_data/annotations/86230203_0206.json  \n",
            "  inflating: __MACOSX/dataset/testing_data/annotations/._86230203_0206.json  \n",
            "  inflating: dataset/testing_data/annotations/87594142_87594144.json  \n",
            "  inflating: __MACOSX/dataset/testing_data/annotations/._87594142_87594144.json  \n",
            "  inflating: dataset/testing_data/annotations/87093315_87093318.json  \n",
            "  inflating: __MACOSX/dataset/testing_data/annotations/._87093315_87093318.json  \n",
            "  inflating: dataset/testing_data/annotations/83624198.json  \n",
            "  inflating: __MACOSX/dataset/testing_data/annotations/._83624198.json  \n",
            "  inflating: dataset/testing_data/annotations/86075409_5410.json  \n",
            "  inflating: __MACOSX/dataset/testing_data/annotations/._86075409_5410.json  \n",
            "  inflating: dataset/testing_data/annotations/87125460.json  \n",
            "  inflating: __MACOSX/dataset/testing_data/annotations/._87125460.json  \n",
            "  inflating: __MACOSX/dataset/testing_data/._annotations  \n",
            "  inflating: __MACOSX/dataset/._testing_data  \n",
            "  inflating: dataset/.DS_Store       \n",
            "  inflating: __MACOSX/dataset/._.DS_Store  \n",
            "  inflating: __MACOSX/._dataset      \n"
          ],
          "name": "stdout"
        }
      ]
    },
    {
      "cell_type": "code",
      "metadata": {
        "id": "cbSCforrTi0z",
        "outputId": "3ccafc22-7edc-4141-f906-9cf4c21567cd",
        "colab": {
          "resources": {
            "http://localhost:8080/nbextensions/google.colab/files.js": {
              "data": "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",
              "ok": true,
              "headers": [
                [
                  "content-type",
                  "application/javascript"
                ]
              ],
              "status": 200,
              "status_text": ""
            }
          },
          "base_uri": "https://localhost:8080/",
          "height": 72
        }
      },
      "source": [
        "from google.colab import files\n",
        "upload = files.upload()"
      ],
      "execution_count": 44,
      "outputs": [
        {
          "output_type": "display_data",
          "data": {
            "text/html": [
              "\n",
              "     <input type=\"file\" id=\"files-30171b02-9179-4f86-a0de-6bc00716ceaa\" name=\"files[]\" multiple disabled\n",
              "        style=\"border:none\" />\n",
              "     <output id=\"result-30171b02-9179-4f86-a0de-6bc00716ceaa\">\n",
              "      Upload widget is only available when the cell has been executed in the\n",
              "      current browser session. Please rerun this cell to enable.\n",
              "      </output>\n",
              "      <script src=\"/nbextensions/google.colab/files.js\"></script> "
            ],
            "text/plain": [
              "<IPython.core.display.HTML object>"
            ]
          },
          "metadata": {
            "tags": []
          }
        },
        {
          "output_type": "stream",
          "text": [
            "Saving table.png to table (1).png\n"
          ],
          "name": "stdout"
        }
      ]
    },
    {
      "cell_type": "code",
      "metadata": {
        "colab": {
          "base_uri": "https://localhost:8080/",
          "height": 176
        },
        "id": "eG-eGcj3sNPs",
        "outputId": "9d862b25-77dd-437b-cf58-a959180867fc"
      },
      "source": [
        "from PIL import Image, ImageDraw, ImageFont\n",
        "\n",
        "image = Image.open(\"table.png\")\n",
        "image = image.convert(\"RGB\")\n",
        "image"
      ],
      "execution_count": 45,
      "outputs": [
        {
          "output_type": "execute_result",
          "data": {
            "image/png": "[encoded data removed]",
            "text/plain": [
              "<PIL.Image.Image image mode=RGB size=333x159 at 0x7F6ECF0752D0>"
            ]
          },
          "metadata": {
            "tags": []
          },
          "execution_count": 45
        }
      ]
    },
    {
      "cell_type": "code",
      "metadata": {
        "colab": {
          "base_uri": "https://localhost:8080/"
        },
        "id": "JPKkuJQ4sdZc",
        "outputId": "f0f35324-af74-483e-ca73-9f84cd3c42f2"
      },
      "source": [
        "import json\n",
        "\n",
        "with open('/content/data/training_data/annotations/0000971160.json') as f:\n",
        "  data = json.load(f)\n",
        "\n",
        "for annotation in data['form']:\n",
        "  print(annotation)"
      ],
      "execution_count": 46,
      "outputs": [
        {
          "output_type": "stream",
          "text": [
            "{'box': [292, 91, 376, 175], 'text': 'R&D', 'label': 'other', 'words': [{'box': [292, 91, 376, 175], 'text': 'R&D'}], 'linking': [], 'id': 0}\n",
            "{'box': [219, 316, 225, 327], 'text': ':', 'label': 'question', 'words': [{'box': [219, 316, 225, 327], 'text': ':'}], 'linking': [], 'id': 1}\n",
            "{'box': [95, 355, 169, 370], 'text': 'Suggestion:', 'label': 'question', 'words': [{'box': [95, 355, 169, 370], 'text': 'Suggestion:'}], 'linking': [[2, 16]], 'id': 2}\n",
            "{'box': [482, 268, 518, 282], 'text': 'Date:', 'label': 'question', 'words': [{'box': [482, 268, 518, 282], 'text': 'Date:'}], 'linking': [[3, 12]], 'id': 3}\n",
            "{'box': [511, 309, 570, 323], 'text': 'Licensee', 'label': 'answer', 'words': [{'box': [511, 309, 570, 323], 'text': 'Licensee'}], 'linking': [[13, 4]], 'id': 4}\n",
            "{'box': [211, 651, 217, 662], 'text': '', 'label': 'question', 'words': [{'box': [211, 651, 217, 662], 'text': ''}], 'linking': [], 'id': 5}\n",
            "{'box': [461, 605, 483, 619], 'text': 'Yes', 'label': 'question', 'words': [{'box': [461, 605, 483, 619], 'text': 'Yes'}], 'linking': [[19, 6]], 'id': 6}\n",
            "{'box': [545, 603, 563, 617], 'text': 'No', 'label': 'question', 'words': [{'box': [545, 603, 563, 617], 'text': 'No'}], 'linking': [[19, 7]], 'id': 7}\n",
            "{'box': [525, 904, 641, 926], 'text': '597005708', 'label': 'other', 'words': [{'box': [525, 904, 641, 926], 'text': '597005708'}], 'linking': [], 'id': 8}\n",
            "{'text': 'R&D QUALITY IMPROVEMENT SUGGESTION/ SOLUTION FORM', 'box': [256, 201, 423, 230], 'linking': [], 'label': 'header', 'words': [{'text': 'R&D', 'box': [257, 203, 279, 214]}, {'text': 'QUALITY', 'box': [285, 203, 334, 216]}, {'text': 'IMPROVEMENT', 'box': [341, 201, 418, 211]}, {'text': 'SUGGESTION/', 'box': [256, 215, 324, 229]}, {'text': '', 'box': [324, 216, 332, 230]}, {'text': 'SOLUTION', 'box': [331, 214, 387, 228]}, {'text': 'FORM', 'box': [395, 215, 423, 228]}], 'id': 9}\n",
            "{'text': 'Name / Phone Ext. :', 'box': [89, 272, 204, 289], 'linking': [[10, 11]], 'label': 'question', 'words': [{'text': 'Name', 'box': [89, 274, 118, 289]}, {'text': '/', 'box': [117, 274, 127, 288]}, {'text': 'Phone', 'box': [128, 274, 163, 289]}, {'text': 'Ext.', 'box': [169, 272, 196, 287]}, {'text': ':', 'box': [196, 274, 204, 288]}], 'id': 10}\n",
            "{'text': 'M. Hamann P. Harper, P. Martinez', 'box': [215, 271, 451, 287], 'linking': [[10, 11]], 'label': 'answer', 'words': [{'text': 'M.', 'box': [215, 272, 230, 287]}, {'text': 'Hamann', 'box': [237, 272, 287, 286]}, {'text': 'P.', 'box': [293, 272, 307, 286]}, {'text': 'Harper,', 'box': [314, 274, 363, 285]}, {'text': 'P.', 'box': [370, 272, 384, 285]}, {'text': 'Martinez', 'box': [390, 271, 451, 282]}], 'id': 11}\n",
            "{'text': '9/ 3/ 92', 'box': [543, 264, 590, 279], 'linking': [[3, 12]], 'label': 'answer', 'words': [{'text': '9/', 'box': [543, 265, 560, 279]}, {'text': '3/', 'box': [560, 264, 575, 279]}, {'text': '92', 'box': [575, 264, 590, 279]}], 'id': 12}\n",
            "{'text': 'R&D Group:', 'box': [420, 310, 491, 323], 'linking': [[13, 4]], 'label': 'question', 'words': [{'text': 'R&D', 'box': [420, 310, 442, 323]}, {'text': 'Group:', 'box': [448, 310, 491, 323]}], 'id': 13}\n",
            "{'text': 'J. S. Wigand', 'box': [236, 313, 327, 327], 'linking': [[15, 14]], 'label': 'answer', 'words': [{'text': 'J.', 'box': [236, 313, 251, 327]}, {'text': 'S.', 'box': [256, 313, 273, 326]}, {'text': 'Wigand', 'box': [278, 313, 327, 327]}], 'id': 14}\n",
            "{'text': 'Supervisor / Manager', 'box': [91, 316, 218, 331], 'linking': [[15, 14]], 'label': 'question', 'words': [{'text': 'Supervisor', 'box': [91, 316, 161, 330]}, {'text': '/', 'box': [163, 318, 169, 331]}, {'text': 'Manager', 'box': [169, 317, 218, 327]}], 'id': 15}\n",
            "{'text': 'Discontinue coal retention analyses on licensee submitted product samples (Note : Coal Retention testing is not performed by most licensees. Other B&W physical measurements as ends stability and inspection for soft spots in ciparettes are thought to be sufficient measures to assure cigarette physical integrity. The proposed action will increase laboratory productivity . )', 'box': [190, 346, 594, 447], 'linking': [[2, 16]], 'label': 'answer', 'words': [{'text': 'Discontinue', 'box': [190, 355, 268, 366]}, {'text': 'coal', 'box': [274, 353, 303, 366]}, {'text': 'retention', 'box': [309, 352, 375, 365]}, {'text': 'analyses', 'box': [381, 351, 435, 365]}, {'text': 'on', 'box': [443, 352, 458, 363]}, {'text': 'licensee', 'box': [464, 348, 520, 362]}, {'text': 'submitted', 'box': [527, 346, 594, 361]}, {'text': 'product', 'box': [190, 369, 240, 383]}, {'text': 'samples', 'box': [247, 367, 301, 380]}, {'text': '(Note', 'box': [318, 365, 352, 379]}, {'text': ':', 'box': [352, 367, 359, 380]}, {'text': 'Coal', 'box': [373, 366, 402, 376]}, {'text': 'Retention', 'box': [408, 366, 472, 376]}, {'text': 'testing', 'box': [479, 365, 529, 376]}, {'text': 'is', 'box': [536, 363, 549, 374]}, {'text': 'not', 'box': [554, 363, 578, 374]}, {'text': 'performed', 'box': [190, 383, 256, 394]}, {'text': 'by', 'box': [261, 381, 275, 394]}, {'text': 'most', 'box': [282, 383, 311, 393]}, {'text': 'licensees.', 'box': [318, 380, 386, 391]}, {'text': 'Other', 'box': [401, 378, 437, 389]}, {'text': 'B&W', 'box': [443, 378, 465, 389]}, {'text': 'physical', 'box': [471, 377, 528, 391]}, {'text': 'measurements', 'box': [191, 398, 275, 406]}, {'text': 'as', 'box': [282, 397, 297, 405]}, {'text': 'ends', 'box': [304, 394, 332, 405]}, {'text': 'stability', 'box': [339, 394, 402, 405]}, {'text': 'and', 'box': [409, 392, 430, 402]}, {'text': 'inspection', 'box': [437, 392, 508, 403]}, {'text': 'for', 'box': [515, 391, 535, 402]}, {'text': 'soft', 'box': [542, 391, 571, 401]}, {'text': 'spots', 'box': [193, 411, 228, 422]}, {'text': 'in', 'box': [235, 409, 250, 420]}, {'text': 'ciparettes', 'box': [256, 409, 327, 419]}, {'text': 'are', 'box': [332, 408, 352, 418]}, {'text': 'thought', 'box': [360, 406, 410, 419]}, {'text': 'to', 'box': [415, 406, 430, 416]}, {'text': 'be', 'box': [436, 404, 453, 417]}, {'text': 'sufficient', 'box': [458, 405, 529, 415]}, {'text': 'measures', 'box': [535, 405, 592, 415]}, {'text': 'to', 'box': [193, 425, 208, 433]}, {'text': 'assure', 'box': [214, 423, 255, 431]}, {'text': 'cigarette', 'box': [261, 420, 325, 434]}, {'text': 'physical', 'box': [331, 419, 390, 432]}, {'text': 'integrity.', 'box': [395, 418, 463, 431]}, {'text': 'The', 'box': [478, 416, 500, 429]}, {'text': 'proposed', 'box': [506, 418, 566, 431]}, {'text': 'action', 'box': [193, 436, 236, 447]}, {'text': 'will', 'box': [240, 436, 269, 447]}, {'text': 'increase', 'box': [277, 434, 333, 445]}, {'text': 'laboratory', 'box': [339, 433, 410, 446]}, {'text': 'productivity', 'box': [418, 430, 502, 445]}, {'text': '.', 'box': [503, 433, 507, 444]}, {'text': ')', 'box': [508, 430, 514, 444]}], 'id': 16}\n",
            "{'text': 'Suggested Solutions (s) :', 'box': [95, 486, 250, 504], 'linking': [[17, 18]], 'label': 'question', 'words': [{'text': 'Suggested', 'box': [95, 489, 159, 504]}, {'text': 'Solutions', 'box': [165, 487, 222, 501]}, {'text': '(s)', 'box': [223, 486, 241, 503]}, {'text': ':', 'box': [243, 489, 250, 503]}], 'id': 17}\n",
            "{'text': 'Delete coal retention from the list of standard analyses performed on licensee submitted product samples. Special requests for coal retention testing could still be submitted on an exception basis.', 'box': [263, 483, 593, 553], 'linking': [[17, 18]], 'label': 'answer', 'words': [{'text': 'Delete', 'box': [263, 486, 306, 500]}, {'text': 'coal', 'box': [313, 486, 341, 499]}, {'text': 'retention', 'box': [348, 486, 412, 497]}, {'text': 'from', 'box': [416, 485, 447, 498]}, {'text': 'the', 'box': [453, 485, 475, 498]}, {'text': 'list', 'box': [480, 483, 508, 496]}, {'text': 'of', 'box': [515, 483, 532, 494]}, {'text': 'standard', 'box': [536, 483, 593, 494]}, {'text': 'analyses', 'box': [264, 501, 320, 514]}, {'text': 'performed', 'box': [324, 501, 392, 512]}, {'text': 'on', 'box': [397, 501, 412, 511]}, {'text': 'licensee', 'box': [419, 499, 475, 512]}, {'text': 'submitted', 'box': [482, 499, 546, 510]}, {'text': 'product', 'box': [264, 517, 314, 528]}, {'text': 'samples.', 'box': [320, 514, 374, 528]}, {'text': 'Special', 'box': [390, 513, 439, 526]}, {'text': 'requests', 'box': [446, 513, 502, 524]}, {'text': 'for', 'box': [508, 511, 530, 522]}, {'text': 'coal', 'box': [538, 510, 566, 523]}, {'text': 'retention', 'box': [263, 529, 330, 540]}, {'text': 'testing', 'box': [335, 527, 387, 540]}, {'text': 'could', 'box': [390, 527, 428, 538]}, {'text': 'still', 'box': [433, 525, 468, 536]}, {'text': 'be', 'box': [473, 525, 488, 535]}, {'text': 'submitted', 'box': [496, 524, 560, 537]}, {'text': 'on', 'box': [566, 524, 584, 537]}, {'text': 'an', 'box': [264, 543, 281, 553]}, {'text': 'exception', 'box': [286, 539, 350, 553]}, {'text': 'basis.', 'box': [355, 541, 397, 551]}], 'id': 18}\n",
            "{'text': 'Have you contacted your Manager/ Supervisor?', 'box': [96, 608, 398, 624], 'linking': [[19, 6], [19, 7]], 'label': 'header', 'words': [{'text': 'Have', 'box': [96, 612, 127, 623]}, {'text': 'you', 'box': [131, 613, 156, 624]}, {'text': 'contacted', 'box': [161, 612, 225, 623]}, {'text': 'your', 'box': [229, 610, 260, 623]}, {'text': 'Manager/', 'box': [264, 609, 314, 622]}, {'text': '', 'box': [314, 608, 322, 622]}, {'text': 'Supervisor?', 'box': [323, 608, 398, 621]}], 'id': 19}\n",
            "{'text': 'Manager Comments:', 'box': [98, 651, 211, 665], 'linking': [[20, 21], [20, 22]], 'label': 'question', 'words': [{'text': 'Manager', 'box': [98, 654, 150, 665]}, {'text': 'Comments:', 'box': [154, 651, 211, 664]}], 'id': 20}\n",
            "{'text': 'Manager, please contact suggester and forward', 'box': [232, 644, 547, 662], 'linking': [[20, 21]], 'label': 'answer', 'words': [{'text': 'Manager,', 'box': [232, 648, 288, 662]}, {'text': 'please', 'box': [296, 649, 338, 662]}, {'text': 'contact', 'box': [344, 648, 394, 662]}, {'text': 'suggester', 'box': [401, 648, 464, 661]}, {'text': 'and', 'box': [469, 647, 491, 658]}, {'text': 'forward', 'box': [497, 644, 547, 657]}], 'id': 21}\n",
            "{'text': 'comments to the Quality Council.', 'box': [99, 662, 323, 677], 'linking': [[20, 22]], 'label': 'answer', 'words': [{'text': 'comments', 'box': [99, 666, 155, 677]}, {'text': 'to', 'box': [162, 665, 177, 676]}, {'text': 'the', 'box': [183, 665, 205, 675]}, {'text': 'Quality', 'box': [211, 663, 261, 676]}, {'text': 'Council.', 'box': [267, 662, 323, 676]}], 'id': 22}\n",
            "{'text': 'qip . wp', 'box': [102, 823, 145, 838], 'linking': [], 'label': 'other', 'words': [{'text': 'qip', 'box': [102, 824, 123, 837]}, {'text': '.', 'box': [124, 824, 130, 838]}, {'text': 'wp', 'box': [130, 823, 145, 837]}], 'id': 23}\n"
          ],
          "name": "stdout"
        }
      ]
    },
    {
      "cell_type": "code",
      "metadata": {
        "colab": {
          "base_uri": "https://localhost:8080/",
          "height": 176
        },
        "id": "gWaHFM_LtKPP",
        "outputId": "5bd6450b-acf0-4b03-f098-b88ceae655e8"
      },
      "source": [
        "draw = ImageDraw.Draw(image, \"RGBA\")\n",
        "\n",
        "font = ImageFont.load_default()\n",
        "\n",
        "label2color = {'question':'blue', 'answer':'green', 'header':'orange', 'other':'violet'}\n",
        "\n",
        "for annotation in data['form']:\n",
        "  label = annotation['label']\n",
        "  general_box = annotation['box']\n",
        "  draw.rectangle(general_box, outline=label2color[label], width=2)\n",
        "  draw.text((general_box[0] + 10, general_box[1] - 10), label, fill=label2color[label], font=font)\n",
        "  words = annotation['words']\n",
        "  for word in words:\n",
        "    box = word['box']\n",
        "    draw.rectangle(box, outline=label2color[label], width=1)\n",
        "\n",
        "image"
      ],
      "execution_count": 48,
      "outputs": [
        {
          "output_type": "execute_result",
          "data": {
            "image/png": "[encoded data removed]",
            "text/plain": [
              "<PIL.Image.Image image mode=RGB size=333x159 at 0x7F6ECF0752D0>"
            ]
          },
          "metadata": {
            "tags": []
          },
          "execution_count": 48
        }
      ]
    },
    {
      "cell_type": "code",
      "metadata": {
        "colab": {
          "base_uri": "https://localhost:8080/"
        },
        "id": "4DWRyOR9RuY6",
        "outputId": "1c770d05-1b5b-4990-b9da-093970e90750"
      },
      "source": [
        "! python unilm/layoutlm/examples/seq_labeling/preprocess.py --data_dir data/training_data/annotations \\\n",
        "                                                      --data_split train \\\n",
        "                                                      --output_dir data \\\n",
        "                                                      --model_name_or_path microsoft/layoutlm-base-uncased \\\n",
        "                                                      --max_len 510\n",
        "\n",
        "! python unilm/layoutlm/examples/seq_labeling/preprocess.py --data_dir data/testing_data/annotations \\\n",
        "                                                      --data_split test \\\n",
        "                                                      --output_dir data \\\n",
        "                                                      --model_name_or_path microsoft/layoutlm-base-uncased \\\n",
        "                                                      --max_len 510"
      ],
      "execution_count": 49,
      "outputs": [
        {
          "output_type": "stream",
          "text": [
            "2021-07-27 18:52:41.388544: I tensorflow/stream_executor/platform/default/dso_loader.cc:53] Successfully opened dynamic library libcudart.so.11.0\n",
            "2021-07-27 18:52:50.827136: I tensorflow/stream_executor/platform/default/dso_loader.cc:53] Successfully opened dynamic library libcudart.so.11.0\n"
          ],
          "name": "stdout"
        }
      ]
    },
    {
      "cell_type": "code",
      "metadata": {
        "id": "8iGOU0s3UR2u"
      },
      "source": [
        "! cat data/train.txt | cut -d$'\\t' -f 2 | grep -v \"^$\"| sort | uniq > data/labels.txt"
      ],
      "execution_count": 50,
      "outputs": []
    },
    {
      "cell_type": "code",
      "metadata": {
        "id": "675rRa0QXnMp"
      },
      "source": [
        "from torch.nn import CrossEntropyLoss\n",
        "\n",
        "def get_labels(path):\n",
        "    with open(path, \"r\") as f:\n",
        "        labels = f.read().splitlines()\n",
        "    if \"O\" not in labels:\n",
        "        labels = [\"O\"] + labels\n",
        "    return labels\n",
        "\n",
        "labels = get_labels(\"data/labels.txt\")\n",
        "num_labels = len(labels)\n",
        "label_map = {i: label for i, label in enumerate(labels)}\n",
        "# Use cross entropy ignore index as padding label id so that only real label ids contribute to the loss later\n",
        "pad_token_label_id = CrossEntropyLoss().ignore_index"
      ],
      "execution_count": 51,
      "outputs": []
    },
    {
      "cell_type": "code",
      "metadata": {
        "colab": {
          "base_uri": "https://localhost:8080/"
        },
        "id": "_-qXLkP9Yq_L",
        "outputId": "e626f7cc-2b28-436f-c42e-011030c618e7"
      },
      "source": [
        "print(labels)"
      ],
      "execution_count": 52,
      "outputs": [
        {
          "output_type": "stream",
          "text": [
            "['B-ANSWER', 'B-HEADER', 'B-QUESTION', 'E-ANSWER', 'E-HEADER', 'E-QUESTION', 'I-ANSWER', 'I-HEADER', 'I-QUESTION', 'O', 'S-ANSWER', 'S-HEADER', 'S-QUESTION']\n"
          ],
          "name": "stdout"
        }
      ]
    },
    {
      "cell_type": "code",
      "metadata": {
        "id": "HUJftzeBWh2S"
      },
      "source": [
        "from transformers import LayoutLMTokenizer\n",
        "from layoutlm.data.funsd import FunsdDataset, InputFeatures\n",
        "from torch.utils.data import DataLoader, RandomSampler, SequentialSampler\n",
        "\n",
        "args = {'local_rank': -1,\n",
        "        'overwrite_cache': True,\n",
        "        'data_dir': '/content/data',\n",
        "        'model_name_or_path':'microsoft/layoutlm-base-uncased',\n",
        "        'max_seq_length': 512,\n",
        "        'model_type': 'layoutlm',}\n",
        "\n",
        "# class to turn the keys of a dict into attributes (thanks Stackoverflow)\n",
        "class AttrDict(dict):\n",
        "    def __init__(self, *args, **kwargs):\n",
        "        super(AttrDict, self).__init__(*args, **kwargs)\n",
        "        self.__dict__ = self\n",
        "\n",
        "args = AttrDict(args)\n",
        "\n",
        "tokenizer = LayoutLMTokenizer.from_pretrained(\"microsoft/layoutlm-base-uncased\")\n",
        "\n",
        "# the LayoutLM authors already defined a specific FunsdDataset, so we are going to use this here\n",
        "train_dataset = FunsdDataset(args, tokenizer, labels, pad_token_label_id, mode=\"train\")\n",
        "train_sampler = RandomSampler(train_dataset)\n",
        "train_dataloader = DataLoader(train_dataset,\n",
        "                              sampler=train_sampler,\n",
        "                              batch_size=2)\n",
        "\n",
        "eval_dataset = FunsdDataset(args, tokenizer, labels, pad_token_label_id, mode=\"test\")\n",
        "eval_sampler = SequentialSampler(eval_dataset)\n",
        "eval_dataloader = DataLoader(eval_dataset,\n",
        "                             sampler=eval_sampler,\n",
        "                            batch_size=2)"
      ],
      "execution_count": 53,
      "outputs": []
    },
    {
      "cell_type": "code",
      "metadata": {
        "colab": {
          "base_uri": "https://localhost:8080/"
        },
        "id": "18NMUBzgOdqu",
        "outputId": "e0b39223-9569-4a86-b161-718d2a60b6ac"
      },
      "source": [
        "len(train_dataloader)"
      ],
      "execution_count": 54,
      "outputs": [
        {
          "output_type": "execute_result",
          "data": {
            "text/plain": [
              "75"
            ]
          },
          "metadata": {
            "tags": []
          },
          "execution_count": 54
        }
      ]
    },
    {
      "cell_type": "code",
      "metadata": {
        "colab": {
          "base_uri": "https://localhost:8080/"
        },
        "id": "toFjxtn71B1U",
        "outputId": "5ad67323-109e-4ce8-deba-b5e35fd56db3"
      },
      "source": [
        "len(eval_dataloader)"
      ],
      "execution_count": 55,
      "outputs": [
        {
          "output_type": "execute_result",
          "data": {
            "text/plain": [
              "26"
            ]
          },
          "metadata": {
            "tags": []
          },
          "execution_count": 55
        }
      ]
    },
    {
      "cell_type": "code",
      "metadata": {
        "colab": {
          "base_uri": "https://localhost:8080/",
          "height": 171
        },
        "id": "RhINSBw9I24G",
        "outputId": "9ecbc3aa-46f2-4f27-ee56-b0fc1491b885"
      },
      "source": [
        "batch = next(iter(train_dataloader))\n",
        "input_ids = batch[0][0]\n",
        "tokenizer.decode(input_ids)"
      ],
      "execution_count": 56,
      "outputs": [
        {
          "output_type": "execute_result",
          "data": {
            "application/vnd.google.colaboratory.intrinsic+json": {
              "type": "string"
            },
            "text/plain": [
              "'[CLS] to : from : x geography region : full partial partial full division : subject : 12 13 7 x distribution 70 121 81619486 s. p. zolot submission date r. w. richardson june 29 aug 10 sept 21 nov 9 maverick specials expansion markets progress report ( only if partial region, continue with division ( s ) scope ) division name : detroit north detroit south detroit central division name : division name : division name : division name : division name : detroit east detroit west # reps : # reps : # reps : direct accounts and chains headquartered within the region ( 15 + stores ) stocking no maverick specials name of account ind / lor volume number of stores name of account ind / lor volume number of stores meijer gas ultra diamond 245 / 19 223 / 25 direct accounts and chains headquartered outside the region ( 15 + stores stocking no maverick specials name of account ind / lor volume number of stores name of account ind / lor volume number of stores page 1 of 3 [SEP] [PAD] [PAD] [PAD] [PAD] [PAD] [PAD] [PAD] [PAD] [PAD] [PAD] [PAD] [PAD] [PAD] [PAD] [PAD] [PAD] [PAD] [PAD] [PAD] [PAD] [PAD] [PAD] [PAD] [PAD] [PAD] [PAD] [PAD] [PAD] [PAD] [PAD] [PAD] [PAD] [PAD] [PAD] [PAD] [PAD] [PAD] [PAD] [PAD] [PAD] [PAD] [PAD] [PAD] [PAD] [PAD] [PAD] [PAD] [PAD] [PAD] [PAD] [PAD] [PAD] [PAD] [PAD] [PAD] [PAD] [PAD] [PAD] [PAD] [PAD] [PAD] [PAD] [PAD] [PAD] [PAD] [PAD] [PAD] [PAD] [PAD] [PAD] [PAD] [PAD] [PAD] [PAD] [PAD] [PAD] [PAD] [PAD] [PAD] [PAD] [PAD] [PAD] [PAD] [PAD] [PAD] [PAD] [PAD] [PAD] [PAD] [PAD] [PAD] [PAD] [PAD] [PAD] [PAD] [PAD] [PAD] [PAD] [PAD] [PAD] [PAD] [PAD] [PAD] [PAD] [PAD] [PAD] [PAD] [PAD] [PAD] [PAD] [PAD] [PAD] [PAD] [PAD] [PAD] [PAD] [PAD] [PAD] [PAD] [PAD] [PAD] [PAD] [PAD] [PAD] [PAD] [PAD] [PAD] [PAD] [PAD] [PAD] [PAD] [PAD] [PAD] [PAD] [PAD] [PAD] [PAD] [PAD] [PAD] [PAD] [PAD] [PAD] [PAD] [PAD] [PAD] [PAD] [PAD] [PAD] [PAD] [PAD] [PAD] [PAD] [PAD] [PAD] [PAD] [PAD] [PAD] [PAD] [PAD] [PAD] [PAD] [PAD] [PAD] [PAD] [PAD] [PAD] [PAD] [PAD] [PAD] [PAD] [PAD] [PAD] [PAD] [PAD] [PAD] [PAD] [PAD] [PAD] [PAD] [PAD] [PAD] [PAD] [PAD] [PAD] [PAD] [PAD] [PAD] [PAD] [PAD] [PAD] [PAD] [PAD] [PAD] [PAD] [PAD] [PAD] [PAD] [PAD] [PAD] [PAD] [PAD] [PAD] [PAD] [PAD] [PAD] [PAD] [PAD] [PAD] [PAD] [PAD] [PAD] [PAD] [PAD] [PAD] [PAD] [PAD] [PAD] [PAD] [PAD] [PAD] [PAD] [PAD] [PAD] [PAD] [PAD] [PAD] [PAD] [PAD] [PAD] [PAD] [PAD] [PAD] [PAD] [PAD] [PAD] [PAD] [PAD] [PAD] [PAD] [PAD] [PAD] [PAD] [PAD] [PAD] [PAD] [PAD] [PAD] [PAD] [PAD] [PAD] [PAD] [PAD] [PAD] [PAD] [PAD] [PAD] [PAD] [PAD] [PAD] [PAD] [PAD] [PAD] [PAD] [PAD] [PAD] [PAD] [PAD] [PAD] [PAD] [PAD] [PAD] [PAD] [PAD] [PAD] [PAD] [PAD] [PAD] [PAD] [PAD] [PAD] [PAD] [PAD] [PAD] [PAD] [PAD] [PAD] [PAD] [PAD] [PAD] [PAD] [PAD] [PAD] [PAD] [PAD] [PAD] [PAD] [PAD] [PAD] [PAD] [PAD] [PAD] [PAD] [PAD] [PAD] [PAD] [PAD]'"
            ]
          },
          "metadata": {
            "tags": []
          },
          "execution_count": 56
        }
      ]
    },
    {
      "cell_type": "code",
      "metadata": {
        "colab": {
          "base_uri": "https://localhost:8080/"
        },
        "id": "xIdOsFBiTsuw",
        "outputId": "f7072a02-5a8e-4451-9c29-4c8e7cc9b633"
      },
      "source": [
        "from transformers import LayoutLMForTokenClassification\n",
        "import torch\n",
        "\n",
        "device = torch.device(\"cuda\" if torch.cuda.is_available() else \"cpu\")\n",
        "\n",
        "model = LayoutLMForTokenClassification.from_pretrained(\"microsoft/layoutlm-base-uncased\", num_labels=num_labels)\n",
        "model.to(device)"
      ],
      "execution_count": 57,
      "outputs": [
        {
          "output_type": "stream",
          "text": [
            "Some weights of the model checkpoint at microsoft/layoutlm-base-uncased were not used when initializing LayoutLMForTokenClassification: ['cls.predictions.decoder.bias', 'cls.predictions.transform.LayerNorm.weight', 'cls.predictions.transform.dense.bias', 'cls.predictions.decoder.weight', 'cls.predictions.transform.dense.weight', 'cls.predictions.bias', 'cls.predictions.transform.LayerNorm.bias']\n",
            "- This IS expected if you are initializing LayoutLMForTokenClassification from the checkpoint of a model trained on another task or with another architecture (e.g. initializing a BertForSequenceClassification model from a BertForPreTraining model).\n",
            "- This IS NOT expected if you are initializing LayoutLMForTokenClassification from the checkpoint of a model that you expect to be exactly identical (initializing a BertForSequenceClassification model from a BertForSequenceClassification model).\n",
            "Some weights of LayoutLMForTokenClassification were not initialized from the model checkpoint at microsoft/layoutlm-base-uncased and are newly initialized: ['classifier.bias', 'classifier.weight']\n",
            "You should probably TRAIN this model on a down-stream task to be able to use it for predictions and inference.\n"
          ],
          "name": "stderr"
        },
        {
          "output_type": "execute_result",
          "data": {
            "text/plain": [
              "LayoutLMForTokenClassification(\n",
              "  (layoutlm): LayoutLMModel(\n",
              "    (embeddings): LayoutLMEmbeddings(\n",
              "      (word_embeddings): Embedding(30522, 768, padding_idx=0)\n",
              "      (position_embeddings): Embedding(512, 768)\n",
              "      (x_position_embeddings): Embedding(1024, 768)\n",
              "      (y_position_embeddings): Embedding(1024, 768)\n",
              "      (h_position_embeddings): Embedding(1024, 768)\n",
              "      (w_position_embeddings): Embedding(1024, 768)\n",
              "      (token_type_embeddings): Embedding(2, 768)\n",
              "      (LayerNorm): LayerNorm((768,), eps=1e-12, elementwise_affine=True)\n",
              "      (dropout): Dropout(p=0.1, inplace=False)\n",
              "    )\n",
              "    (encoder): LayoutLMEncoder(\n",
              "      (layer): ModuleList(\n",
              "        (0): LayoutLMLayer(\n",
              "          (attention): LayoutLMAttention(\n",
              "            (self): LayoutLMSelfAttention(\n",
              "              (query): Linear(in_features=768, out_features=768, bias=True)\n",
              "              (key): Linear(in_features=768, out_features=768, bias=True)\n",
              "              (value): Linear(in_features=768, out_features=768, bias=True)\n",
              "              (dropout): Dropout(p=0.1, inplace=False)\n",
              "            )\n",
              "            (output): LayoutLMSelfOutput(\n",
              "              (dense): Linear(in_features=768, out_features=768, bias=True)\n",
              "              (LayerNorm): LayerNorm((768,), eps=1e-12, elementwise_affine=True)\n",
              "              (dropout): Dropout(p=0.1, inplace=False)\n",
              "            )\n",
              "          )\n",
              "          (intermediate): LayoutLMIntermediate(\n",
              "            (dense): Linear(in_features=768, out_features=3072, bias=True)\n",
              "          )\n",
              "          (output): LayoutLMOutput(\n",
              "            (dense): Linear(in_features=3072, out_features=768, bias=True)\n",
              "            (LayerNorm): LayerNorm((768,), eps=1e-12, elementwise_affine=True)\n",
              "            (dropout): Dropout(p=0.1, inplace=False)\n",
              "          )\n",
              "        )\n",
              "        (1): LayoutLMLayer(\n",
              "          (attention): LayoutLMAttention(\n",
              "            (self): LayoutLMSelfAttention(\n",
              "              (query): Linear(in_features=768, out_features=768, bias=True)\n",
              "              (key): Linear(in_features=768, out_features=768, bias=True)\n",
              "              (value): Linear(in_features=768, out_features=768, bias=True)\n",
              "              (dropout): Dropout(p=0.1, inplace=False)\n",
              "            )\n",
              "            (output): LayoutLMSelfOutput(\n",
              "              (dense): Linear(in_features=768, out_features=768, bias=True)\n",
              "              (LayerNorm): LayerNorm((768,), eps=1e-12, elementwise_affine=True)\n",
              "              (dropout): Dropout(p=0.1, inplace=False)\n",
              "            )\n",
              "          )\n",
              "          (intermediate): LayoutLMIntermediate(\n",
              "            (dense): Linear(in_features=768, out_features=3072, bias=True)\n",
              "          )\n",
              "          (output): LayoutLMOutput(\n",
              "            (dense): Linear(in_features=3072, out_features=768, bias=True)\n",
              "            (LayerNorm): LayerNorm((768,), eps=1e-12, elementwise_affine=True)\n",
              "            (dropout): Dropout(p=0.1, inplace=False)\n",
              "          )\n",
              "        )\n",
              "        (2): LayoutLMLayer(\n",
              "          (attention): LayoutLMAttention(\n",
              "            (self): LayoutLMSelfAttention(\n",
              "              (query): Linear(in_features=768, out_features=768, bias=True)\n",
              "              (key): Linear(in_features=768, out_features=768, bias=True)\n",
              "              (value): Linear(in_features=768, out_features=768, bias=True)\n",
              "              (dropout): Dropout(p=0.1, inplace=False)\n",
              "            )\n",
              "            (output): LayoutLMSelfOutput(\n",
              "              (dense): Linear(in_features=768, out_features=768, bias=True)\n",
              "              (LayerNorm): LayerNorm((768,), eps=1e-12, elementwise_affine=True)\n",
              "              (dropout): Dropout(p=0.1, inplace=False)\n",
              "            )\n",
              "          )\n",
              "          (intermediate): LayoutLMIntermediate(\n",
              "            (dense): Linear(in_features=768, out_features=3072, bias=True)\n",
              "          )\n",
              "          (output): LayoutLMOutput(\n",
              "            (dense): Linear(in_features=3072, out_features=768, bias=True)\n",
              "            (LayerNorm): LayerNorm((768,), eps=1e-12, elementwise_affine=True)\n",
              "            (dropout): Dropout(p=0.1, inplace=False)\n",
              "          )\n",
              "        )\n",
              "        (3): LayoutLMLayer(\n",
              "          (attention): LayoutLMAttention(\n",
              "            (self): LayoutLMSelfAttention(\n",
              "              (query): Linear(in_features=768, out_features=768, bias=True)\n",
              "              (key): Linear(in_features=768, out_features=768, bias=True)\n",
              "              (value): Linear(in_features=768, out_features=768, bias=True)\n",
              "              (dropout): Dropout(p=0.1, inplace=False)\n",
              "            )\n",
              "            (output): LayoutLMSelfOutput(\n",
              "              (dense): Linear(in_features=768, out_features=768, bias=True)\n",
              "              (LayerNorm): LayerNorm((768,), eps=1e-12, elementwise_affine=True)\n",
              "              (dropout): Dropout(p=0.1, inplace=False)\n",
              "            )\n",
              "          )\n",
              "          (intermediate): LayoutLMIntermediate(\n",
              "            (dense): Linear(in_features=768, out_features=3072, bias=True)\n",
              "          )\n",
              "          (output): LayoutLMOutput(\n",
              "            (dense): Linear(in_features=3072, out_features=768, bias=True)\n",
              "            (LayerNorm): LayerNorm((768,), eps=1e-12, elementwise_affine=True)\n",
              "            (dropout): Dropout(p=0.1, inplace=False)\n",
              "          )\n",
              "        )\n",
              "        (4): LayoutLMLayer(\n",
              "          (attention): LayoutLMAttention(\n",
              "            (self): LayoutLMSelfAttention(\n",
              "              (query): Linear(in_features=768, out_features=768, bias=True)\n",
              "              (key): Linear(in_features=768, out_features=768, bias=True)\n",
              "              (value): Linear(in_features=768, out_features=768, bias=True)\n",
              "              (dropout): Dropout(p=0.1, inplace=False)\n",
              "            )\n",
              "            (output): LayoutLMSelfOutput(\n",
              "              (dense): Linear(in_features=768, out_features=768, bias=True)\n",
              "              (LayerNorm): LayerNorm((768,), eps=1e-12, elementwise_affine=True)\n",
              "              (dropout): Dropout(p=0.1, inplace=False)\n",
              "            )\n",
              "          )\n",
              "          (intermediate): LayoutLMIntermediate(\n",
              "            (dense): Linear(in_features=768, out_features=3072, bias=True)\n",
              "          )\n",
              "          (output): LayoutLMOutput(\n",
              "            (dense): Linear(in_features=3072, out_features=768, bias=True)\n",
              "            (LayerNorm): LayerNorm((768,), eps=1e-12, elementwise_affine=True)\n",
              "            (dropout): Dropout(p=0.1, inplace=False)\n",
              "          )\n",
              "        )\n",
              "        (5): LayoutLMLayer(\n",
              "          (attention): LayoutLMAttention(\n",
              "            (self): LayoutLMSelfAttention(\n",
              "              (query): Linear(in_features=768, out_features=768, bias=True)\n",
              "              (key): Linear(in_features=768, out_features=768, bias=True)\n",
              "              (value): Linear(in_features=768, out_features=768, bias=True)\n",
              "              (dropout): Dropout(p=0.1, inplace=False)\n",
              "            )\n",
              "            (output): LayoutLMSelfOutput(\n",
              "              (dense): Linear(in_features=768, out_features=768, bias=True)\n",
              "              (LayerNorm): LayerNorm((768,), eps=1e-12, elementwise_affine=True)\n",
              "              (dropout): Dropout(p=0.1, inplace=False)\n",
              "            )\n",
              "          )\n",
              "          (intermediate): LayoutLMIntermediate(\n",
              "            (dense): Linear(in_features=768, out_features=3072, bias=True)\n",
              "          )\n",
              "          (output): LayoutLMOutput(\n",
              "            (dense): Linear(in_features=3072, out_features=768, bias=True)\n",
              "            (LayerNorm): LayerNorm((768,), eps=1e-12, elementwise_affine=True)\n",
              "            (dropout): Dropout(p=0.1, inplace=False)\n",
              "          )\n",
              "        )\n",
              "        (6): LayoutLMLayer(\n",
              "          (attention): LayoutLMAttention(\n",
              "            (self): LayoutLMSelfAttention(\n",
              "              (query): Linear(in_features=768, out_features=768, bias=True)\n",
              "              (key): Linear(in_features=768, out_features=768, bias=True)\n",
              "              (value): Linear(in_features=768, out_features=768, bias=True)\n",
              "              (dropout): Dropout(p=0.1, inplace=False)\n",
              "            )\n",
              "            (output): LayoutLMSelfOutput(\n",
              "              (dense): Linear(in_features=768, out_features=768, bias=True)\n",
              "              (LayerNorm): LayerNorm((768,), eps=1e-12, elementwise_affine=True)\n",
              "              (dropout): Dropout(p=0.1, inplace=False)\n",
              "            )\n",
              "          )\n",
              "          (intermediate): LayoutLMIntermediate(\n",
              "            (dense): Linear(in_features=768, out_features=3072, bias=True)\n",
              "          )\n",
              "          (output): LayoutLMOutput(\n",
              "            (dense): Linear(in_features=3072, out_features=768, bias=True)\n",
              "            (LayerNorm): LayerNorm((768,), eps=1e-12, elementwise_affine=True)\n",
              "            (dropout): Dropout(p=0.1, inplace=False)\n",
              "          )\n",
              "        )\n",
              "        (7): LayoutLMLayer(\n",
              "          (attention): LayoutLMAttention(\n",
              "            (self): LayoutLMSelfAttention(\n",
              "              (query): Linear(in_features=768, out_features=768, bias=True)\n",
              "              (key): Linear(in_features=768, out_features=768, bias=True)\n",
              "              (value): Linear(in_features=768, out_features=768, bias=True)\n",
              "              (dropout): Dropout(p=0.1, inplace=False)\n",
              "            )\n",
              "            (output): LayoutLMSelfOutput(\n",
              "              (dense): Linear(in_features=768, out_features=768, bias=True)\n",
              "              (LayerNorm): LayerNorm((768,), eps=1e-12, elementwise_affine=True)\n",
              "              (dropout): Dropout(p=0.1, inplace=False)\n",
              "            )\n",
              "          )\n",
              "          (intermediate): LayoutLMIntermediate(\n",
              "            (dense): Linear(in_features=768, out_features=3072, bias=True)\n",
              "          )\n",
              "          (output): LayoutLMOutput(\n",
              "            (dense): Linear(in_features=3072, out_features=768, bias=True)\n",
              "            (LayerNorm): LayerNorm((768,), eps=1e-12, elementwise_affine=True)\n",
              "            (dropout): Dropout(p=0.1, inplace=False)\n",
              "          )\n",
              "        )\n",
              "        (8): LayoutLMLayer(\n",
              "          (attention): LayoutLMAttention(\n",
              "            (self): LayoutLMSelfAttention(\n",
              "              (query): Linear(in_features=768, out_features=768, bias=True)\n",
              "              (key): Linear(in_features=768, out_features=768, bias=True)\n",
              "              (value): Linear(in_features=768, out_features=768, bias=True)\n",
              "              (dropout): Dropout(p=0.1, inplace=False)\n",
              "            )\n",
              "            (output): LayoutLMSelfOutput(\n",
              "              (dense): Linear(in_features=768, out_features=768, bias=True)\n",
              "              (LayerNorm): LayerNorm((768,), eps=1e-12, elementwise_affine=True)\n",
              "              (dropout): Dropout(p=0.1, inplace=False)\n",
              "            )\n",
              "          )\n",
              "          (intermediate): LayoutLMIntermediate(\n",
              "            (dense): Linear(in_features=768, out_features=3072, bias=True)\n",
              "          )\n",
              "          (output): LayoutLMOutput(\n",
              "            (dense): Linear(in_features=3072, out_features=768, bias=True)\n",
              "            (LayerNorm): LayerNorm((768,), eps=1e-12, elementwise_affine=True)\n",
              "            (dropout): Dropout(p=0.1, inplace=False)\n",
              "          )\n",
              "        )\n",
              "        (9): LayoutLMLayer(\n",
              "          (attention): LayoutLMAttention(\n",
              "            (self): LayoutLMSelfAttention(\n",
              "              (query): Linear(in_features=768, out_features=768, bias=True)\n",
              "              (key): Linear(in_features=768, out_features=768, bias=True)\n",
              "              (value): Linear(in_features=768, out_features=768, bias=True)\n",
              "              (dropout): Dropout(p=0.1, inplace=False)\n",
              "            )\n",
              "            (output): LayoutLMSelfOutput(\n",
              "              (dense): Linear(in_features=768, out_features=768, bias=True)\n",
              "              (LayerNorm): LayerNorm((768,), eps=1e-12, elementwise_affine=True)\n",
              "              (dropout): Dropout(p=0.1, inplace=False)\n",
              "            )\n",
              "          )\n",
              "          (intermediate): LayoutLMIntermediate(\n",
              "            (dense): Linear(in_features=768, out_features=3072, bias=True)\n",
              "          )\n",
              "          (output): LayoutLMOutput(\n",
              "            (dense): Linear(in_features=3072, out_features=768, bias=True)\n",
              "            (LayerNorm): LayerNorm((768,), eps=1e-12, elementwise_affine=True)\n",
              "            (dropout): Dropout(p=0.1, inplace=False)\n",
              "          )\n",
              "        )\n",
              "        (10): LayoutLMLayer(\n",
              "          (attention): LayoutLMAttention(\n",
              "            (self): LayoutLMSelfAttention(\n",
              "              (query): Linear(in_features=768, out_features=768, bias=True)\n",
              "              (key): Linear(in_features=768, out_features=768, bias=True)\n",
              "              (value): Linear(in_features=768, out_features=768, bias=True)\n",
              "              (dropout): Dropout(p=0.1, inplace=False)\n",
              "            )\n",
              "            (output): LayoutLMSelfOutput(\n",
              "              (dense): Linear(in_features=768, out_features=768, bias=True)\n",
              "              (LayerNorm): LayerNorm((768,), eps=1e-12, elementwise_affine=True)\n",
              "              (dropout): Dropout(p=0.1, inplace=False)\n",
              "            )\n",
              "          )\n",
              "          (intermediate): LayoutLMIntermediate(\n",
              "            (dense): Linear(in_features=768, out_features=3072, bias=True)\n",
              "          )\n",
              "          (output): LayoutLMOutput(\n",
              "            (dense): Linear(in_features=3072, out_features=768, bias=True)\n",
              "            (LayerNorm): LayerNorm((768,), eps=1e-12, elementwise_affine=True)\n",
              "            (dropout): Dropout(p=0.1, inplace=False)\n",
              "          )\n",
              "        )\n",
              "        (11): LayoutLMLayer(\n",
              "          (attention): LayoutLMAttention(\n",
              "            (self): LayoutLMSelfAttention(\n",
              "              (query): Linear(in_features=768, out_features=768, bias=True)\n",
              "              (key): Linear(in_features=768, out_features=768, bias=True)\n",
              "              (value): Linear(in_features=768, out_features=768, bias=True)\n",
              "              (dropout): Dropout(p=0.1, inplace=False)\n",
              "            )\n",
              "            (output): LayoutLMSelfOutput(\n",
              "              (dense): Linear(in_features=768, out_features=768, bias=True)\n",
              "              (LayerNorm): LayerNorm((768,), eps=1e-12, elementwise_affine=True)\n",
              "              (dropout): Dropout(p=0.1, inplace=False)\n",
              "            )\n",
              "          )\n",
              "          (intermediate): LayoutLMIntermediate(\n",
              "            (dense): Linear(in_features=768, out_features=3072, bias=True)\n",
              "          )\n",
              "          (output): LayoutLMOutput(\n",
              "            (dense): Linear(in_features=3072, out_features=768, bias=True)\n",
              "            (LayerNorm): LayerNorm((768,), eps=1e-12, elementwise_affine=True)\n",
              "            (dropout): Dropout(p=0.1, inplace=False)\n",
              "          )\n",
              "        )\n",
              "      )\n",
              "    )\n",
              "    (pooler): LayoutLMPooler(\n",
              "      (dense): Linear(in_features=768, out_features=768, bias=True)\n",
              "      (activation): Tanh()\n",
              "    )\n",
              "  )\n",
              "  (dropout): Dropout(p=0.1, inplace=False)\n",
              "  (classifier): Linear(in_features=768, out_features=13, bias=True)\n",
              ")"
            ]
          },
          "metadata": {
            "tags": []
          },
          "execution_count": 57
        }
      ]
    },
    {
      "cell_type": "markdown",
      "metadata": {
        "id": "3weFr_pz1mla"
      },
      "source": [
        "Now we can start training:"
      ]
    },
    {
      "cell_type": "code",
      "metadata": {
        "colab": {
          "base_uri": "https://localhost:8080/"
        },
        "id": "Yu0qePs2cRKo",
        "outputId": "e72bc03f-e2c6-461a-f4a9-d4b5104ade4e"
      },
      "source": [
        "from transformers import AdamW\n",
        "from tqdm import tqdm\n",
        "\n",
        "optimizer = AdamW(model.parameters(), lr=5e-5)\n",
        "\n",
        "global_step = 0\n",
        "num_train_epochs = 5\n",
        "t_total = len(train_dataloader) * num_train_epochs # total number of training steps \n",
        "\n",
        "#put the model in training mode\n",
        "model.train()\n",
        "for epoch in range(num_train_epochs):\n",
        "  for batch in tqdm(train_dataloader, desc=\"Training\"):\n",
        "      input_ids = batch[0].to(device)\n",
        "      bbox = batch[4].to(device)\n",
        "      attention_mask = batch[1].to(device)\n",
        "      token_type_ids = batch[2].to(device)\n",
        "      labels = batch[3].to(device)\n",
        "\n",
        "      # forward pass\n",
        "      outputs = model(input_ids=input_ids, bbox=bbox, attention_mask=attention_mask, token_type_ids=token_type_ids,\n",
        "                      labels=labels)\n",
        "      loss = outputs.loss\n",
        "\n",
        "      # print loss every 100 steps\n",
        "      if global_step % 100 == 0:\n",
        "        print(f\"Loss after {global_step} steps: {loss.item()}\")\n",
        "\n",
        "      # backward pass to get the gradients \n",
        "      loss.backward()\n",
        "\n",
        "      #print(\"Gradients on classification head:\")\n",
        "      #print(model.classifier.weight.grad[6,:].sum())\n",
        "\n",
        "      # update\n",
        "      optimizer.step()\n",
        "      optimizer.zero_grad()\n",
        "      global_step += 1"
      ],
      "execution_count": 58,
      "outputs": [
        {
          "output_type": "stream",
          "text": [
            "Training:   1%|▏         | 1/75 [00:00<00:20,  3.61it/s]"
          ],
          "name": "stderr"
        },
        {
          "output_type": "stream",
          "text": [
            "Loss after 0 steps: 2.6402077674865723\n"
          ],
          "name": "stdout"
        },
        {
          "output_type": "stream",
          "text": [
            "Training: 100%|██████████| 75/75 [00:17<00:00,  4.28it/s]\n",
            "Training:  35%|███▍      | 26/75 [00:06<00:11,  4.20it/s]"
          ],
          "name": "stderr"
        },
        {
          "output_type": "stream",
          "text": [
            "Loss after 100 steps: 0.7568863034248352\n"
          ],
          "name": "stdout"
        },
        {
          "output_type": "stream",
          "text": [
            "Training: 100%|██████████| 75/75 [00:18<00:00,  4.16it/s]\n",
            "Training:  68%|██████▊   | 51/75 [00:12<00:05,  4.16it/s]"
          ],
          "name": "stderr"
        },
        {
          "output_type": "stream",
          "text": [
            "Loss after 200 steps: 0.4761190414428711\n"
          ],
          "name": "stdout"
        },
        {
          "output_type": "stream",
          "text": [
            "Training: 100%|██████████| 75/75 [00:18<00:00,  4.14it/s]\n",
            "Training: 100%|██████████| 75/75 [00:17<00:00,  4.25it/s]\n",
            "Training:   1%|▏         | 1/75 [00:00<00:16,  4.50it/s]"
          ],
          "name": "stderr"
        },
        {
          "output_type": "stream",
          "text": [
            "Loss after 300 steps: 0.25621047616004944\n"
          ],
          "name": "stdout"
        },
        {
          "output_type": "stream",
          "text": [
            "Training: 100%|██████████| 75/75 [00:17<00:00,  4.28it/s]\n"
          ],
          "name": "stderr"
        }
      ]
    },
    {
      "cell_type": "code",
      "metadata": {
        "colab": {
          "base_uri": "https://localhost:8080/"
        },
        "id": "u1rNslap5Y3N",
        "outputId": "a43f8ab2-38f8-4b58-b3fb-0ce3e8907ddd"
      },
      "source": [
        "import numpy as np\n",
        "from seqeval.metrics import (\n",
        "    classification_report,\n",
        "    f1_score,\n",
        "    precision_score,\n",
        "    recall_score,\n",
        ")\n",
        "\n",
        "eval_loss = 0.0\n",
        "nb_eval_steps = 0\n",
        "preds = None\n",
        "out_label_ids = None\n",
        "\n",
        "# put model in evaluation mode\n",
        "model.eval()\n",
        "for batch in tqdm(eval_dataloader, desc=\"Evaluating\"):\n",
        "    with torch.no_grad():\n",
        "        input_ids = batch[0].to(device)\n",
        "        bbox = batch[4].to(device)\n",
        "        attention_mask = batch[1].to(device)\n",
        "        token_type_ids = batch[2].to(device)\n",
        "        labels = batch[3].to(device)\n",
        "\n",
        "        # forward pass\n",
        "        outputs = model(input_ids=input_ids, bbox=bbox, attention_mask=attention_mask, token_type_ids=token_type_ids,\n",
        "                        labels=labels)\n",
        "        # get the loss and logits\n",
        "        tmp_eval_loss = outputs.loss\n",
        "        logits = outputs.logits\n",
        "\n",
        "        eval_loss += tmp_eval_loss.item()\n",
        "        nb_eval_steps += 1\n",
        "\n",
        "        # compute the predictions\n",
        "        if preds is None:\n",
        "            preds = logits.detach().cpu().numpy()\n",
        "            out_label_ids = labels.detach().cpu().numpy()\n",
        "        else:\n",
        "            preds = np.append(preds, logits.detach().cpu().numpy(), axis=0)\n",
        "            out_label_ids = np.append(\n",
        "                out_label_ids, labels.detach().cpu().numpy(), axis=0\n",
        "            )\n",
        "\n",
        "# compute average evaluation loss\n",
        "eval_loss = eval_loss / nb_eval_steps\n",
        "preds = np.argmax(preds, axis=2)\n",
        "\n",
        "out_label_list = [[] for _ in range(out_label_ids.shape[0])]\n",
        "preds_list = [[] for _ in range(out_label_ids.shape[0])]\n",
        "\n",
        "for i in range(out_label_ids.shape[0]):\n",
        "    for j in range(out_label_ids.shape[1]):\n",
        "        if out_label_ids[i, j] != pad_token_label_id:\n",
        "            out_label_list[i].append(label_map[out_label_ids[i][j]])\n",
        "            preds_list[i].append(label_map[preds[i][j]])\n",
        "\n",
        "results = {\n",
        "    \"loss\": eval_loss,\n",
        "    \"precision\": precision_score(out_label_list, preds_list),\n",
        "    \"recall\": recall_score(out_label_list, preds_list),\n",
        "    \"f1\": f1_score(out_label_list, preds_list),\n",
        "}\n",
        "print(results)"
      ],
      "execution_count": 59,
      "outputs": [
        {
          "output_type": "stream",
          "text": [
            "Evaluating: 100%|██████████| 26/26 [00:02<00:00, 12.99it/s]\n"
          ],
          "name": "stderr"
        },
        {
          "output_type": "stream",
          "text": [
            "{'loss': 0.9320071431306692, 'precision': 0.7137078651685393, 'recall': 0.7943971985992997, 'f1': 0.7518939393939394}\n"
          ],
          "name": "stdout"
        }
      ]
    },
    {
      "cell_type": "code",
      "metadata": {
        "colab": {
          "base_uri": "https://localhost:8080/"
        },
        "id": "xgrZ8pENAZHD",
        "outputId": "7de8d531-76de-48ed-df3e-1ddf9bf31975"
      },
      "source": [
        "!sudo apt install tesseract-ocr\n",
        "!pip install pytesseract"
      ],
      "execution_count": 60,
      "outputs": [
        {
          "output_type": "stream",
          "text": [
            "Reading package lists... Done\n",
            "Building dependency tree       \n",
            "Reading state information... Done\n",
            "tesseract-ocr is already the newest version (4.00~git2288-10f4998a-2).\n",
            "0 upgraded, 0 newly installed, 0 to remove and 40 not upgraded.\n",
            "Requirement already satisfied: pytesseract in /usr/local/lib/python3.7/dist-packages (0.3.8)\n",
            "Requirement already satisfied: Pillow in /usr/local/lib/python3.7/dist-packages (from pytesseract) (7.1.2)\n"
          ],
          "name": "stdout"
        }
      ]
    },
    {
      "cell_type": "code",
      "metadata": {
        "id": "l_7dmPC64Dfd",
        "colab": {
          "base_uri": "https://localhost:8080/",
          "height": 176
        },
        "outputId": "0f8c0860-4e6b-4759-95c2-23a1e88b3956"
      },
      "source": [
        "import pytesseract\n",
        "\n",
        "#image = Image.open('/content/form_example.jpg')\n",
        "image = Image.open(\"table.png\")\n",
        "image = image.convert(\"RGB\")\n",
        "image"
      ],
      "execution_count": 61,
      "outputs": [
        {
          "output_type": "execute_result",
          "data": {
            "image/png": "[encoded data removed]",
            "text/plain": [
              "<PIL.Image.Image image mode=RGB size=333x159 at 0x7F6ECF56A210>"
            ]
          },
          "metadata": {
            "tags": []
          },
          "execution_count": 61
        }
      ]
    },
    {
      "cell_type": "code",
      "metadata": {
        "colab": {
          "base_uri": "https://localhost:8080/",
          "height": 689
        },
        "id": "QPJlJJX0AYE7",
        "outputId": "e7b77ca1-311b-4ca2-ee16-e6c808d5dde6"
      },
      "source": [
        "import numpy as np\n",
        "\n",
        "width, height = image.size\n",
        "w_scale = 1000/width\n",
        "h_scale = 1000/height\n",
        "\n",
        "ocr_df = pytesseract.image_to_data(image, output_type='data.frame') \\\n",
        "            \n",
        "ocr_df = ocr_df.dropna() \\\n",
        "               .assign(left_scaled = ocr_df.left*w_scale,\n",
        "                       width_scaled = ocr_df.width*w_scale,\n",
        "                       top_scaled = ocr_df.top*h_scale,\n",
        "                       height_scaled = ocr_df.height*h_scale,\n",
        "                       right_scaled = lambda x: x.left_scaled + x.width_scaled,\n",
        "                       bottom_scaled = lambda x: x.top_scaled + x.height_scaled)\n",
        "\n",
        "float_cols = ocr_df.select_dtypes('float').columns\n",
        "ocr_df[float_cols] = ocr_df[float_cols].round(0).astype(int)\n",
        "ocr_df = ocr_df.replace(r'^\\s*$', np.nan, regex=True)\n",
        "ocr_df = ocr_df.dropna().reset_index(drop=True)\n",
        "ocr_df[:20]"
      ],
      "execution_count": 62,
      "outputs": [
        {
          "output_type": "execute_result",
          "data": {
            "text/html": [
              "<div>\n",
              "<style scoped>\n",
              "    .dataframe tbody tr th:only-of-type {\n",
              "        vertical-align: middle;\n",
              "    }\n",
              "\n",
              "    .dataframe tbody tr th {\n",
              "        vertical-align: top;\n",
              "    }\n",
              "\n",
              "    .dataframe thead th {\n",
              "        text-align: right;\n",
              "    }\n",
              "</style>\n",
              "<table border=\"1\" class=\"dataframe\">\n",
              "  <thead>\n",
              "    <tr style=\"text-align: right;\">\n",
              "      <th></th>\n",
              "      <th>level</th>\n",
              "      <th>page_num</th>\n",
              "      <th>block_num</th>\n",
              "      <th>par_num</th>\n",
              "      <th>line_num</th>\n",
              "      <th>word_num</th>\n",
              "      <th>left</th>\n",
              "      <th>top</th>\n",
              "      <th>width</th>\n",
              "      <th>height</th>\n",
              "      <th>conf</th>\n",
              "      <th>text</th>\n",
              "      <th>left_scaled</th>\n",
              "      <th>width_scaled</th>\n",
              "      <th>top_scaled</th>\n",
              "      <th>height_scaled</th>\n",
              "      <th>right_scaled</th>\n",
              "      <th>bottom_scaled</th>\n",
              "    </tr>\n",
              "  </thead>\n",
              "  <tbody>\n",
              "    <tr>\n",
              "      <th>0</th>\n",
              "      <td>5</td>\n",
              "      <td>1</td>\n",
              "      <td>8</td>\n",
              "      <td>1</td>\n",
              "      <td>1</td>\n",
              "      <td>1</td>\n",
              "      <td>62</td>\n",
              "      <td>6</td>\n",
              "      <td>10</td>\n",
              "      <td>11</td>\n",
              "      <td>95</td>\n",
              "      <td>A</td>\n",
              "      <td>186</td>\n",
              "      <td>30</td>\n",
              "      <td>38</td>\n",
              "      <td>69</td>\n",
              "      <td>216</td>\n",
              "      <td>107</td>\n",
              "    </tr>\n",
              "    <tr>\n",
              "      <th>1</th>\n",
              "      <td>5</td>\n",
              "      <td>1</td>\n",
              "      <td>8</td>\n",
              "      <td>1</td>\n",
              "      <td>1</td>\n",
              "      <td>2</td>\n",
              "      <td>135</td>\n",
              "      <td>6</td>\n",
              "      <td>9</td>\n",
              "      <td>11</td>\n",
              "      <td>92</td>\n",
              "      <td>B</td>\n",
              "      <td>405</td>\n",
              "      <td>27</td>\n",
              "      <td>38</td>\n",
              "      <td>69</td>\n",
              "      <td>432</td>\n",
              "      <td>107</td>\n",
              "    </tr>\n",
              "    <tr>\n",
              "      <th>2</th>\n",
              "      <td>5</td>\n",
              "      <td>1</td>\n",
              "      <td>8</td>\n",
              "      <td>1</td>\n",
              "      <td>1</td>\n",
              "      <td>3</td>\n",
              "      <td>206</td>\n",
              "      <td>6</td>\n",
              "      <td>10</td>\n",
              "      <td>11</td>\n",
              "      <td>44</td>\n",
              "      <td>Cc</td>\n",
              "      <td>619</td>\n",
              "      <td>30</td>\n",
              "      <td>38</td>\n",
              "      <td>69</td>\n",
              "      <td>649</td>\n",
              "      <td>107</td>\n",
              "    </tr>\n",
              "    <tr>\n",
              "      <th>3</th>\n",
              "      <td>5</td>\n",
              "      <td>1</td>\n",
              "      <td>8</td>\n",
              "      <td>1</td>\n",
              "      <td>1</td>\n",
              "      <td>4</td>\n",
              "      <td>284</td>\n",
              "      <td>6</td>\n",
              "      <td>10</td>\n",
              "      <td>11</td>\n",
              "      <td>77</td>\n",
              "      <td>D</td>\n",
              "      <td>853</td>\n",
              "      <td>30</td>\n",
              "      <td>38</td>\n",
              "      <td>69</td>\n",
              "      <td>883</td>\n",
              "      <td>107</td>\n",
              "    </tr>\n",
              "    <tr>\n",
              "      <th>4</th>\n",
              "      <td>5</td>\n",
              "      <td>1</td>\n",
              "      <td>8</td>\n",
              "      <td>1</td>\n",
              "      <td>2</td>\n",
              "      <td>1</td>\n",
              "      <td>2</td>\n",
              "      <td>26</td>\n",
              "      <td>28</td>\n",
              "      <td>15</td>\n",
              "      <td>49</td>\n",
              "      <td>“1</td>\n",
              "      <td>6</td>\n",
              "      <td>84</td>\n",
              "      <td>164</td>\n",
              "      <td>94</td>\n",
              "      <td>90</td>\n",
              "      <td>258</td>\n",
              "    </tr>\n",
              "    <tr>\n",
              "      <th>5</th>\n",
              "      <td>5</td>\n",
              "      <td>1</td>\n",
              "      <td>8</td>\n",
              "      <td>1</td>\n",
              "      <td>2</td>\n",
              "      <td>2</td>\n",
              "      <td>34</td>\n",
              "      <td>26</td>\n",
              "      <td>30</td>\n",
              "      <td>11</td>\n",
              "      <td>55</td>\n",
              "      <td>Date</td>\n",
              "      <td>102</td>\n",
              "      <td>90</td>\n",
              "      <td>164</td>\n",
              "      <td>69</td>\n",
              "      <td>192</td>\n",
              "      <td>233</td>\n",
              "    </tr>\n",
              "    <tr>\n",
              "      <th>6</th>\n",
              "      <td>5</td>\n",
              "      <td>1</td>\n",
              "      <td>8</td>\n",
              "      <td>1</td>\n",
              "      <td>2</td>\n",
              "      <td>3</td>\n",
              "      <td>128</td>\n",
              "      <td>26</td>\n",
              "      <td>44</td>\n",
              "      <td>14</td>\n",
              "      <td>84</td>\n",
              "      <td>Apples</td>\n",
              "      <td>384</td>\n",
              "      <td>132</td>\n",
              "      <td>164</td>\n",
              "      <td>88</td>\n",
              "      <td>517</td>\n",
              "      <td>252</td>\n",
              "    </tr>\n",
              "    <tr>\n",
              "      <th>7</th>\n",
              "      <td>5</td>\n",
              "      <td>1</td>\n",
              "      <td>8</td>\n",
              "      <td>1</td>\n",
              "      <td>2</td>\n",
              "      <td>4</td>\n",
              "      <td>188</td>\n",
              "      <td>26</td>\n",
              "      <td>56</td>\n",
              "      <td>14</td>\n",
              "      <td>84</td>\n",
              "      <td>Oranges</td>\n",
              "      <td>565</td>\n",
              "      <td>168</td>\n",
              "      <td>164</td>\n",
              "      <td>88</td>\n",
              "      <td>733</td>\n",
              "      <td>252</td>\n",
              "    </tr>\n",
              "    <tr>\n",
              "      <th>8</th>\n",
              "      <td>5</td>\n",
              "      <td>1</td>\n",
              "      <td>8</td>\n",
              "      <td>1</td>\n",
              "      <td>2</td>\n",
              "      <td>5</td>\n",
              "      <td>263</td>\n",
              "      <td>26</td>\n",
              "      <td>29</td>\n",
              "      <td>11</td>\n",
              "      <td>56</td>\n",
              "      <td>Total</td>\n",
              "      <td>790</td>\n",
              "      <td>87</td>\n",
              "      <td>164</td>\n",
              "      <td>69</td>\n",
              "      <td>877</td>\n",
              "      <td>233</td>\n",
              "    </tr>\n",
              "    <tr>\n",
              "      <th>9</th>\n",
              "      <td>5</td>\n",
              "      <td>1</td>\n",
              "      <td>8</td>\n",
              "      <td>1</td>\n",
              "      <td>2</td>\n",
              "      <td>6</td>\n",
              "      <td>293</td>\n",
              "      <td>26</td>\n",
              "      <td>35</td>\n",
              "      <td>11</td>\n",
              "      <td>90</td>\n",
              "      <td>Fruit</td>\n",
              "      <td>880</td>\n",
              "      <td>105</td>\n",
              "      <td>164</td>\n",
              "      <td>69</td>\n",
              "      <td>985</td>\n",
              "      <td>233</td>\n",
              "    </tr>\n",
              "    <tr>\n",
              "      <th>10</th>\n",
              "      <td>5</td>\n",
              "      <td>1</td>\n",
              "      <td>8</td>\n",
              "      <td>1</td>\n",
              "      <td>3</td>\n",
              "      <td>1</td>\n",
              "      <td>2</td>\n",
              "      <td>45</td>\n",
              "      <td>87</td>\n",
              "      <td>15</td>\n",
              "      <td>0</td>\n",
              "      <td>26/1/2012</td>\n",
              "      <td>6</td>\n",
              "      <td>261</td>\n",
              "      <td>283</td>\n",
              "      <td>94</td>\n",
              "      <td>267</td>\n",
              "      <td>377</td>\n",
              "    </tr>\n",
              "    <tr>\n",
              "      <th>11</th>\n",
              "      <td>5</td>\n",
              "      <td>1</td>\n",
              "      <td>8</td>\n",
              "      <td>1</td>\n",
              "      <td>3</td>\n",
              "      <td>2</td>\n",
              "      <td>149</td>\n",
              "      <td>45</td>\n",
              "      <td>23</td>\n",
              "      <td>11</td>\n",
              "      <td>82</td>\n",
              "      <td>125</td>\n",
              "      <td>447</td>\n",
              "      <td>69</td>\n",
              "      <td>283</td>\n",
              "      <td>69</td>\n",
              "      <td>517</td>\n",
              "      <td>352</td>\n",
              "    </tr>\n",
              "    <tr>\n",
              "      <th>12</th>\n",
              "      <td>5</td>\n",
              "      <td>1</td>\n",
              "      <td>8</td>\n",
              "      <td>1</td>\n",
              "      <td>3</td>\n",
              "      <td>3</td>\n",
              "      <td>228</td>\n",
              "      <td>45</td>\n",
              "      <td>16</td>\n",
              "      <td>11</td>\n",
              "      <td>80</td>\n",
              "      <td>75</td>\n",
              "      <td>685</td>\n",
              "      <td>48</td>\n",
              "      <td>283</td>\n",
              "      <td>69</td>\n",
              "      <td>733</td>\n",
              "      <td>352</td>\n",
              "    </tr>\n",
              "    <tr>\n",
              "      <th>13</th>\n",
              "      <td>5</td>\n",
              "      <td>1</td>\n",
              "      <td>8</td>\n",
              "      <td>1</td>\n",
              "      <td>3</td>\n",
              "      <td>4</td>\n",
              "      <td>304</td>\n",
              "      <td>45</td>\n",
              "      <td>24</td>\n",
              "      <td>11</td>\n",
              "      <td>95</td>\n",
              "      <td>200</td>\n",
              "      <td>913</td>\n",
              "      <td>72</td>\n",
              "      <td>283</td>\n",
              "      <td>69</td>\n",
              "      <td>985</td>\n",
              "      <td>352</td>\n",
              "    </tr>\n",
              "    <tr>\n",
              "      <th>14</th>\n",
              "      <td>5</td>\n",
              "      <td>1</td>\n",
              "      <td>8</td>\n",
              "      <td>1</td>\n",
              "      <td>4</td>\n",
              "      <td>1</td>\n",
              "      <td>2</td>\n",
              "      <td>64</td>\n",
              "      <td>28</td>\n",
              "      <td>15</td>\n",
              "      <td>0</td>\n",
              "      <td>3</td>\n",
              "      <td>6</td>\n",
              "      <td>84</td>\n",
              "      <td>403</td>\n",
              "      <td>94</td>\n",
              "      <td>90</td>\n",
              "      <td>497</td>\n",
              "    </tr>\n",
              "    <tr>\n",
              "      <th>15</th>\n",
              "      <td>5</td>\n",
              "      <td>1</td>\n",
              "      <td>8</td>\n",
              "      <td>1</td>\n",
              "      <td>4</td>\n",
              "      <td>2</td>\n",
              "      <td>33</td>\n",
              "      <td>64</td>\n",
              "      <td>56</td>\n",
              "      <td>11</td>\n",
              "      <td>44</td>\n",
              "      <td>6/2/2012</td>\n",
              "      <td>99</td>\n",
              "      <td>168</td>\n",
              "      <td>403</td>\n",
              "      <td>69</td>\n",
              "      <td>267</td>\n",
              "      <td>472</td>\n",
              "    </tr>\n",
              "    <tr>\n",
              "      <th>16</th>\n",
              "      <td>5</td>\n",
              "      <td>1</td>\n",
              "      <td>8</td>\n",
              "      <td>1</td>\n",
              "      <td>4</td>\n",
              "      <td>3</td>\n",
              "      <td>149</td>\n",
              "      <td>64</td>\n",
              "      <td>23</td>\n",
              "      <td>11</td>\n",
              "      <td>86</td>\n",
              "      <td>118</td>\n",
              "      <td>447</td>\n",
              "      <td>69</td>\n",
              "      <td>403</td>\n",
              "      <td>69</td>\n",
              "      <td>517</td>\n",
              "      <td>472</td>\n",
              "    </tr>\n",
              "    <tr>\n",
              "      <th>17</th>\n",
              "      <td>5</td>\n",
              "      <td>1</td>\n",
              "      <td>8</td>\n",
              "      <td>1</td>\n",
              "      <td>4</td>\n",
              "      <td>4</td>\n",
              "      <td>228</td>\n",
              "      <td>64</td>\n",
              "      <td>16</td>\n",
              "      <td>11</td>\n",
              "      <td>80</td>\n",
              "      <td>84</td>\n",
              "      <td>685</td>\n",
              "      <td>48</td>\n",
              "      <td>403</td>\n",
              "      <td>69</td>\n",
              "      <td>733</td>\n",
              "      <td>472</td>\n",
              "    </tr>\n",
              "    <tr>\n",
              "      <th>18</th>\n",
              "      <td>5</td>\n",
              "      <td>1</td>\n",
              "      <td>8</td>\n",
              "      <td>1</td>\n",
              "      <td>4</td>\n",
              "      <td>5</td>\n",
              "      <td>304</td>\n",
              "      <td>64</td>\n",
              "      <td>24</td>\n",
              "      <td>11</td>\n",
              "      <td>91</td>\n",
              "      <td>202</td>\n",
              "      <td>913</td>\n",
              "      <td>72</td>\n",
              "      <td>403</td>\n",
              "      <td>69</td>\n",
              "      <td>985</td>\n",
              "      <td>472</td>\n",
              "    </tr>\n",
              "    <tr>\n",
              "      <th>19</th>\n",
              "      <td>5</td>\n",
              "      <td>1</td>\n",
              "      <td>8</td>\n",
              "      <td>1</td>\n",
              "      <td>5</td>\n",
              "      <td>1</td>\n",
              "      <td>2</td>\n",
              "      <td>83</td>\n",
              "      <td>28</td>\n",
              "      <td>15</td>\n",
              "      <td>0</td>\n",
              "      <td>4</td>\n",
              "      <td>6</td>\n",
              "      <td>84</td>\n",
              "      <td>522</td>\n",
              "      <td>94</td>\n",
              "      <td>90</td>\n",
              "      <td>616</td>\n",
              "    </tr>\n",
              "  </tbody>\n",
              "</table>\n",
              "</div>"
            ],
            "text/plain": [
              "    level  page_num  block_num  ...  height_scaled  right_scaled  bottom_scaled\n",
              "0       5         1          8  ...             69           216            107\n",
              "1       5         1          8  ...             69           432            107\n",
              "2       5         1          8  ...             69           649            107\n",
              "3       5         1          8  ...             69           883            107\n",
              "4       5         1          8  ...             94            90            258\n",
              "5       5         1          8  ...             69           192            233\n",
              "6       5         1          8  ...             88           517            252\n",
              "7       5         1          8  ...             88           733            252\n",
              "8       5         1          8  ...             69           877            233\n",
              "9       5         1          8  ...             69           985            233\n",
              "10      5         1          8  ...             94           267            377\n",
              "11      5         1          8  ...             69           517            352\n",
              "12      5         1          8  ...             69           733            352\n",
              "13      5         1          8  ...             69           985            352\n",
              "14      5         1          8  ...             94            90            497\n",
              "15      5         1          8  ...             69           267            472\n",
              "16      5         1          8  ...             69           517            472\n",
              "17      5         1          8  ...             69           733            472\n",
              "18      5         1          8  ...             69           985            472\n",
              "19      5         1          8  ...             94            90            616\n",
              "\n",
              "[20 rows x 18 columns]"
            ]
          },
          "metadata": {
            "tags": []
          },
          "execution_count": 62
        }
      ]
    },
    {
      "cell_type": "code",
      "metadata": {
        "colab": {
          "base_uri": "https://localhost:8080/"
        },
        "id": "ozxEGUSdGkkH",
        "outputId": "9d396e55-b300-4b3a-80f3-44244b496abb"
      },
      "source": [
        "len(ocr_df)"
      ],
      "execution_count": 63,
      "outputs": [
        {
          "output_type": "execute_result",
          "data": {
            "text/plain": [
              "39"
            ]
          },
          "metadata": {
            "tags": []
          },
          "execution_count": 63
        }
      ]
    },
    {
      "cell_type": "code",
      "metadata": {
        "colab": {
          "base_uri": "https://localhost:8080/"
        },
        "id": "qoB1uEtOP_2H",
        "outputId": "c4659d8a-03ff-4bf1-88d2-385f8813ea45"
      },
      "source": [
        "words = list(ocr_df.text)\n",
        "coordinates = ocr_df[['left', 'top', 'width', 'height']]\n",
        "actual_boxes = []\n",
        "for idx, row in coordinates.iterrows():\n",
        "  x, y, w, h = tuple(row) # the row comes in (left, top, width, height) format\n",
        "  actual_box = [x, y, x+w, y+h] # we turn it into (left, top, left+widght, top+height) to get the actual box \n",
        "  actual_boxes.append(actual_box)\n",
        "\n",
        "def normalize_box(box, width, height):\n",
        "    return [\n",
        "        int(1000 * (box[0] / width)),\n",
        "        int(1000 * (box[1] / height)),\n",
        "        int(1000 * (box[2] / width)),\n",
        "        int(1000 * (box[3] / height)),\n",
        "    ]\n",
        "\n",
        "boxes = []\n",
        "for box in actual_boxes:\n",
        "  boxes.append(normalize_box(box, width, height))\n",
        "boxes"
      ],
      "execution_count": 64,
      "outputs": [
        {
          "output_type": "execute_result",
          "data": {
            "text/plain": [
              "[[186, 37, 216, 106],\n",
              " [405, 37, 432, 106],\n",
              " [618, 37, 648, 106],\n",
              " [852, 37, 882, 106],\n",
              " [6, 163, 90, 257],\n",
              " [102, 163, 192, 232],\n",
              " [384, 163, 516, 251],\n",
              " [564, 163, 732, 251],\n",
              " [789, 163, 876, 232],\n",
              " [879, 163, 984, 232],\n",
              " [6, 283, 267, 377],\n",
              " [447, 283, 516, 352],\n",
              " [684, 283, 732, 352],\n",
              " [912, 283, 984, 352],\n",
              " [6, 402, 90, 496],\n",
              " [99, 402, 267, 471],\n",
              " [447, 402, 516, 471],\n",
              " [684, 402, 732, 471],\n",
              " [912, 402, 984, 471],\n",
              " [6, 522, 90, 616],\n",
              " [99, 522, 267, 591],\n",
              " [447, 522, 516, 591],\n",
              " [684, 522, 732, 591],\n",
              " [912, 522, 984, 591],\n",
              " [6, 641, 90, 735],\n",
              " [99, 641, 267, 710],\n",
              " [447, 641, 516, 710],\n",
              " [684, 641, 732, 710],\n",
              " [915, 641, 984, 710],\n",
              " [6, 761, 90, 855],\n",
              " [99, 761, 267, 830],\n",
              " [468, 761, 516, 830],\n",
              " [684, 761, 732, 830],\n",
              " [915, 761, 984, 830],\n",
              " [6, 880, 90, 974],\n",
              " [99, 880, 267, 949],\n",
              " [447, 880, 516, 949],\n",
              " [684, 880, 732, 949],\n",
              " [912, 880, 984, 949]]"
            ]
          },
          "metadata": {
            "tags": []
          },
          "execution_count": 64
        }
      ]
    },
    {
      "cell_type": "code",
      "metadata": {
        "id": "eDEh152kB-LE"
      },
      "source": [
        "def convert_example_to_features(image, words, boxes, actual_boxes, tokenizer, args, cls_token_box=[0, 0, 0, 0],\n",
        "                                 sep_token_box=[1000, 1000, 1000, 1000],\n",
        "                                 pad_token_box=[0, 0, 0, 0]):\n",
        "      width, height = image.size\n",
        "\n",
        "      tokens = []\n",
        "      token_boxes = []\n",
        "      actual_bboxes = [] # we use an extra b because actual_boxes is already used\n",
        "      token_actual_boxes = []\n",
        "      for word, box, actual_bbox in zip(words, boxes, actual_boxes):\n",
        "          word_tokens = tokenizer.tokenize(word)\n",
        "          tokens.extend(word_tokens)\n",
        "          token_boxes.extend([box] * len(word_tokens))\n",
        "          actual_bboxes.extend([actual_bbox] * len(word_tokens))\n",
        "          token_actual_boxes.extend([actual_bbox] * len(word_tokens))\n",
        "\n",
        "      # Truncation: account for [CLS] and [SEP] with \"- 2\". \n",
        "      special_tokens_count = 2 \n",
        "      if len(tokens) > args.max_seq_length - special_tokens_count:\n",
        "          tokens = tokens[: (args.max_seq_length - special_tokens_count)]\n",
        "          token_boxes = token_boxes[: (args.max_seq_length - special_tokens_count)]\n",
        "          actual_bboxes = actual_bboxes[: (args.max_seq_length - special_tokens_count)]\n",
        "          token_actual_boxes = token_actual_boxes[: (args.max_seq_length - special_tokens_count)]\n",
        "\n",
        "      # add [SEP] token, with corresponding token boxes and actual boxes\n",
        "      tokens += [tokenizer.sep_token]\n",
        "      token_boxes += [sep_token_box]\n",
        "      actual_bboxes += [[0, 0, width, height]]\n",
        "      token_actual_boxes += [[0, 0, width, height]]\n",
        "      \n",
        "      segment_ids = [0] * len(tokens)\n",
        "\n",
        "      # next: [CLS] token\n",
        "      tokens = [tokenizer.cls_token] + tokens\n",
        "      token_boxes = [cls_token_box] + token_boxes\n",
        "      actual_bboxes = [[0, 0, width, height]] + actual_bboxes\n",
        "      token_actual_boxes = [[0, 0, width, height]] + token_actual_boxes\n",
        "      segment_ids = [1] + segment_ids\n",
        "\n",
        "      input_ids = tokenizer.convert_tokens_to_ids(tokens)\n",
        "\n",
        "      # The mask has 1 for real tokens and 0 for padding tokens. Only real\n",
        "      # tokens are attended to.\n",
        "      input_mask = [1] * len(input_ids)\n",
        "\n",
        "      # Zero-pad up to the sequence length.\n",
        "      padding_length = args.max_seq_length - len(input_ids)\n",
        "      input_ids += [tokenizer.pad_token_id] * padding_length\n",
        "      input_mask += [0] * padding_length\n",
        "      segment_ids += [tokenizer.pad_token_id] * padding_length\n",
        "      token_boxes += [pad_token_box] * padding_length\n",
        "      token_actual_boxes += [pad_token_box] * padding_length\n",
        "\n",
        "      assert len(input_ids) == args.max_seq_length\n",
        "      assert len(input_mask) == args.max_seq_length\n",
        "      assert len(segment_ids) == args.max_seq_length\n",
        "      #assert len(label_ids) == args.max_seq_length\n",
        "      assert len(token_boxes) == args.max_seq_length\n",
        "      assert len(token_actual_boxes) == args.max_seq_length\n",
        "      \n",
        "      return input_ids, input_mask, segment_ids, token_boxes, token_actual_boxes"
      ],
      "execution_count": 65,
      "outputs": []
    },
    {
      "cell_type": "code",
      "metadata": {
        "id": "Omze6dqfUTH-"
      },
      "source": [
        "input_ids, input_mask, segment_ids, token_boxes, token_actual_boxes = convert_example_to_features(image=image, words=words, boxes=boxes, actual_boxes=actual_boxes, tokenizer=tokenizer, args=args)"
      ],
      "execution_count": 66,
      "outputs": []
    },
    {
      "cell_type": "code",
      "metadata": {
        "colab": {
          "base_uri": "https://localhost:8080/",
          "height": 171
        },
        "id": "6oE3rFL2WJDB",
        "outputId": "1cab6415-a655-43b6-dc52-06472e82553a"
      },
      "source": [
        "tokenizer.decode(input_ids)"
      ],
      "execution_count": 67,
      "outputs": [
        {
          "output_type": "execute_result",
          "data": {
            "application/vnd.google.colaboratory.intrinsic+json": {
              "type": "string"
            },
            "text/plain": [
              "'[CLS] a b cc d “ 1 date apples oranges total fruit 26 / 1 / 2012 125 75 200 3 6 / 2 / 2012 118 84 202 4 6 / 3 / 2012 164 72 236 5 6 / 4 / 2012 114 65 179 “ 6 6 / 5 / 2012 98 96 194 “ 7 662012 172 82 254 [SEP] [PAD] [PAD] [PAD] [PAD] [PAD] [PAD] [PAD] [PAD] [PAD] [PAD] [PAD] [PAD] [PAD] [PAD] [PAD] [PAD] [PAD] [PAD] [PAD] [PAD] [PAD] [PAD] [PAD] [PAD] [PAD] [PAD] [PAD] [PAD] [PAD] [PAD] [PAD] [PAD] [PAD] [PAD] [PAD] [PAD] [PAD] [PAD] [PAD] [PAD] [PAD] [PAD] [PAD] [PAD] [PAD] [PAD] [PAD] [PAD] [PAD] [PAD] [PAD] [PAD] [PAD] [PAD] [PAD] [PAD] [PAD] [PAD] [PAD] [PAD] [PAD] [PAD] [PAD] [PAD] [PAD] [PAD] [PAD] [PAD] [PAD] [PAD] [PAD] [PAD] [PAD] [PAD] [PAD] [PAD] [PAD] [PAD] [PAD] [PAD] [PAD] [PAD] [PAD] [PAD] [PAD] [PAD] [PAD] [PAD] [PAD] [PAD] [PAD] [PAD] [PAD] [PAD] [PAD] [PAD] [PAD] [PAD] [PAD] [PAD] [PAD] [PAD] [PAD] [PAD] [PAD] [PAD] [PAD] [PAD] [PAD] [PAD] [PAD] [PAD] [PAD] [PAD] [PAD] [PAD] [PAD] [PAD] [PAD] [PAD] [PAD] [PAD] [PAD] [PAD] [PAD] [PAD] [PAD] [PAD] [PAD] [PAD] [PAD] [PAD] [PAD] [PAD] [PAD] [PAD] [PAD] [PAD] [PAD] [PAD] [PAD] [PAD] [PAD] [PAD] [PAD] [PAD] [PAD] [PAD] [PAD] [PAD] [PAD] [PAD] [PAD] [PAD] [PAD] [PAD] [PAD] [PAD] [PAD] [PAD] [PAD] [PAD] [PAD] [PAD] [PAD] [PAD] [PAD] [PAD] [PAD] [PAD] [PAD] [PAD] [PAD] [PAD] [PAD] [PAD] [PAD] [PAD] [PAD] [PAD] [PAD] [PAD] [PAD] [PAD] [PAD] [PAD] [PAD] [PAD] [PAD] [PAD] [PAD] [PAD] [PAD] [PAD] [PAD] [PAD] [PAD] [PAD] [PAD] [PAD] [PAD] [PAD] [PAD] [PAD] [PAD] [PAD] [PAD] [PAD] [PAD] [PAD] [PAD] [PAD] [PAD] [PAD] [PAD] [PAD] [PAD] [PAD] [PAD] [PAD] [PAD] [PAD] [PAD] [PAD] [PAD] [PAD] [PAD] [PAD] [PAD] [PAD] [PAD] [PAD] [PAD] [PAD] [PAD] [PAD] [PAD] [PAD] [PAD] [PAD] [PAD] [PAD] [PAD] [PAD] [PAD] [PAD] [PAD] [PAD] [PAD] [PAD] [PAD] [PAD] [PAD] [PAD] [PAD] [PAD] [PAD] [PAD] [PAD] [PAD] [PAD] [PAD] [PAD] [PAD] [PAD] [PAD] [PAD] [PAD] [PAD] [PAD] [PAD] [PAD] [PAD] [PAD] [PAD] [PAD] [PAD] [PAD] [PAD] [PAD] [PAD] [PAD] [PAD] [PAD] [PAD] [PAD] [PAD] [PAD] [PAD] [PAD] [PAD] [PAD] [PAD] [PAD] [PAD] [PAD] [PAD] [PAD] [PAD] [PAD] [PAD] [PAD] [PAD] [PAD] [PAD] [PAD] [PAD] [PAD] [PAD] [PAD] [PAD] [PAD] [PAD] [PAD] [PAD] [PAD] [PAD] [PAD] [PAD] [PAD] [PAD] [PAD] [PAD] [PAD] [PAD] [PAD] [PAD] [PAD] [PAD] [PAD] [PAD] [PAD] [PAD] [PAD] [PAD] [PAD] [PAD] [PAD] [PAD] [PAD] [PAD] [PAD] [PAD] [PAD] [PAD] [PAD] [PAD] [PAD] [PAD] [PAD] [PAD] [PAD] [PAD] [PAD] [PAD] [PAD] [PAD] [PAD] [PAD] [PAD] [PAD] [PAD] [PAD] [PAD] [PAD] [PAD] [PAD] [PAD] [PAD] [PAD] [PAD] [PAD] [PAD] [PAD] [PAD] [PAD] [PAD] [PAD] [PAD] [PAD] [PAD] [PAD] [PAD] [PAD] [PAD] [PAD] [PAD] [PAD] [PAD] [PAD] [PAD] [PAD] [PAD] [PAD] [PAD] [PAD] [PAD] [PAD] [PAD] [PAD] [PAD] [PAD] [PAD] [PAD] [PAD] [PAD] [PAD] [PAD] [PAD] [PAD] [PAD] [PAD] [PAD] [PAD] [PAD] [PAD] [PAD] [PAD] [PAD] [PAD] [PAD] [PAD] [PAD] [PAD] [PAD] [PAD] [PAD] [PAD] [PAD] [PAD] [PAD] [PAD] [PAD] [PAD] [PAD] [PAD] [PAD] [PAD] [PAD] [PAD] [PAD] [PAD] [PAD] [PAD] [PAD]'"
            ]
          },
          "metadata": {
            "tags": []
          },
          "execution_count": 67
        }
      ]
    },
    {
      "cell_type": "code",
      "metadata": {
        "colab": {
          "base_uri": "https://localhost:8080/"
        },
        "id": "9QrrjzMA6Xps",
        "outputId": "e182d63c-d8fb-4d24-bdcd-3fd0d9752464"
      },
      "source": [
        "input_ids = torch.tensor(input_ids, device=device).unsqueeze(0)\n",
        "input_ids.shape"
      ],
      "execution_count": 68,
      "outputs": [
        {
          "output_type": "execute_result",
          "data": {
            "text/plain": [
              "torch.Size([1, 512])"
            ]
          },
          "metadata": {
            "tags": []
          },
          "execution_count": 68
        }
      ]
    },
    {
      "cell_type": "code",
      "metadata": {
        "colab": {
          "base_uri": "https://localhost:8080/"
        },
        "id": "0ZSUel096fFd",
        "outputId": "eda98f90-2408-47cc-a5cc-f0d2e868f96c"
      },
      "source": [
        "attention_mask = torch.tensor(input_mask, device=device).unsqueeze(0)\n",
        "attention_mask.shape"
      ],
      "execution_count": 69,
      "outputs": [
        {
          "output_type": "execute_result",
          "data": {
            "text/plain": [
              "torch.Size([1, 512])"
            ]
          },
          "metadata": {
            "tags": []
          },
          "execution_count": 69
        }
      ]
    },
    {
      "cell_type": "code",
      "metadata": {
        "colab": {
          "base_uri": "https://localhost:8080/"
        },
        "id": "pyux4BmV6jEw",
        "outputId": "d12ad72f-a456-4422-b810-0a4ab0e29cb7"
      },
      "source": [
        "token_type_ids = torch.tensor(segment_ids, device=device).unsqueeze(0)\n",
        "token_type_ids.shape"
      ],
      "execution_count": 70,
      "outputs": [
        {
          "output_type": "execute_result",
          "data": {
            "text/plain": [
              "torch.Size([1, 512])"
            ]
          },
          "metadata": {
            "tags": []
          },
          "execution_count": 70
        }
      ]
    },
    {
      "cell_type": "code",
      "metadata": {
        "colab": {
          "base_uri": "https://localhost:8080/"
        },
        "id": "UoicSudS6p2m",
        "outputId": "baede5cc-467b-49d1-e3e5-e01fe2a80a1a"
      },
      "source": [
        "bbox = torch.tensor(token_boxes, device=device).unsqueeze(0)\n",
        "bbox.shape"
      ],
      "execution_count": 71,
      "outputs": [
        {
          "output_type": "execute_result",
          "data": {
            "text/plain": [
              "torch.Size([1, 512, 4])"
            ]
          },
          "metadata": {
            "tags": []
          },
          "execution_count": 71
        }
      ]
    },
    {
      "cell_type": "code",
      "metadata": {
        "colab": {
          "base_uri": "https://localhost:8080/"
        },
        "id": "5Y-_7Wqb51U9",
        "outputId": "b24c1084-47e9-4816-acfa-a3daf3b53c2c"
      },
      "source": [
        "outputs = model(input_ids=input_ids, bbox=bbox, attention_mask=attention_mask, token_type_ids=token_type_ids)\n",
        "outputs"
      ],
      "execution_count": 72,
      "outputs": [
        {
          "output_type": "execute_result",
          "data": {
            "text/plain": [
              "TokenClassifierOutput([('logits',\n",
              "                        tensor([[[ 0.0517,  0.5357,  0.1174,  ..., -0.1240,  0.7892,  0.2090],\n",
              "                                 [-1.4537, -1.1743, -1.0124,  ...,  3.2039,  1.1001,  2.3099],\n",
              "                                 [-1.5793, -1.3578, -1.1317,  ...,  2.9963,  1.0980,  2.7002],\n",
              "                                 ...,\n",
              "                                 [ 0.5686, -1.1434,  0.1444,  ..., -0.3216, -0.9766, -0.8898],\n",
              "                                 [ 0.4768, -0.5077,  0.6939,  ..., -0.5367, -1.0811, -1.2145],\n",
              "                                 [-0.2199, -1.2232, -0.6040,  ..., -0.1759, -1.3235, -1.3541]]],\n",
              "                               device='cuda:0', grad_fn=<AddBackward0>))])"
            ]
          },
          "metadata": {
            "tags": []
          },
          "execution_count": 72
        }
      ]
    },
    {
      "cell_type": "code",
      "metadata": {
        "colab": {
          "base_uri": "https://localhost:8080/"
        },
        "id": "KLcMfJH26ozs",
        "outputId": "35e44aef-0b14-45cd-a132-d176e4b06471"
      },
      "source": [
        "outputs.logits.shape"
      ],
      "execution_count": 73,
      "outputs": [
        {
          "output_type": "execute_result",
          "data": {
            "text/plain": [
              "torch.Size([1, 512, 13])"
            ]
          },
          "metadata": {
            "tags": []
          },
          "execution_count": 73
        }
      ]
    },
    {
      "cell_type": "code",
      "metadata": {
        "colab": {
          "base_uri": "https://localhost:8080/"
        },
        "id": "s0dBXbhdJnz4",
        "outputId": "f7224c3e-40bf-446e-c504-2818d89ac98c"
      },
      "source": [
        "outputs.logits.argmax(-1)"
      ],
      "execution_count": 74,
      "outputs": [
        {
          "output_type": "execute_result",
          "data": {
            "text/plain": [
              "tensor([[ 7, 10, 10,  9,  9,  2, 12, 12, 12, 12, 12, 12, 12, 10,  9, 10, 10, 10,\n",
              "         10, 10, 10, 10, 10,  9, 10,  3, 10, 10, 10, 10, 10, 10,  9, 10,  3, 10,\n",
              "         10, 10, 10,  9,  9,  9, 10,  3, 10, 10, 10, 10,  9,  9,  9,  9,  9,  3,\n",
              "          3,  9,  9,  9,  9,  9,  9,  9,  9,  9,  9,  9,  7,  9,  9,  9,  9,  9,\n",
              "          9,  9,  9,  9,  9,  9,  9,  9,  9,  9,  9,  9,  9,  9,  9,  9,  9,  9,\n",
              "          9,  9,  9,  9,  9,  9,  9,  9,  9,  9,  9,  9,  9,  9,  9,  9,  9,  9,\n",
              "          9,  9,  9,  9,  9,  9,  9,  9,  9,  9,  9,  9,  9,  9,  9,  9,  9,  9,\n",
              "          9,  9,  9,  9,  9,  9,  9,  9,  9,  9,  9,  9,  9,  9,  9,  9,  9,  9,\n",
              "          9,  9,  9,  9,  9,  9,  9,  9,  9,  9,  9,  9,  9,  9,  9,  9,  9,  9,\n",
              "          9,  9,  9,  9,  9,  9,  9,  9,  9,  9,  9,  9,  9,  9,  9,  9,  9,  9,\n",
              "          9,  9,  9,  9,  9,  9,  9,  9,  9,  9,  9,  9,  9,  9,  9,  9,  9,  9,\n",
              "          9,  9,  9,  9,  9,  9,  9,  9,  9,  9,  9,  9,  9,  9,  9,  9,  9,  9,\n",
              "          9,  9,  9,  9,  9,  9,  9,  9,  9,  9,  9,  9,  9,  9,  9,  9,  9,  9,\n",
              "          9,  9,  9,  9,  9,  9,  9,  9,  9,  9,  9,  9,  9,  9,  9,  9,  9,  9,\n",
              "          9,  9,  9,  9,  9,  9,  9,  9,  9,  9,  9,  9,  9,  9,  9,  9,  9,  9,\n",
              "          9,  9,  9,  9,  9,  9,  9,  9,  9,  9,  9,  9,  9,  9,  9,  9,  9,  9,\n",
              "          9,  9,  9,  9,  9,  9,  9,  9,  9,  9,  9,  9,  9,  9,  9,  9,  9,  9,\n",
              "          9,  9,  9,  9,  9,  9,  9,  9,  9,  9,  9,  9,  9,  9,  9,  9,  9,  9,\n",
              "          9,  9,  9,  9,  9,  9,  9,  9,  9,  9,  9,  9,  9,  9,  9,  9,  9,  9,\n",
              "          9,  9,  9,  9,  9,  9,  9,  9,  9,  9,  9,  9,  9,  9,  9,  9,  9,  9,\n",
              "          9,  9,  9,  9,  9,  9,  9,  9,  9,  9,  9,  9,  9,  9,  9,  9,  9,  9,\n",
              "          9,  9,  9,  9,  9,  9,  9,  9,  9,  9,  9,  9,  9,  9,  9,  9,  9,  9,\n",
              "          9,  9,  9,  9,  9,  9,  9,  9,  9,  9,  9,  9,  9,  9,  9,  9,  9,  9,\n",
              "          9,  9,  9,  9,  9,  9,  9,  9,  9,  9,  9,  9,  9,  9,  9,  9,  9,  9,\n",
              "          9,  9,  9,  9,  9,  9,  9,  9,  9,  9,  9,  9,  9,  9,  9,  9,  9,  9,\n",
              "          9,  9,  9,  9,  9,  9,  9,  9,  9,  9,  9,  9,  9,  9,  9,  9,  9,  9,\n",
              "          9,  9,  9,  9,  9,  9,  9,  9,  9,  9,  9,  9,  9,  9,  9,  9,  9,  9,\n",
              "          9,  9,  9,  9,  9,  9,  9,  9,  9,  9,  9,  9,  9,  9,  9,  9,  9,  9,\n",
              "          9,  9,  9,  9,  9,  9,  9,  9]], device='cuda:0')"
            ]
          },
          "metadata": {
            "tags": []
          },
          "execution_count": 74
        }
      ]
    },
    {
      "cell_type": "code",
      "metadata": {
        "colab": {
          "base_uri": "https://localhost:8080/"
        },
        "id": "5I5CiV1WM2sW",
        "outputId": "2233a337-83ef-4da3-865d-064ac9c7719a"
      },
      "source": [
        "token_predictions = outputs.logits.argmax(-1).squeeze().tolist() # the predictions are at the token level\n",
        "\n",
        "word_level_predictions = [] # let's turn them into word level predictions\n",
        "final_boxes = []\n",
        "for id, token_pred, box in zip(input_ids.squeeze().tolist(), token_predictions, token_actual_boxes):\n",
        "  if (tokenizer.decode([id]).startswith(\"##\")) or (id in [tokenizer.cls_token_id, \n",
        "                                                           tokenizer.sep_token_id, \n",
        "                                                          tokenizer.pad_token_id]):\n",
        "    # skip prediction + bounding box\n",
        "\n",
        "    continue\n",
        "  else:\n",
        "    word_level_predictions.append(token_pred)\n",
        "    final_boxes.append(box)\n",
        "\n",
        "# for id, prediction in zip(input_ids.squeeze().tolist(), predictions):\n",
        "#   if id != 0:\n",
        "#     print(tokenizer.decode([id]), label_map[prediction])\n",
        "print(word_level_predictions)"
      ],
      "execution_count": 75,
      "outputs": [
        {
          "output_type": "stream",
          "text": [
            "[10, 10, 9, 9, 2, 12, 12, 12, 12, 12, 12, 10, 9, 10, 10, 10, 10, 10, 10, 10, 10, 9, 10, 3, 10, 10, 10, 10, 10, 10, 9, 10, 3, 10, 10, 10, 10, 9, 9, 9, 10, 3, 10, 10, 10, 10, 9, 9, 9, 9, 9, 3, 3, 9, 9, 9, 9, 9, 9, 9, 9, 9]\n"
          ],
          "name": "stdout"
        }
      ]
    },
    {
      "cell_type": "code",
      "metadata": {
        "colab": {
          "base_uri": "https://localhost:8080/"
        },
        "id": "I5W_2CxhOzzM",
        "outputId": "294c4f12-d835-4782-b282-0de74861bfc5"
      },
      "source": [
        "print(len(word_level_predictions))"
      ],
      "execution_count": 76,
      "outputs": [
        {
          "output_type": "stream",
          "text": [
            "62\n"
          ],
          "name": "stdout"
        }
      ]
    },
    {
      "cell_type": "code",
      "metadata": {
        "colab": {
          "base_uri": "https://localhost:8080/"
        },
        "id": "9WQaKPBnVl-L",
        "outputId": "245192f5-7da7-4a03-bca7-e9f16abab950"
      },
      "source": [
        "print(len(final_boxes))"
      ],
      "execution_count": 77,
      "outputs": [
        {
          "output_type": "stream",
          "text": [
            "62\n"
          ],
          "name": "stdout"
        }
      ]
    },
    {
      "cell_type": "code",
      "metadata": {
        "colab": {
          "base_uri": "https://localhost:8080/",
          "height": 176
        },
        "id": "vm3sGnBsL64o",
        "outputId": "a2a23bb9-0414-4fef-81bf-dcdf7a4327b5"
      },
      "source": [
        "draw = ImageDraw.Draw(image)\n",
        "\n",
        "font = ImageFont.load_default()\n",
        "\n",
        "def iob_to_label(label):\n",
        "  if label != 'O':\n",
        "    return label[2:]\n",
        "  else:\n",
        "    return \"other\"\n",
        "\n",
        "label2color = {'question':'blue', 'answer':'green', 'header':'orange', 'other':'violet'}\n",
        "\n",
        "for prediction, box in zip(word_level_predictions, final_boxes):\n",
        "    predicted_label = iob_to_label(label_map[prediction]).lower()\n",
        "    draw.rectangle(box, outline=label2color[predicted_label])\n",
        "    draw.text((box[0] + 10, box[1] - 10), text=predicted_label, fill=label2color[predicted_label], font=font)\n",
        "\n",
        "image"
      ],
      "execution_count": 78,
      "outputs": [
        {
          "output_type": "execute_result",
          "data": {
            "image/png": "[encoded data removed]",
            "text/plain": [
              "<PIL.Image.Image image mode=RGB size=333x159 at 0x7F6ECF56A210>"
            ]
          },
          "metadata": {
            "tags": []
          },
          "execution_count": 78
        }
      ]
    },
    {
      "cell_type": "markdown",
      "metadata": {
        "id": "fg7C1_PReCXU"
      },
      "source": [
        "Compare this to the ground truth:"
      ]
    },
    {
      "cell_type": "code",
      "metadata": {
        "colab": {
          "base_uri": "https://localhost:8080/"
        },
        "id": "xyh19IBHwy_x",
        "outputId": "afd5ae59-5654-4e1f-e55c-16ad6fa9d9be"
      },
      "source": [
        "import json\n",
        "\n",
        "with open('/content/data/testing_data/annotations/83443897.json') as f:\n",
        "  data = json.load(f)\n",
        "\n",
        "for annotation in data['form']:\n",
        "  print(annotation)"
      ],
      "execution_count": 79,
      "outputs": [
        {
          "output_type": "stream",
          "text": [
            "{'box': [91, 223, 127, 238], 'text': 'DATE:', 'label': 'question', 'words': [{'box': [91, 223, 127, 238], 'text': 'DATE:'}], 'linking': [[0, 15]], 'id': 0}\n",
            "{'box': [89, 313, 153, 330], 'text': 'COMPANY:', 'label': 'question', 'words': [{'box': [89, 313, 153, 330], 'text': 'COMPANY:'}], 'linking': [[1, 18]], 'id': 1}\n",
            "{'box': [91, 366, 134, 384], 'text': 'PHONE:', 'label': 'question', 'words': [{'box': [91, 366, 134, 384], 'text': 'PHONE:'}], 'linking': [[2, 20]], 'id': 2}\n",
            "{'box': [88, 402, 129, 417], 'text': 'FROM:', 'label': 'question', 'words': [{'box': [88, 402, 129, 417], 'text': 'FROM:'}], 'linking': [[3, 21]], 'id': 3}\n",
            "{'box': [91, 432, 136, 446], 'text': 'PHONE:', 'label': 'question', 'words': [{'box': [91, 432, 136, 446], 'text': 'PHONE:'}], 'linking': [[4, 22]], 'id': 4}\n",
            "{'box': [87, 483, 150, 497], 'text': 'MESSAGE:', 'label': 'question', 'words': [{'box': [87, 483, 150, 497], 'text': 'MESSAGE:'}], 'linking': [[5, 29], [5, 28]], 'id': 5}\n",
            "{'box': [486, 461, 513, 475], 'text': 'YES', 'label': 'question', 'words': [{'box': [486, 461, 513, 475], 'text': 'YES'}], 'linking': [[27, 6]], 'id': 6}\n",
            "{'box': [571, 462, 592, 475], 'text': 'NO', 'label': 'question', 'words': [{'box': [571, 462, 592, 475], 'text': 'NO'}], 'linking': [[27, 7], [7, 9]], 'id': 7}\n",
            "{'box': [278, 459, 292, 472], 'text': '2', 'label': 'answer', 'words': [{'box': [278, 459, 292, 472], 'text': '2'}], 'linking': [[26, 8]], 'id': 8}\n",
            "{'box': [547, 461, 562, 475], 'text': 'X', 'label': 'answer', 'words': [{'box': [547, 461, 562, 475], 'text': 'X'}], 'linking': [[7, 9]], 'id': 9}\n",
            "{'box': [670, 782, 694, 891], 'text': '83443897', 'label': 'other', 'words': [{'box': [670, 782, 694, 891], 'text': '83443897'}], 'linking': [], 'id': 10}\n",
            "{'text': \"JAN 11 '99 16: 29 FR 8220\", 'box': [89, 63, 248, 78], 'linking': [], 'label': 'other', 'words': [{'text': 'JAN', 'box': [89, 67, 113, 78]}, {'text': '11', 'box': [117, 67, 131, 77]}, {'text': \"'99\", 'box': [137, 67, 158, 77]}, {'text': '16:', 'box': [161, 64, 178, 77]}, {'text': '29', 'box': [179, 64, 197, 77]}, {'text': 'FR', 'box': [200, 63, 215, 77]}, {'text': '8220', 'box': [219, 64, 248, 77]}], 'id': 11}\n",
            "{'text': 'TO 3212128557HC02N P. 01', 'box': [434, 60, 588, 74], 'linking': [], 'label': 'other', 'words': [{'text': 'TO', 'box': [434, 61, 448, 72]}, {'text': '3212128557HC02N', 'box': [453, 60, 556, 74]}, {'text': 'P.', 'box': [560, 60, 574, 73]}, {'text': '01', 'box': [574, 60, 588, 70]}], 'id': 12}\n",
            "{'text': 'DICKSTEIN SHAPIRO MORING OSHINSKY ', 'box': [511, 126, 591, 208], 'linking': [], 'label': 'other', 'words': [{'text': 'DICKSTEIN', 'box': [511, 126, 591, 146]}, {'text': 'SHAPIRO', 'box': [511, 144, 589, 166]}, {'text': 'MORING', 'box': [511, 163, 591, 184]}, {'text': 'OSHINSKY', 'box': [513, 182, 591, 200]}, {'text': '', 'box': [574, 200, 591, 208]}], 'id': 13}\n",
            "{'text': 'FAX TRANSMISSION', 'box': [94, 108, 315, 131], 'linking': [], 'label': 'header', 'words': [{'text': 'FAX', 'box': [94, 110, 139, 131]}, {'text': 'TRANSMISSION', 'box': [142, 108, 315, 130]}], 'id': 14}\n",
            "{'text': 'January 11, 1999', 'box': [177, 221, 282, 240], 'linking': [[0, 15]], 'label': 'answer', 'words': [{'text': 'January', 'box': [177, 222, 224, 240]}, {'text': '11,', 'box': [228, 221, 249, 239]}, {'text': '1999', 'box': [250, 222, 282, 239]}], 'id': 15}\n",
            "{'text': 'L8557 002', 'box': [179, 249, 247, 266], 'linking': [[23, 16]], 'label': 'answer', 'words': [{'text': 'L8557', 'box': [179, 249, 224, 264]}, {'text': '002', 'box': [223, 249, 247, 266]}], 'id': 16}\n",
            "{'text': 'Dewey Tedder', 'box': [179, 284, 268, 304], 'linking': [[24, 17]], 'label': 'answer', 'words': [{'text': 'Dewey', 'box': [179, 285, 221, 302]}, {'text': 'Tedder', 'box': [221, 284, 268, 304]}], 'id': 17}\n",
            "{'text': 'Lorillard Tobacco Company', 'box': [179, 311, 343, 331], 'linking': [[1, 18]], 'label': 'answer', 'words': [{'text': 'Lorillard', 'box': [179, 313, 232, 330]}, {'text': 'Tobacco', 'box': [233, 311, 285, 328]}, {'text': 'Company', 'box': [286, 313, 343, 331]}], 'id': 18}\n",
            "{'text': '336/ 373- 6917', 'box': [179, 339, 270, 357], 'linking': [[25, 19]], 'label': 'answer', 'words': [{'text': '336/', 'box': [179, 341, 213, 355]}, {'text': '373-', 'box': [212, 339, 240, 357]}, {'text': '6917', 'box': [239, 341, 270, 355]}], 'id': 19}\n",
            "{'text': '336/ 373- 6750', 'box': [177, 367, 270, 385], 'linking': [[2, 20]], 'label': 'answer', 'words': [{'text': '336/', 'box': [177, 367, 211, 385]}, {'text': '373-', 'box': [209, 369, 238, 382]}, {'text': '6750', 'box': [239, 367, 270, 384]}], 'id': 20}\n",
            "{'text': 'Andy Zausner and Rob Mangas', 'box': [175, 402, 361, 421], 'linking': [[3, 21]], 'label': 'answer', 'words': [{'text': 'Andy', 'box': [175, 404, 211, 421]}, {'text': 'Zausner', 'box': [212, 405, 261, 419]}, {'text': 'and', 'box': [263, 405, 285, 420]}, {'text': 'Rob', 'box': [288, 402, 313, 420]}, {'text': 'Mangas', 'box': [316, 405, 361, 420]}], 'id': 21}\n",
            "{'text': '202/ 828- 2259 and 202/ 828 2241', 'box': [175, 430, 380, 448], 'linking': [[4, 22]], 'label': 'answer', 'words': [{'text': '202/', 'box': [175, 433, 211, 447]}, {'text': '828-', 'box': [211, 433, 239, 447]}, {'text': '2259', 'box': [237, 432, 269, 447]}, {'text': 'and', 'box': [270, 432, 294, 447]}, {'text': '202/', 'box': [295, 430, 327, 447]}, {'text': '828', 'box': [325, 430, 353, 447]}, {'text': '2241', 'box': [352, 433, 380, 448]}], 'id': 22}\n",
            "{'text': 'CLIENT NO.:', 'box': [89, 250, 162, 265], 'linking': [[23, 16]], 'label': 'question', 'words': [{'text': 'CLIENT', 'box': [89, 250, 132, 265]}, {'text': 'NO.:', 'box': [134, 251, 162, 265]}], 'id': 23}\n",
            "{'text': 'MESSAGE TO:', 'box': [89, 285, 171, 303], 'linking': [[24, 17]], 'label': 'question', 'words': [{'text': 'MESSAGE', 'box': [89, 285, 149, 303]}, {'text': 'TO:', 'box': [151, 288, 171, 301]}], 'id': 24}\n",
            "{'text': 'FAX NUMBER:', 'box': [89, 342, 171, 357], 'linking': [[25, 19]], 'label': 'question', 'words': [{'text': 'FAX', 'box': [89, 342, 114, 355]}, {'text': 'NUMBER:', 'box': [117, 342, 171, 357]}], 'id': 25}\n",
            "{'text': 'PAGES (including Cover Sheet):', 'box': [88, 459, 264, 475], 'linking': [[26, 8]], 'label': 'question', 'words': [{'text': 'PAGES', 'box': [88, 459, 129, 472]}, {'text': '(including', 'box': [133, 461, 187, 475]}, {'text': 'Cover', 'box': [189, 459, 224, 474]}, {'text': 'Sheet):', 'box': [225, 461, 264, 474]}], 'id': 26}\n",
            "{'text': 'HARD COPY TO FOLLOW', 'box': [307, 461, 451, 475], 'linking': [[27, 6], [27, 7]], 'label': 'header', 'words': [{'text': 'HARD', 'box': [307, 461, 342, 474]}, {'text': 'COPY', 'box': [344, 461, 375, 475]}, {'text': 'TO', 'box': [376, 461, 394, 474]}, {'text': 'FOLLOW', 'box': [395, 462, 451, 475]}], 'id': 27}\n",
            "{'text': 'JAN 1 2 1999', 'box': [451, 567, 526, 585], 'linking': [[5, 28]], 'label': 'answer', 'words': [{'text': 'JAN', 'box': [451, 568, 472, 585]}, {'text': '1', 'box': [479, 567, 486, 581]}, {'text': '2', 'box': [489, 567, 497, 584]}, {'text': '1999', 'box': [501, 570, 526, 584]}], 'id': 28}\n",
            "{'text': 'The following is for your review', 'box': [156, 485, 331, 502], 'linking': [[5, 29]], 'label': 'answer', 'words': [{'text': 'The', 'box': [156, 486, 180, 499]}, {'text': 'following', 'box': [182, 485, 234, 500]}, {'text': 'is', 'box': [233, 486, 244, 499]}, {'text': 'for', 'box': [246, 486, 264, 500]}, {'text': 'your', 'box': [264, 487, 289, 502]}, {'text': 'review', 'box': [292, 487, 331, 500]}], 'id': 29}\n",
            "{'text': 'If your receipt of this transmission is in error, please notify this firm immediately by collect call to our Facsimile Department at 202- 861- 9106, and send the original transmission to us by return mail at the address below.', 'box': [154, 700, 591, 747], 'linking': [], 'label': 'other', 'words': [{'text': 'If', 'box': [154, 700, 168, 714]}, {'text': 'your', 'box': [168, 703, 195, 716]}, {'text': 'receipt', 'box': [196, 701, 235, 715]}, {'text': 'of', 'box': [235, 703, 249, 714]}, {'text': 'this', 'box': [250, 701, 270, 716]}, {'text': 'transmission', 'box': [271, 701, 335, 714]}, {'text': 'is', 'box': [339, 703, 347, 714]}, {'text': 'in', 'box': [349, 703, 360, 714]}, {'text': 'error,', 'box': [362, 705, 393, 715]}, {'text': 'please', 'box': [394, 703, 428, 716]}, {'text': 'notify', 'box': [429, 703, 461, 716]}, {'text': 'this', 'box': [462, 703, 482, 716]}, {'text': 'firm', 'box': [483, 701, 507, 714]}, {'text': 'immediately', 'box': [508, 701, 575, 715]}, {'text': 'by', 'box': [577, 701, 591, 715]}, {'text': 'collect', 'box': [155, 716, 190, 729]}, {'text': 'call', 'box': [193, 715, 214, 729]}, {'text': 'to', 'box': [214, 718, 228, 729]}, {'text': 'our', 'box': [229, 719, 249, 730]}, {'text': 'Facsimile', 'box': [250, 716, 300, 730]}, {'text': 'Department', 'box': [302, 715, 366, 732]}, {'text': 'at', 'box': [366, 719, 379, 729]}, {'text': '202-', 'box': [381, 716, 405, 729]}, {'text': '861-', 'box': [406, 718, 430, 729]}, {'text': '9106,', 'box': [430, 715, 462, 730]}, {'text': 'and', 'box': [465, 718, 485, 731]}, {'text': 'send', 'box': [486, 718, 513, 729]}, {'text': 'the', 'box': [514, 716, 532, 729]}, {'text': 'original', 'box': [534, 716, 576, 733]}, {'text': 'transmission', 'box': [156, 732, 223, 746]}, {'text': 'to', 'box': [225, 733, 238, 744]}, {'text': 'us', 'box': [239, 735, 253, 745]}, {'text': 'by', 'box': [254, 733, 268, 747]}, {'text': 'return', 'box': [271, 735, 306, 745]}, {'text': 'mail', 'box': [306, 732, 328, 746]}, {'text': 'at', 'box': [331, 735, 342, 745]}, {'text': 'the', 'box': [342, 732, 362, 745]}, {'text': 'address', 'box': [363, 733, 402, 746]}, {'text': 'below.', 'box': [402, 732, 440, 745]}], 'id': 30}\n",
            "{'text': 'This transmission is intended for the sole use of the individual and entity to whom it is addressed, and may contain information that is privileged, confidential and exempt from disclosure under applicable law. You are hereby notified that any dissemination, distribution or duplication of this transmission by someone other than the intended addressee or its designated agent is strictly prohibited.', 'box': [154, 757, 601, 810], 'linking': [], 'label': 'other', 'words': [{'text': 'This', 'box': [156, 758, 176, 771]}, {'text': 'transmission', 'box': [179, 760, 232, 771]}, {'text': 'is', 'box': [235, 760, 243, 770]}, {'text': 'intended', 'box': [244, 758, 283, 771]}, {'text': 'for the', 'box': [286, 758, 315, 771]}, {'text': 'sole', 'box': [318, 760, 335, 771]}, {'text': 'use', 'box': [338, 763, 351, 771]}, {'text': 'of', 'box': [355, 760, 365, 770]}, {'text': 'the', 'box': [366, 760, 379, 770]}, {'text': 'individual', 'box': [381, 760, 423, 770]}, {'text': 'and', 'box': [427, 760, 442, 770]}, {'text': 'entity', 'box': [446, 760, 471, 771]}, {'text': 'to', 'box': [473, 761, 483, 769]}, {'text': 'whom', 'box': [485, 760, 514, 771]}, {'text': 'it', 'box': [515, 758, 522, 771]}, {'text': 'is', 'box': [525, 760, 532, 770]}, {'text': 'addressed,', 'box': [535, 757, 581, 772]}, {'text': 'and', 'box': [584, 760, 599, 771]}, {'text': 'may', 'box': [156, 774, 173, 784]}, {'text': 'contain', 'box': [177, 774, 211, 782]}, {'text': 'information', 'box': [214, 772, 266, 783]}, {'text': 'that', 'box': [268, 772, 286, 783]}, {'text': 'is', 'box': [289, 772, 296, 782]}, {'text': 'privileged,', 'box': [300, 772, 346, 785]}, {'text': 'confidential', 'box': [348, 772, 400, 782]}, {'text': 'and', 'box': [401, 774, 418, 784]}, {'text': 'exempt', 'box': [420, 772, 452, 783]}, {'text': 'from', 'box': [454, 772, 476, 783]}, {'text': 'disclosure', 'box': [479, 772, 524, 783]}, {'text': 'under', 'box': [527, 771, 554, 785]}, {'text': 'applicable', 'box': [556, 774, 601, 785]}, {'text': 'law.', 'box': [154, 785, 175, 795]}, {'text': 'You', 'box': [179, 785, 197, 795]}, {'text': 'are', 'box': [201, 786, 214, 794]}, {'text': 'hereby', 'box': [215, 785, 246, 796]}, {'text': 'notified', 'box': [249, 785, 284, 796]}, {'text': 'that', 'box': [285, 785, 303, 795]}, {'text': 'any', 'box': [304, 786, 321, 796]}, {'text': 'dissemination,', 'box': [323, 785, 383, 796]}, {'text': 'distribution', 'box': [385, 785, 437, 795]}, {'text': 'or', 'box': [437, 786, 448, 794]}, {'text': 'duplication', 'box': [450, 784, 499, 797]}, {'text': 'of', 'box': [500, 784, 511, 795]}, {'text': 'this', 'box': [513, 784, 531, 797]}, {'text': 'transmission', 'box': [532, 785, 586, 795]}, {'text': 'by', 'box': [587, 785, 601, 795]}, {'text': 'someone', 'box': [156, 797, 195, 807]}, {'text': 'other', 'box': [197, 797, 222, 808]}, {'text': 'than', 'box': [223, 797, 243, 807]}, {'text': 'the', 'box': [246, 797, 260, 807]}, {'text': 'intended', 'box': [263, 797, 301, 808]}, {'text': 'addressee', 'box': [303, 797, 342, 807]}, {'text': 'or', 'box': [345, 799, 353, 807]}, {'text': 'its', 'box': [356, 797, 367, 807]}, {'text': 'designated', 'box': [369, 797, 414, 808]}, {'text': 'agent', 'box': [416, 797, 443, 808]}, {'text': 'is', 'box': [444, 797, 451, 807]}, {'text': 'strictly', 'box': [453, 797, 482, 808]}, {'text': 'prohibited.', 'box': [483, 797, 530, 810]}], 'id': 31}\n",
            "{'text': '2101 L Street NW Washington, DC 20037- 1526 Tel 202- 785 9700 Fax 202- 887 0689', 'box': [144, 923, 555, 938], 'linking': [], 'label': 'other', 'words': [{'text': '2101', 'box': [144, 926, 168, 937]}, {'text': 'L', 'box': [169, 925, 177, 935]}, {'text': 'Street', 'box': [177, 925, 206, 936]}, {'text': 'NW', 'box': [208, 925, 228, 935]}, {'text': 'Washington,', 'box': [235, 925, 295, 938]}, {'text': 'DC', 'box': [295, 923, 312, 936]}, {'text': '20037-', 'box': [314, 926, 349, 934]}, {'text': '1526', 'box': [348, 925, 370, 936]}, {'text': 'Tel', 'box': [378, 925, 395, 935]}, {'text': '202-', 'box': [395, 923, 417, 936]}, {'text': '785', 'box': [416, 923, 436, 937]}, {'text': '9700', 'box': [434, 923, 459, 936]}, {'text': 'Fax', 'box': [468, 925, 488, 938]}, {'text': '202-', 'box': [490, 925, 511, 936]}, {'text': '887', 'box': [511, 923, 531, 937]}, {'text': '0689', 'box': [531, 923, 555, 934]}], 'id': 32}\n"
          ],
          "name": "stdout"
        }
      ]
    },
    {
      "cell_type": "markdown",
      "metadata": {
        "id": "0TtA3buU0kDZ"
      },
      "source": [
        "Note that we only print the labels for the general bounding boxes, for readability. Each general bounding box consists of one or more bounding boxes, which comprise the individual words:"
      ]
    },
    {
      "cell_type": "code",
      "metadata": {
        "colab": {
          "base_uri": "https://localhost:8080/",
          "height": 176
        },
        "id": "rcInpWH4K-V5",
        "outputId": "46c80222-4e8e-46f9-c73b-3ee848e0305c"
      },
      "source": [
        "image = Image.open(\"table.png\")\n",
        "image = image.convert('RGB')\n",
        "\n",
        "draw = ImageDraw.Draw(image)\n",
        "\n",
        "label2color = {'question':'blue', 'answer':'green', 'header':'orange', 'other':'violet'}\n",
        "\n",
        "for annotation in data['form']:\n",
        "  label = annotation['label']\n",
        "  general_box = annotation['box']\n",
        "  draw.rectangle(general_box, outline=label2color[label], width=2)\n",
        "  draw.text((general_box[0] + 10, general_box[1] - 10), label, fill=label2color[label], font=font)\n",
        "  words = annotation['words']\n",
        "  for word in words:\n",
        "    box = word['box']\n",
        "    draw.rectangle(box, outline=label2color[label], width=1)\n",
        "\n",
        "image"
      ],
      "execution_count": 80,
      "outputs": [
        {
          "output_type": "execute_result",
          "data": {
            "image/png": "[encoded data removed]",
            "text/plain": [
              "<PIL.Image.Image image mode=RGB size=333x159 at 0x7F6ECF57F290>"
            ]
          },
          "metadata": {
            "tags": []
          },
          "execution_count": 80
        }
      ]
    }
  ]
}